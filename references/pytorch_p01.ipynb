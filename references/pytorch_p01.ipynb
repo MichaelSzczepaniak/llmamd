{
 "cells": [
  {
   "cell_type": "code",
   "execution_count": 1,
   "id": "c4e83557-9ca3-4865-bdd4-a0ff8f3554ea",
   "metadata": {
    "scrolled": true
   },
   "outputs": [
    {
     "name": "stdout",
     "output_type": "stream",
     "text": [
      "input_tensor shape: torch.Size([1, 3])\n"
     ]
    },
    {
     "data": {
      "text/plain": [
       "tensor([[ 0.3471,  0.4547, -0.2356]])"
      ]
     },
     "execution_count": 1,
     "metadata": {},
     "output_type": "execute_result"
    }
   ],
   "source": [
    "import torch  # missing from lecture 2, slide 18/35\n",
    "import torch.nn as nn\n",
    "\n",
    "torch.manual_seed(711)\n",
    "\n",
    "## Create input_tensor with three features\n",
    "input_tensor = torch.tensor([[0.3471, 0.4547, -0.2356]])\n",
    "print(f\"input_tensor shape: {input_tensor.shape}\")\n",
    "input_tensor"
   ]
  },
  {
   "cell_type": "code",
   "execution_count": 2,
   "id": "efdcd661-3b6c-42eb-8899-c7923ca5ecb5",
   "metadata": {},
   "outputs": [
    {
     "name": "stdout",
     "output_type": "stream",
     "text": [
      "shape of linear_layer weights: torch.Size([2, 3])\n",
      "shape of linear_layer biases: torch.Size([2])\n",
      "shape of output: torch.Size([1, 2])\n",
      "tensor([[-0.0949, -0.0668]], grad_fn=<AddmmBackward0>)\n"
     ]
    }
   ],
   "source": [
    "# define a linear layer\n",
    "linear_layer = nn.Linear(in_features=3, out_features=2)\n",
    "weights = linear_layer.weight\n",
    "biases = linear_layer.bias\n",
    "print(f\"shape of linear_layer weights: {weights.shape}\")\n",
    "print(f\"shape of linear_layer biases: {biases.shape}\")  # biases are 1D\n",
    "output = linear_layer(input_tensor)\n",
    "print(f\"shape of output: {output.shape}\")\n",
    "print(output)"
   ]
  },
  {
   "cell_type": "markdown",
   "id": "4e632fdb-795a-4df1-b70b-9cdb5272723a",
   "metadata": {},
   "source": [
    "## Understanding what is happening with torch.nn.Linear\n",
    "\n"
   ]
  },
  {
   "cell_type": "code",
   "execution_count": 3,
   "id": "ce8cf544-effc-47bd-8152-e5e1199caf4c",
   "metadata": {},
   "outputs": [
    {
     "data": {
      "text/plain": [
       "Parameter containing:\n",
       "tensor([[ 0.2116,  0.3001, -0.4096],\n",
       "        [-0.1005,  0.2814,  0.1440]], requires_grad=True)"
      ]
     },
     "execution_count": 3,
     "metadata": {},
     "output_type": "execute_result"
    }
   ],
   "source": [
    "weights\n",
    "# Parameter containing:\n",
    "# tensor([[ 0.2116,  0.3001, -0.4096],\n",
    "#         [-0.1005,  0.2814,  0.1440]], requires_grad=True)"
   ]
  },
  {
   "cell_type": "code",
   "execution_count": 4,
   "id": "944069c0-7302-48db-beeb-bf704dd41691",
   "metadata": {},
   "outputs": [
    {
     "data": {
      "text/plain": [
       "Parameter containing:\n",
       "tensor([-0.4013, -0.1259], requires_grad=True)"
      ]
     },
     "execution_count": 4,
     "metadata": {},
     "output_type": "execute_result"
    }
   ],
   "source": [
    "biases"
   ]
  },
  {
   "cell_type": "code",
   "execution_count": 5,
   "id": "781f9e89-9c2a-4859-a9e9-0d5b2837fd45",
   "metadata": {},
   "outputs": [
    {
     "name": "stdout",
     "output_type": "stream",
     "text": [
      "torch.Size([1, 2])\n"
     ]
    },
    {
     "data": {
      "text/plain": [
       "tensor([[-0.4013, -0.1259]], grad_fn=<ViewBackward0>)"
      ]
     },
     "execution_count": 5,
     "metadata": {},
     "output_type": "execute_result"
    }
   ],
   "source": [
    "# make the biases compatible with outputs (1 x 2)\n",
    "biases = torch.reshape(biases, (1, -1))\n",
    "print(biases.shape)\n",
    "biases"
   ]
  },
  {
   "cell_type": "code",
   "execution_count": 6,
   "id": "971ac9c6-6754-4a55-ab71-88578e0df610",
   "metadata": {},
   "outputs": [
    {
     "name": "stdout",
     "output_type": "stream",
     "text": [
      "torch.Size([2, 1])\n"
     ]
    },
    {
     "data": {
      "text/plain": [
       "tensor([[0.3064],\n",
       "        [0.0591]], grad_fn=<MmBackward0>)"
      ]
     },
     "execution_count": 6,
     "metadata": {},
     "output_type": "execute_result"
    }
   ],
   "source": [
    "y1 = torch.mm(weights, torch.t(input_tensor)) # since output is (1 x 2), this is NOT what torch is doing\n",
    "print(y1.shape)\n",
    "y1"
   ]
  },
  {
   "cell_type": "code",
   "execution_count": 7,
   "id": "b5ac95f0-5421-47bb-9e29-f9c308cb0cdb",
   "metadata": {},
   "outputs": [
    {
     "name": "stdout",
     "output_type": "stream",
     "text": [
      "torch.Size([1, 2])\n"
     ]
    },
    {
     "data": {
      "text/plain": [
       "tensor([[0.3064, 0.0591]], grad_fn=<MmBackward0>)"
      ]
     },
     "execution_count": 7,
     "metadata": {},
     "output_type": "execute_result"
    }
   ],
   "source": [
    "# https://stackoverflow.com/questions/44524901/how-do-i-multiply-matrices-in-pytorch\n",
    "y2 = torch.mm(input_tensor, torch.t(weights))\n",
    "print(y2.shape)\n",
    "y2"
   ]
  },
  {
   "cell_type": "code",
   "execution_count": 8,
   "id": "ca75d648-a50a-47b8-b3b0-d2e8284c4591",
   "metadata": {},
   "outputs": [
    {
     "name": "stdout",
     "output_type": "stream",
     "text": [
      "torch.Size([1, 2])\n"
     ]
    },
    {
     "data": {
      "text/plain": [
       "tensor([[-0.0949, -0.0668]], grad_fn=<AddBackward0>)"
      ]
     },
     "execution_count": 8,
     "metadata": {},
     "output_type": "execute_result"
    }
   ],
   "source": [
    "y2_plus_bias = y2 + biases\n",
    "print(y2_plus_bias.shape)\n",
    "y2_plus_bias"
   ]
  },
  {
   "cell_type": "markdown",
   "id": "a6184e27-07fb-4e27-93ed-08b1f98ed51b",
   "metadata": {},
   "source": [
    "Since the output of the matrix multiplication **and** the `output` tensor in cell 2 are both equal to:  \n",
    "<code>\n",
    "shape of output: torch.Size([1, 2])\n",
    "tensor([[-0.0949, -0.0668]], grad_fn=<AddmmBackward0>)\n",
    "</code>\n",
    "\n",
    "It looks like if `x` is the input tensor, `y` is the output tensor, `W` are the weights and `b` are the biases then what `nn.Linear` is doing is:\n",
    "$$\n",
    "y = xW^T + b\n",
    "$$\n",
    "\n",
    "and this is confirmed in the documentation:  https://pytorch.org/docs/stable/generated/torch.nn.Linear.html#torch.nn.Linear"
   ]
  },
  {
   "cell_type": "code",
   "execution_count": 9,
   "id": "899ebdeb-3c02-4161-a38a-cf00383eed48",
   "metadata": {},
   "outputs": [
    {
     "data": {
      "text/plain": [
       "tensor([[-0.0949, -0.0668]], grad_fn=<AddBackward0>)"
      ]
     },
     "execution_count": 9,
     "metadata": {},
     "output_type": "execute_result"
    }
   ],
   "source": [
    "# y3 = weights @ input_tensor + biases  # as shown in slide 20/35 of lecture 2: RuntimeError: mat1 and mat2 shapes cannot be multiplied (2x3 and 1x3)\n",
    "y3 = input_tensor @ torch.t(weights) + biases\n",
    "y3"
   ]
  },
  {
   "cell_type": "code",
   "execution_count": 10,
   "id": "ba9086b1-cf4e-4d21-be5d-92367178a718",
   "metadata": {},
   "outputs": [
    {
     "name": "stdout",
     "output_type": "stream",
     "text": [
      "tensor([[-1.6389]], grad_fn=<AddmmBackward0>)\n"
     ]
    }
   ],
   "source": [
    "# ex 2\n",
    "# Create a neural network of linear layers that takes a tensor of dimensions 1x8 as input and outputs a tensor of dimensions 1x1\n",
    "# Use any output dimension for the first layer you want.\n",
    "input_tensor = torch.Tensor([[2, 3, 6, 7, 9, 3, 2, 1]])\n",
    "\n",
    "# Implement a small neural network with exactly two linear layers\n",
    "model = nn.Sequential(nn.Linear(8, 3),  # using 3 as the output dim of the first layer, but could be anything\n",
    "                      nn.Linear(3, 1)\n",
    "                     )\n",
    "\n",
    "output = model(input_tensor)\n",
    "print(output)  # 1x1 output"
   ]
  },
  {
   "cell_type": "code",
   "execution_count": 11,
   "id": "667ebb16-37a2-4da5-811f-9920cd334387",
   "metadata": {},
   "outputs": [
    {
     "data": {
      "text/plain": [
       "tensor([[0.9975]])"
      ]
     },
     "execution_count": 11,
     "metadata": {},
     "output_type": "execute_result"
    }
   ],
   "source": [
    "# sigmoid activation\n",
    "input_tensor = torch.tensor([[6.0]])\n",
    "sigmoid = nn.Sigmoid()\n",
    "output = sigmoid(input_tensor)\n",
    "output"
   ]
  },
  {
   "cell_type": "code",
   "execution_count": 12,
   "id": "81b38b9b-52da-4d89-b582-f4d360c1e17e",
   "metadata": {},
   "outputs": [
    {
     "name": "stdout",
     "output_type": "stream",
     "text": [
      "tensor([[0.1392, 0.8420, 0.0188]])\n"
     ]
    }
   ],
   "source": [
    "# softmax for multi-dim classification\n",
    "# Create an input tensor\n",
    "input_tensor = torch.tensor([[4.3, 6.1, 2.3]])\n",
    "# Apply softmax along the last dimension\n",
    "probabilities = nn.Softmax(dim=-1)\n",
    "output_tensor = probabilities(input_tensor)\n",
    "print(output_tensor)"
   ]
  },
  {
   "cell_type": "code",
   "execution_count": 13,
   "id": "95e6f888-97ce-44f9-abc0-19c9d2e3edb4",
   "metadata": {},
   "outputs": [
    {
     "name": "stdout",
     "output_type": "stream",
     "text": [
      "tensor([[0.7225],\n",
      "        [0.7238],\n",
      "        [0.6813],\n",
      "        [0.7264],\n",
      "        [0.7294]], grad_fn=<SigmoidBackward0>)\n"
     ]
    }
   ],
   "source": [
    "# Binary classification: forward pass, lecture 4, slide 4/35\n",
    "# Create input data of shape 5x6\n",
    "input_data = torch.tensor(\n",
    "[[-0.4421, 1.5207, 2.0607, -0.3647, 0.4691, 0.0946],\n",
    "[-0.9155, -0.0475, -1.3645, 0.6336, -1.9520, -0.3398],\n",
    "[ 0.7406, 1.6763, -0.8511, 0.2432, 0.1123, -0.0633],\n",
    "[-1.6630, -0.0718, -0.1285, 0.5396, -0.0288, -0.8622],\n",
    "[-0.7413, 1.7920, -0.0883, -0.6685, 0.4745, -0.4245]])\n",
    "\n",
    "# Create binary classification model\n",
    "model = nn.Sequential(\n",
    "nn.Linear(6, 4), # First linear layer\n",
    "nn.Linear(4, 1), # Second linear layer\n",
    "nn.Sigmoid() # Sigmoid activation function\n",
    ")\n",
    "# Pass input data through model\n",
    "output = model(input_data)\n",
    "print(output)"
   ]
  },
  {
   "cell_type": "code",
   "execution_count": 14,
   "id": "e2c2125c-855a-4db8-9584-9fc2d2ad85fa",
   "metadata": {},
   "outputs": [
    {
     "name": "stdout",
     "output_type": "stream",
     "text": [
      "tensor([[0.8332]], grad_fn=<SigmoidBackward0>)\n"
     ]
    }
   ],
   "source": [
    "# lecture 4 excercises\n",
    "input_tensor = torch.Tensor([[3, 4, 6, 2, 3, 6, 8, 9]])\n",
    "\n",
    "# Implement a small neural network for binary classification\n",
    "model = nn.Sequential(\n",
    "  nn.Linear(8, 1),\n",
    "  nn.Sigmoid()\n",
    ")\n",
    "\n",
    "output = model(input_tensor)\n",
    "print(output)"
   ]
  },
  {
   "cell_type": "code",
   "execution_count": 15,
   "id": "34aa492d-ccb5-4b4a-a354-c11ec660ff32",
   "metadata": {},
   "outputs": [
    {
     "name": "stdout",
     "output_type": "stream",
     "text": [
      "tensor([[-0.9538]], grad_fn=<AddmmBackward0>)\n"
     ]
    }
   ],
   "source": [
    "# Create a neural network with exactly four linear layers, which takes\n",
    "# the input tensor as input, and outputs a regression value, using any\n",
    "# shapes you like for the hidden layers.\n",
    "\n",
    "input_tensor = torch.Tensor([[3, 4, 6, 7, 10, 12, 2, 3, 6, 8, 9]])\n",
    "\n",
    "# Implement a neural network with exactly four linear layers\n",
    "model = nn.Sequential(\n",
    "    nn.Linear(11, 7),\n",
    "    nn.Linear(7, 6),\n",
    "    nn.Linear(6, 5),\n",
    "    nn.Linear(5, 1)\n",
    ")\n",
    "\n",
    "output = model(input_tensor)\n",
    "print(output)"
   ]
  },
  {
   "cell_type": "code",
   "execution_count": 16,
   "id": "61844f91-412b-492a-9996-547c49da5c0c",
   "metadata": {},
   "outputs": [
    {
     "name": "stdout",
     "output_type": "stream",
     "text": [
      "tensor([[0.3961, 0.2461, 0.1899, 0.1679]], grad_fn=<SoftmaxBackward0>)\n"
     ]
    }
   ],
   "source": [
    "# A similar neural network to the one you just built is provided, containing four linear layers;\n",
    "# update this network to perform a multi-class classification with four outputs.\n",
    "input_tensor = torch.Tensor([[3, 4, 6, 7, 10, 12, 2, 3, 6, 8, 9]])\n",
    "\n",
    "# Update network below to perform a multi-class classification with four labels\n",
    "model = nn.Sequential(\n",
    "  nn.Linear(11, 20),\n",
    "  nn.Linear(20, 12),\n",
    "  nn.Linear(12, 6),\n",
    "  nn.Linear(6, 4), \n",
    "  nn.Softmax(dim=-1)\n",
    ")\n",
    "\n",
    "output = model(input_tensor)\n",
    "print(output)"
   ]
  },
  {
   "cell_type": "code",
   "execution_count": 17,
   "id": "44b7c1c1-c4fc-47ff-9eff-abf0dfce5959",
   "metadata": {},
   "outputs": [],
   "source": [
    "# lecture 5"
   ]
  },
  {
   "cell_type": "code",
   "execution_count": 18,
   "id": "cde3cf5a-40ce-4dc3-bdde-f4f3d98df345",
   "metadata": {},
   "outputs": [
    {
     "name": "stdout",
     "output_type": "stream",
     "text": [
      "tensor([1, 0, 0])\n",
      "tensor([0, 1, 0])\n",
      "tensor([0, 0, 1])\n"
     ]
    }
   ],
   "source": [
    "import torch.nn.functional as F\n",
    "# one-hot encoding\n",
    "print(F.one_hot(torch.tensor(0), num_classes = 3))\n",
    "print(F.one_hot(torch.tensor(1), num_classes = 3))\n",
    "print(F.one_hot(torch.tensor(2), num_classes = 3))"
   ]
  },
  {
   "cell_type": "code",
   "execution_count": 19,
   "id": "93a008de-1a80-4bc8-968a-f21b8bffb590",
   "metadata": {},
   "outputs": [
    {
     "data": {
      "text/plain": [
       "tensor(0.8131, dtype=torch.float64)"
      ]
     },
     "execution_count": 19,
     "metadata": {},
     "output_type": "execute_result"
    }
   ],
   "source": [
    "from torch.nn import CrossEntropyLoss\n",
    "\n",
    "scores = torch.tensor([[-0.1211, 0.1059]])\n",
    "one_hot_target = torch.tensor([[1, 0]])\n",
    "criterion = CrossEntropyLoss()\n",
    "criterion(scores.double(), one_hot_target.double())"
   ]
  },
  {
   "cell_type": "code",
   "execution_count": 20,
   "id": "6e889cc6-6a63-4a1b-9d16-d81c10f333e0",
   "metadata": {},
   "outputs": [
    {
     "name": "stdout",
     "output_type": "stream",
     "text": [
      "0.443492440036494 0.5565075599635061\n"
     ]
    }
   ],
   "source": [
    "# try it manually, start with softmax probabilities\n",
    "import numpy as np\n",
    "scores = [-0.1211, 0.1059]\n",
    "targets = [1, 0]\n",
    "denom = np.exp(scores[0]) + np.exp(scores[1])\n",
    "p0 = np.exp(scores[0]) / denom\n",
    "p1 = np.exp(scores[1]) / denom\n",
    "print(p0, p1)"
   ]
  },
  {
   "cell_type": "code",
   "execution_count": 21,
   "id": "0cb2ffd4-feea-4f00-9a61-85757b2fd347",
   "metadata": {},
   "outputs": [
    {
     "name": "stdout",
     "output_type": "stream",
     "text": [
      "0.8130745235187279\n"
     ]
    }
   ],
   "source": [
    "# simplified for single point, binary classification\n",
    "# for the general multi-nomial version see: https://rpubs.com/mszczepaniak/classificationgoodness\n",
    "cross_entropy = -(np.log(p0))\n",
    "print(cross_entropy)  # very close: 0.81307"
   ]
  },
  {
   "cell_type": "code",
   "execution_count": 22,
   "id": "9773deef-5830-49f0-9f69-62ceab088415",
   "metadata": {},
   "outputs": [
    {
     "name": "stdout",
     "output_type": "stream",
     "text": [
      "[0 1 0]\n",
      "tensor([0, 1, 0])\n"
     ]
    }
   ],
   "source": [
    "# lecture 5 excercises\n",
    "y = 1\n",
    "num_classes = 3\n",
    "\n",
    "# Create the one-hot encoded vector using NumPy\n",
    "one_hot_numpy = np.array([0, 1, 0])\n",
    "\n",
    "# Create the one-hot encoded vector using PyTorch\n",
    "one_hot_pytorch = F.one_hot(torch.tensor(1), num_classes)\n",
    "print(one_hot_numpy)\n",
    "print(one_hot_pytorch)"
   ]
  },
  {
   "cell_type": "markdown",
   "id": "51cd5447-e06f-4129-a7e4-c2306e4cc44e",
   "metadata": {},
   "source": [
    "Start by creating a one-hot encoded vector of the ground truth label y, which is a required step to compare y with the scores predicted by your model. Next, you'll create a cross entropy loss function. Last, you'll call the loss function, which takes scores (model predictions before the final softmax function), and the one-hot encoded ground truth label, as inputs. It outputs a single float, the loss of that sample."
   ]
  },
  {
   "cell_type": "code",
   "execution_count": 23,
   "id": "37d7d0d1-a039-49fc-bd8f-73f7c9054b3f",
   "metadata": {},
   "outputs": [
    {
     "name": "stdout",
     "output_type": "stream",
     "text": [
      "tensor([[0, 0, 1, 0]])\n",
      "tensor(8.0619, dtype=torch.float64)\n"
     ]
    }
   ],
   "source": [
    "y = [2]\n",
    "scores = torch.tensor([[0.1, 6.0, -2.0, 3.2]])\n",
    "\n",
    "# Create a one-hot encoded vector of the label y\n",
    "one_hot_label = F.one_hot(torch.tensor(y), num_classes = scores.shape[1])\n",
    "print(one_hot_label)\n",
    "# Create the cross entropy loss function\n",
    "criterion = nn.CrossEntropyLoss()\n",
    "# Calculate the cross entropy loss\n",
    "loss = criterion(scores.double(), one_hot_label.double())\n",
    "print(loss)"
   ]
  },
  {
   "cell_type": "code",
   "execution_count": 24,
   "id": "1f2d3071-7d04-4ec1-9ecb-213af59005ef",
   "metadata": {},
   "outputs": [],
   "source": [
    "# lecture 6 - Backpropagation in PyTorch\n",
    "# exercise 1\n",
    "weight = torch.tensor([[-1.5349,  1.1395, -0.7303, -1.4280,  1.4367,  1.5740,  0.8475,  1.3379, 1.5674],\n",
    "                       [ 1.1543,  1.2855,  0.5122,  0.4215,  0.4982,  1.5640, -0.9705, -0.4987, 0.6331]])\n",
    "bias = torch.tensor([-0.1435,  1.6498])\n",
    "preds = torch.tensor([[2.1289, 3.7059]])\n",
    "target = torch.tensor([[1., 0.]])"
   ]
  },
  {
   "cell_type": "code",
   "execution_count": 25,
   "id": "5c2746d1-ce46-4a08-a480-40e339fe10aa",
   "metadata": {},
   "outputs": [
    {
     "name": "stdout",
     "output_type": "stream",
     "text": [
      "None\n",
      "None\n"
     ]
    }
   ],
   "source": [
    "criterion = nn.CrossEntropyLoss()\n",
    "\n",
    "# Calculate the loss\n",
    "loss = criterion(preds, target)\n",
    "\n",
    "# Compute the gradients of the loss\n",
    "# torch.set_grad_enabled(True)  # Context-manager \n",
    "loss.requires_grad = True\n",
    "# loss.retain_grad()\n",
    "loss.backward()\n",
    "\n",
    "# Display gradients of the weight and bias tensors in order\n",
    "print(weight.grad)\n",
    "print(bias.grad)"
   ]
  },
  {
   "cell_type": "markdown",
   "id": "82649456-5264-4fd8-affb-2c3fc1532b4f",
   "metadata": {},
   "source": [
    "This is the output I get in the DataCamp environment:\n",
    "\n",
    "`tensor([[-0.5063, -0.4353, -0.3859, -0.3938, -0.5257, -0.1628, -0.5167, -0.4315,\n",
    "         -0.6264],\n",
    "        [ 0.5063,  0.4353,  0.3859,  0.3938,  0.5257,  0.1628,  0.5167,  0.4315,\n",
    "          0.6264]])\n",
    "tensor([-0.8288,  0.8288])\n",
    "\n",
    "<script.py> output:\n",
    "    tensor([[-0.5215, -0.4484, -0.3975, -0.4056, -0.5416, -0.1677, -0.5322, -0.4444,\n",
    "             -0.6453],\n",
    "            [ 0.5215,  0.4484,  0.3975,  0.4056,  0.5416,  0.1677,  0.5322,  0.4444,\n",
    "              0.6453]])\n",
    "    tensor([-0.8537,  0.8537])`\n",
    "`"
   ]
  },
  {
   "cell_type": "code",
   "execution_count": 26,
   "id": "e777f976-403e-4982-9e26-7837d8a3abc6",
   "metadata": {},
   "outputs": [],
   "source": [
    "model = nn.Sequential(nn.Linear(16, 8),\n",
    "                      nn.Sigmoid(),\n",
    "                      nn.Linear(8, 2))\n",
    "\n",
    "# Access the weight of the first linear layer\n",
    "weight_0 = model[0].weight\n",
    "\n",
    "# Access the bias of the second linear layer\n",
    "bias_1 = model[2].bias"
   ]
  },
  {
   "cell_type": "code",
   "execution_count": 27,
   "id": "f554c498-b923-4500-8355-2658ca3fff3b",
   "metadata": {},
   "outputs": [
    {
     "name": "stdout",
     "output_type": "stream",
     "text": [
      "Parameter containing:\n",
      "tensor([[-0.0889, -0.2258,  0.0293,  0.1313, -0.0783, -0.0155, -0.1121,  0.0294,\n",
      "          0.1611, -0.2011, -0.1436,  0.1360,  0.1156, -0.1702, -0.0887, -0.0908],\n",
      "        [ 0.0051, -0.2487,  0.1283, -0.1048,  0.1592,  0.2132,  0.2190, -0.0770,\n",
      "         -0.0115, -0.2344, -0.0252,  0.2449, -0.2486,  0.1549, -0.0008, -0.0557],\n",
      "        [-0.1959,  0.1224, -0.2193,  0.0094, -0.2493,  0.0515,  0.0467,  0.0953,\n",
      "          0.2318,  0.1633, -0.2498, -0.0413,  0.2065, -0.1216,  0.1051,  0.2073],\n",
      "        [-0.1022,  0.0755,  0.1533, -0.0431, -0.1693,  0.1013,  0.2298,  0.1844,\n",
      "          0.0824,  0.0120,  0.0956,  0.2078,  0.2139,  0.0491, -0.2257,  0.2486],\n",
      "        [-0.1727,  0.0303, -0.1517, -0.1722, -0.1611,  0.1731,  0.0837, -0.1372,\n",
      "          0.1318, -0.1916, -0.1886, -0.0165,  0.0697,  0.0994,  0.1626,  0.0643],\n",
      "        [-0.0431,  0.1704,  0.1510,  0.0745, -0.0403,  0.1404,  0.0038, -0.0721,\n",
      "         -0.0901,  0.1510,  0.0007, -0.1222,  0.0969,  0.1484,  0.1137,  0.1714],\n",
      "        [ 0.1860, -0.1880,  0.1357,  0.2229,  0.0350, -0.0067,  0.1409, -0.1318,\n",
      "         -0.0538, -0.0027,  0.2354,  0.0269,  0.2014, -0.2388,  0.2034,  0.0509],\n",
      "        [-0.0674,  0.0247,  0.0379,  0.0723,  0.0579, -0.2496, -0.1280,  0.2471,\n",
      "         -0.1068,  0.0795, -0.2288,  0.1672,  0.1426,  0.2329,  0.1720,  0.0776]],\n",
      "       requires_grad=True)\n"
     ]
    }
   ],
   "source": [
    "model = nn.Sequential(\n",
    "    nn.Linear(in_features=16, out_features=8, bias=True),\n",
    "    nn.Linear(in_features=8, out_features=4, bias=True),\n",
    "    nn.Linear(in_features=4, out_features=2, bias=True)\n",
    ")\n",
    "\n",
    "weight0 = model[0].weight\n",
    "weight1 = model[1].weight\n",
    "weight2 = model[2].weight\n",
    "\n",
    "print(weight0)"
   ]
  },
  {
   "cell_type": "code",
   "execution_count": 28,
   "id": "2472110f-59ee-4bf4-b4aa-77bbcd229a56",
   "metadata": {},
   "outputs": [
    {
     "name": "stdout",
     "output_type": "stream",
     "text": [
      "None\n"
     ]
    }
   ],
   "source": [
    "# Access the gradients of the weight of each linear layer\n",
    "grads0 = weight0.grad\n",
    "grads1 = weight1.grad\n",
    "grads2 = weight2.grad\n",
    "\n",
    "print(grads0)  # FIXME: why getting None?"
   ]
  },
  {
   "cell_type": "code",
   "execution_count": 29,
   "id": "04384f16-90e2-4d5d-9125-ff7f6101e693",
   "metadata": {},
   "outputs": [],
   "source": [
    "# Update the weights using the learning rate and the gradients\n",
    "lr = 0.001\n",
    "# FIXME\n",
    "# weight0 = weight0 - (lr * grads0)\n",
    "# weight1 = weight1 - (lr * grads1)\n",
    "# weight2 = weight2 - (lr * grads2)"
   ]
  },
  {
   "cell_type": "code",
   "execution_count": 30,
   "id": "e11a7885-3cd3-43e2-bca0-773cdba8a836",
   "metadata": {},
   "outputs": [],
   "source": [
    "import torch.optim as optim\n",
    "\n",
    "# Create the optimizer\n",
    "optimizer = optim.SGD(model.parameters(), lr=0.001)\n",
    "criterion = CrossEntropyLoss()\n",
    "\n",
    "pred = torch.tensor([[-0.1738,  0.1308]])\n",
    "target = torch.tensor([[1., 0.]])\n",
    "\n",
    "loss = criterion(pred, target)\n",
    "# loss.backward()   # FIXME: RuntimeError: element 0 of tensors does not require grad and does not have a grad_fn\n",
    "\n",
    "# Update the model's parameters using the optimizer\n",
    "# optimizer.step()"
   ]
  },
  {
   "cell_type": "code",
   "execution_count": 31,
   "id": "15af4e51-71d1-467c-b3c9-066ab701b858",
   "metadata": {},
   "outputs": [
    {
     "name": "stdout",
     "output_type": "stream",
     "text": [
      "tensor(81.)\n"
     ]
    }
   ],
   "source": [
    "# lecture 7 exercises\n",
    "y_hat = np.array(10)\n",
    "y = np.array(1)\n",
    "\n",
    "# Calculate the MSELoss using NumPy\n",
    "mse_numpy = np.mean((y_hat - y)**2)\n",
    "\n",
    "# Create the MSELoss function\n",
    "criterion = nn.MSELoss()\n",
    "\n",
    "# Calculate the MSELoss using the created loss function\n",
    "mse_pytorch = criterion(torch.tensor(y_hat).float(), torch.tensor(y).float())\n",
    "print(mse_pytorch)"
   ]
  },
  {
   "cell_type": "code",
   "execution_count": 32,
   "id": "0022d867-7729-4445-9542-c1d109d54fd8",
   "metadata": {},
   "outputs": [],
   "source": [
    "model = nn.Sequential(\n",
    "    nn.Linear(in_features=4, out_features=2, bias=True),\n",
    "    nn.Sigmoid(),\n",
    "    nn.Linear(in_features=2, out_features=1, bias=True)\n",
    ")\n",
    "\n",
    "criterion = nn.MSELoss()"
   ]
  },
  {
   "cell_type": "code",
   "execution_count": 33,
   "id": "783cd098-6a1a-46c9-ba8d-7d82830fdda9",
   "metadata": {},
   "outputs": [],
   "source": [
    "def show_results(model, dataloader):\n",
    "    model.eval()\n",
    "    iter_loader = iter(dataloader)\n",
    "    for _ in range(3):\n",
    "        feature, target = next(iter_loader)\n",
    "        preds = model(feature)\n",
    "        for p, t in zip(preds, target):\n",
    "            print(f'Ground truth salary: {t.item():.3f}. Predicted salary: {p.item():.3f}.')"
   ]
  },
  {
   "cell_type": "code",
   "execution_count": 34,
   "id": "6e8047c1-fea7-4fec-ae8b-b2e5c78b9854",
   "metadata": {},
   "outputs": [],
   "source": [
    "# need to load data for this to work locally\n",
    "# num_epochs = 10\n",
    "# # Loop over the number of epochs and the dataloader\n",
    "# for i in range(num_epochs):\n",
    "#   for data in dataloader:\n",
    "#     # Set the gradients to zero\n",
    "#     optimizer.zero_grad()\n",
    "#     # Run a forward pass\n",
    "#     feature, target = data\n",
    "#     prediction = model(feature)\n",
    "#     # Calculate the loss\n",
    "#     loss = criterion(prediction, target)\n",
    "#     # Compute the gradients\n",
    "#     loss.backward()\n",
    "#     # Update the model's parameters\n",
    "#     optimizer.step()\n",
    "\n",
    "# show_results(model, dataloader)"
   ]
  },
  {
   "cell_type": "markdown",
   "id": "deb1235f-febd-457b-a5aa-190bc0220a0f",
   "metadata": {},
   "source": [
    "### Explanation of the next code cell\n",
    "\n",
    "First creates a ReLU (Rectified Linear Unit) function using PyTorch's built-in nn.ReLU() function.\n",
    "\n",
    "Next, it creates a tensor x with a value of -1.0 and sets requires_grad=True. This is important because it tells PyTorch that we want to calculate gradients with respect to x during the backward pass.\n",
    "\n",
    "Then, it applies the ReLU function to x and stores the result in y.\n",
    "\n",
    "The y.backward() function is then called to perform a backward pass through the computation graph. This calculates the gradient of y with respect to x.\n",
    "\n",
    "Finally, the gradient of x is accessed using x.grad and printed out. This is the gradient of the ReLU function at x.\n",
    "\n",
    "The ReLU function is defined as f(x) = max(0, x). So, its derivative (or gradient) is 1 for x > 0 and 0 for x <= 0. Since x is -1.0 in this case, the gradient at x is 0, which is what the code prints out."
   ]
  },
  {
   "cell_type": "code",
   "execution_count": 35,
   "id": "38a70975-ab20-41cc-8160-58e3564718b8",
   "metadata": {},
   "outputs": [
    {
     "name": "stdout",
     "output_type": "stream",
     "text": [
      "tensor(0.)\n"
     ]
    }
   ],
   "source": [
    "# lecture 8 exercises\n",
    "# Create a ReLU function with PyTorch\n",
    "relu_pytorch = nn.ReLU()\n",
    "\n",
    "# Apply your ReLU function on x, and calculate gradients\n",
    "x = torch.tensor(-1.0, requires_grad=True)\n",
    "y = relu_pytorch(x)\n",
    "y.backward()  # calc's gradient of y wrt x\n",
    "\n",
    "# Print the gradient of the ReLU function for x\n",
    "gradient = x.grad  # calculates the gradient at x\n",
    "print(gradient)"
   ]
  },
  {
   "cell_type": "code",
   "execution_count": 36,
   "id": "ab8998f2-cb96-454d-83f4-b54655119ad2",
   "metadata": {},
   "outputs": [
    {
     "name": "stdout",
     "output_type": "stream",
     "text": [
      "tensor(-0.1000)\n"
     ]
    }
   ],
   "source": [
    "# Create a leaky relu function in PyTorch\n",
    "leaky_relu_pytorch = nn.LeakyReLU(negative_slope = 0.05)\n",
    "\n",
    "x = torch.tensor(-2.0)\n",
    "# Call the above function on the tensor x\n",
    "output = leaky_relu_pytorch(x)\n",
    "print(output)"
   ]
  },
  {
   "cell_type": "code",
   "execution_count": 37,
   "id": "6386d3fd-f176-47e0-ac7b-43ca0ba3963a",
   "metadata": {},
   "outputs": [
    {
     "name": "stdout",
     "output_type": "stream",
     "text": [
      "81\n"
     ]
    }
   ],
   "source": [
    "# Counting the number of parameters\n",
    "model = nn.Sequential(nn.Linear(16, 4),\n",
    "                      nn.Linear(4, 2),\n",
    "                      nn.Linear(2, 1))\n",
    "\n",
    "total = 0\n",
    "\n",
    "# Calculate the number of parameters in the model\n",
    "for parameter in model.parameters():\n",
    "  total += parameter.numel()\n",
    "\n",
    "print(total)"
   ]
  },
  {
   "cell_type": "code",
   "execution_count": 38,
   "id": "4ce62547-6d05-49ae-95ce-332f302dbf30",
   "metadata": {},
   "outputs": [],
   "source": [
    "def calculate_capacity(model):\n",
    "  total = 0\n",
    "  for p in model.parameters():\n",
    "    total += p.numel()\n",
    "  return total"
   ]
  },
  {
   "cell_type": "code",
   "execution_count": 39,
   "id": "02bfeb1e-a94f-4e46-89d0-392e3d1d63de",
   "metadata": {},
   "outputs": [
    {
     "name": "stdout",
     "output_type": "stream",
     "text": [
      "110\n"
     ]
    }
   ],
   "source": [
    "# Create a neural network with exactly three linear layers and\n",
    "# less than 120 parameters, which takes n_features as inputs and outputs n_classes.\n",
    "n_features = 8\n",
    "n_classes = 2\n",
    "h1 = 6\n",
    "h2 = 6\n",
    "\n",
    "input_tensor = torch.Tensor([[3, 4, 6, 2, 3, 6, 8, 9]])\n",
    "\n",
    "# Create a neural network with less than 120 parameters\n",
    "model = nn.Sequential(\n",
    "    nn.Linear(n_features, h1),\n",
    "    nn.Linear(h1, h2),\n",
    "    nn.Linear(h2 ,n_classes)\n",
    ")\n",
    "output = model(input_tensor)\n",
    "\n",
    "print(calculate_capacity(model))"
   ]
  },
  {
   "cell_type": "code",
   "execution_count": 40,
   "id": "6e071bf4-e990-49b1-9cc1-29833ec60458",
   "metadata": {},
   "outputs": [
    {
     "name": "stdout",
     "output_type": "stream",
     "text": [
      "152\n"
     ]
    }
   ],
   "source": [
    "# Create a neural network with exactly four linear layers and\n",
    "# more than 120 parameters, which takes n_features as inputs and outputs n_classes.\n",
    "n_features = 8\n",
    "n_classes = 2\n",
    "h = 6\n",
    "h1 = h\n",
    "h2 = h\n",
    "h3 = h\n",
    "\n",
    "input_tensor = torch.Tensor([[3, 4, 6, 2, 3, 6, 8, 9]])\n",
    "\n",
    "# Create a neural network with more than 120 parameters\n",
    "model = model = nn.Sequential(\n",
    "    nn.Linear(n_features, h1),\n",
    "    nn.Linear(h1, h2),\n",
    "    nn.Linear(h2, h3),\n",
    "    nn.Linear(h3 ,n_classes)\n",
    ")\n",
    "\n",
    "output = model(input_tensor)\n",
    "\n",
    "print(calculate_capacity(model))"
   ]
  },
  {
   "cell_type": "code",
   "execution_count": 41,
   "id": "10588d30-daa0-4047-b21d-fc33f304f130",
   "metadata": {},
   "outputs": [
    {
     "data": {
      "text/plain": [
       "'D:\\\\llmamd\\\\references'"
      ]
     },
     "execution_count": 41,
     "metadata": {},
     "output_type": "execute_result"
    }
   ],
   "source": [
    "%pwd"
   ]
  },
  {
   "cell_type": "code",
   "execution_count": 42,
   "id": "ba782c10-5036-4c7e-8077-609bded4d17c",
   "metadata": {},
   "outputs": [
    {
     "data": {
      "text/html": [
       "<div>\n",
       "<style scoped>\n",
       "    .dataframe tbody tr th:only-of-type {\n",
       "        vertical-align: middle;\n",
       "    }\n",
       "\n",
       "    .dataframe tbody tr th {\n",
       "        vertical-align: top;\n",
       "    }\n",
       "\n",
       "    .dataframe thead th {\n",
       "        text-align: right;\n",
       "    }\n",
       "</style>\n",
       "<table border=\"1\" class=\"dataframe\">\n",
       "  <thead>\n",
       "    <tr style=\"text-align: right;\">\n",
       "      <th></th>\n",
       "      <th>animal_name</th>\n",
       "      <th>hair</th>\n",
       "      <th>feathers</th>\n",
       "      <th>eggs</th>\n",
       "      <th>milk</th>\n",
       "      <th>predator</th>\n",
       "      <th>fins</th>\n",
       "      <th>legs</th>\n",
       "      <th>tail</th>\n",
       "      <th>type</th>\n",
       "    </tr>\n",
       "  </thead>\n",
       "  <tbody>\n",
       "    <tr>\n",
       "      <th>0</th>\n",
       "      <td>skimmer</td>\n",
       "      <td>0</td>\n",
       "      <td>1</td>\n",
       "      <td>1</td>\n",
       "      <td>0</td>\n",
       "      <td>1</td>\n",
       "      <td>0</td>\n",
       "      <td>2</td>\n",
       "      <td>1</td>\n",
       "      <td>2</td>\n",
       "    </tr>\n",
       "    <tr>\n",
       "      <th>1</th>\n",
       "      <td>seahorse</td>\n",
       "      <td>0</td>\n",
       "      <td>0</td>\n",
       "      <td>1</td>\n",
       "      <td>0</td>\n",
       "      <td>0</td>\n",
       "      <td>1</td>\n",
       "      <td>0</td>\n",
       "      <td>1</td>\n",
       "      <td>4</td>\n",
       "    </tr>\n",
       "    <tr>\n",
       "      <th>2</th>\n",
       "      <td>gull</td>\n",
       "      <td>0</td>\n",
       "      <td>1</td>\n",
       "      <td>1</td>\n",
       "      <td>0</td>\n",
       "      <td>1</td>\n",
       "      <td>0</td>\n",
       "      <td>2</td>\n",
       "      <td>1</td>\n",
       "      <td>2</td>\n",
       "    </tr>\n",
       "    <tr>\n",
       "      <th>3</th>\n",
       "      <td>squirrel</td>\n",
       "      <td>1</td>\n",
       "      <td>0</td>\n",
       "      <td>0</td>\n",
       "      <td>1</td>\n",
       "      <td>0</td>\n",
       "      <td>0</td>\n",
       "      <td>2</td>\n",
       "      <td>1</td>\n",
       "      <td>1</td>\n",
       "    </tr>\n",
       "    <tr>\n",
       "      <th>4</th>\n",
       "      <td>tuatara</td>\n",
       "      <td>0</td>\n",
       "      <td>0</td>\n",
       "      <td>1</td>\n",
       "      <td>0</td>\n",
       "      <td>1</td>\n",
       "      <td>0</td>\n",
       "      <td>4</td>\n",
       "      <td>1</td>\n",
       "      <td>3</td>\n",
       "    </tr>\n",
       "  </tbody>\n",
       "</table>\n",
       "</div>"
      ],
      "text/plain": [
       "  animal_name  hair  feathers  eggs  milk  predator  fins  legs  tail  type\n",
       "0     skimmer     0         1     1     0         1     0     2     1     2\n",
       "1    seahorse     0         0     1     0         0     1     0     1     4\n",
       "2        gull     0         1     1     0         1     0     2     1     2\n",
       "3    squirrel     1         0     0     1         0     0     2     1     1\n",
       "4     tuatara     0         0     1     0         1     0     4     1     3"
      ]
     },
     "execution_count": 42,
     "metadata": {},
     "output_type": "execute_result"
    }
   ],
   "source": [
    "# lecture 12\n",
    "import pandas as pd\n",
    "# D:\\Sync\\ds_ml\\Data Camp\\DeepLearning, NLP, LLMs\\Introduction to Deep Learning with PyTorch\\data\n",
    "df_animals = pd.read_csv('D:\\\\Sync\\\\ds_ml\\\\Data Camp\\\\DeepLearning, NLP, LLMs\\\\Introduction to Deep Learning with PyTorch\\\\data\\\\animals.csv')\n",
    "df_animals  # different order so that the feature array looks the same as ch4, lec 12, slide 3/34"
   ]
  },
  {
   "cell_type": "code",
   "execution_count": 43,
   "id": "65507619-fa9e-4cdb-bed3-8d5194414254",
   "metadata": {},
   "outputs": [
    {
     "name": "stdout",
     "output_type": "stream",
     "text": [
      "[[0 1 1 0 1 0 2 1]\n",
      " [0 0 1 0 0 1 0 1]\n",
      " [0 1 1 0 1 0 2 1]\n",
      " [1 0 0 1 0 0 2 1]\n",
      " [0 0 1 0 1 0 4 1]]\n"
     ]
    }
   ],
   "source": [
    "import numpy as np\n",
    "# Define input features\n",
    "features = df_animals.iloc[:, 1:-1]\n",
    "X = features.to_numpy()\n",
    "print(X)"
   ]
  },
  {
   "cell_type": "code",
   "execution_count": 44,
   "id": "7b883169-c64d-446d-92ae-61e7856eb6ff",
   "metadata": {},
   "outputs": [
    {
     "data": {
      "text/plain": [
       "array([2, 4, 2, 1, 3], dtype=int64)"
      ]
     },
     "execution_count": 44,
     "metadata": {},
     "output_type": "execute_result"
    }
   ],
   "source": [
    "# Define target features (ground truth)\n",
    "target = df_animals.iloc[:, -1]\n",
    "y = target.to_numpy()\n",
    "y"
   ]
  },
  {
   "cell_type": "code",
   "execution_count": 45,
   "id": "feabf3c9-0dde-4a1b-bc63-c9cf5ca23618",
   "metadata": {},
   "outputs": [
    {
     "name": "stdout",
     "output_type": "stream",
     "text": [
      "input sample: tensor([0., 1., 1., 0., 1., 0., 2., 1.])\n",
      "label sample: tensor(2.)\n"
     ]
    }
   ],
   "source": [
    "import torch\n",
    "from torch.utils.data import TensorDataset\n",
    "\n",
    "# instantiate dataset class\n",
    "dataset = TensorDataset(torch.tensor(X).float(), torch.tensor(y).float())\n",
    "# access an individual sample\n",
    "sample = dataset[0]\n",
    "input_sample, label_sample = sample  # dataset samples are stored as tuples\n",
    "print('input sample:', input_sample)\n",
    "print('label sample:', label_sample)"
   ]
  },
  {
   "cell_type": "code",
   "execution_count": 46,
   "id": "7b5724b8-7319-48de-bcd5-ecbe11e3e202",
   "metadata": {},
   "outputs": [
    {
     "name": "stdout",
     "output_type": "stream",
     "text": [
      "batch inputs: tensor([[0., 0., 1., 0., 0., 1., 0., 1.],\n",
      "        [0., 1., 1., 0., 1., 0., 2., 1.]])\n",
      "batch labels: tensor([4., 2.])\n",
      "batch inputs: tensor([[0., 0., 1., 0., 1., 0., 4., 1.],\n",
      "        [0., 1., 1., 0., 1., 0., 2., 1.]])\n",
      "batch labels: tensor([3., 2.])\n",
      "batch inputs: tensor([[1., 0., 0., 1., 0., 0., 2., 1.]])\n",
      "batch labels: tensor([1.])\n"
     ]
    }
   ],
   "source": [
    "from torch.utils.data import DataLoader\n",
    "\n",
    "batch_size = 2\n",
    "shuffle = True\n",
    "\n",
    "# Create a DataLoader\n",
    "dataloader = DataLoader(dataset, batch_size=batch_size, shuffle=shuffle)\n",
    "# iterate over the dataloader, shuffle will create different results each time\n",
    "for batch_inputs, batch_labels in dataloader:  # samples pulled w/o replacement\n",
    "    print('batch inputs:', batch_inputs)\n",
    "    print('batch labels:', batch_labels)"
   ]
  },
  {
   "cell_type": "code",
   "execution_count": 47,
   "id": "25ae5691-a02b-416e-a1a5-2921bfedd5aa",
   "metadata": {
    "scrolled": true
   },
   "outputs": [
    {
     "name": "stdout",
     "output_type": "stream",
     "text": [
      "tensor([[0.3608, 0.0057, 0.4879, 0.5359, 0.9642, 0.6054, 0.1229, 0.2786],\n",
      "        [0.3707, 0.9154, 0.6273, 0.4206, 0.3951, 0.2510, 0.0408, 0.5207],\n",
      "        [0.7888, 0.9537, 0.6254, 0.2681, 0.2210, 0.6374, 0.0289, 0.6980],\n",
      "        [0.7408, 0.7149, 0.8567, 0.2335, 0.0032, 0.6638, 0.1643, 0.6056],\n",
      "        [0.5463, 0.5661, 0.8986, 0.3689, 0.1703, 0.7138, 0.8451, 0.9975],\n",
      "        [0.7414, 0.8461, 0.7615, 0.1829, 0.9359, 0.6373, 0.0931, 0.8486],\n",
      "        [0.6384, 0.9011, 0.3266, 0.2482, 0.6701, 0.1662, 0.9046, 0.3980],\n",
      "        [0.6860, 0.4769, 0.7711, 0.5176, 0.8972, 0.0262, 0.4289, 0.7202],\n",
      "        [0.8114, 0.7752, 0.6935, 0.7576, 0.5891, 0.9161, 0.3832, 0.0639],\n",
      "        [0.3998, 0.7037, 0.2712, 0.3282, 0.5936, 0.7280, 0.1247, 0.9487],\n",
      "        [0.8309, 0.1836, 0.7013, 0.6666, 0.7764, 0.0919, 0.4695, 0.9589],\n",
      "        [0.2498, 0.7144, 0.2446, 0.9538, 0.5818, 0.1236, 0.9856, 0.1313]],\n",
      "       dtype=torch.float64)\n",
      "tensor([[0.9615],\n",
      "        [0.8529],\n",
      "        [0.2271],\n",
      "        [0.7835],\n",
      "        [0.0480],\n",
      "        [0.3355],\n",
      "        [0.9687],\n",
      "        [0.0474],\n",
      "        [0.6993],\n",
      "        [0.5924],\n",
      "        [0.5276],\n",
      "        [0.9255]], dtype=torch.float64)\n",
      "(tensor([0.2498, 0.7144, 0.2446, 0.9538, 0.5818, 0.1236, 0.9856, 0.1313],\n",
      "       dtype=torch.float64), tensor([0.9255], dtype=torch.float64))\n"
     ]
    }
   ],
   "source": [
    "# lecture 12 exercises\n",
    "from torch.utils.data import TensorDataset\n",
    "\n",
    "np_features = np.array(np.random.rand(12, 8))  # 12 rows with 8 random cols over [0, 1)\n",
    "np_target = np.array(np.random.rand(12, 1))\n",
    "\n",
    "np_features = np.array(np.random.rand(12, 8))\n",
    "np_target = np.array(np.random.rand(12, 1))\n",
    "\n",
    "# Convert arrays to PyTorch tensors\n",
    "torch_features = torch.tensor(np_features)\n",
    "torch_target = torch.tensor(np_target)\n",
    "print(torch_features)\n",
    "print(torch_target)\n",
    "\n",
    "# Create a TensorDataset from two tensors\n",
    "dataset = TensorDataset(torch_features, torch_target)\n",
    "\n",
    "# Return the last element of this dataset\n",
    "print(dataset[-1])"
   ]
  },
  {
   "cell_type": "code",
   "execution_count": 48,
   "id": "3e2c23b4-5333-4720-a145-b442bcd7040c",
   "metadata": {},
   "outputs": [
    {
     "name": "stdout",
     "output_type": "stream",
     "text": [
      "(2011, 10)\n"
     ]
    },
    {
     "data": {
      "text/html": [
       "<div>\n",
       "<style scoped>\n",
       "    .dataframe tbody tr th:only-of-type {\n",
       "        vertical-align: middle;\n",
       "    }\n",
       "\n",
       "    .dataframe tbody tr th {\n",
       "        vertical-align: top;\n",
       "    }\n",
       "\n",
       "    .dataframe thead th {\n",
       "        text-align: right;\n",
       "    }\n",
       "</style>\n",
       "<table border=\"1\" class=\"dataframe\">\n",
       "  <thead>\n",
       "    <tr style=\"text-align: right;\">\n",
       "      <th></th>\n",
       "      <th>ph</th>\n",
       "      <th>Hardness</th>\n",
       "      <th>Solids</th>\n",
       "      <th>Chloramines</th>\n",
       "      <th>Sulfate</th>\n",
       "      <th>Conductivity</th>\n",
       "      <th>Organic_carbon</th>\n",
       "      <th>Trihalomethanes</th>\n",
       "      <th>Turbidity</th>\n",
       "      <th>Potability</th>\n",
       "    </tr>\n",
       "  </thead>\n",
       "  <tbody>\n",
       "    <tr>\n",
       "      <th>0</th>\n",
       "      <td>0.587349</td>\n",
       "      <td>0.577747</td>\n",
       "      <td>0.386298</td>\n",
       "      <td>0.568199</td>\n",
       "      <td>0.647347</td>\n",
       "      <td>0.292985</td>\n",
       "      <td>0.654522</td>\n",
       "      <td>0.795029</td>\n",
       "      <td>0.630115</td>\n",
       "      <td>0</td>\n",
       "    </tr>\n",
       "    <tr>\n",
       "      <th>1</th>\n",
       "      <td>0.643654</td>\n",
       "      <td>0.441300</td>\n",
       "      <td>0.314381</td>\n",
       "      <td>0.439304</td>\n",
       "      <td>0.514545</td>\n",
       "      <td>0.356685</td>\n",
       "      <td>0.377248</td>\n",
       "      <td>0.202914</td>\n",
       "      <td>0.520358</td>\n",
       "      <td>0</td>\n",
       "    </tr>\n",
       "    <tr>\n",
       "      <th>2</th>\n",
       "      <td>0.388934</td>\n",
       "      <td>0.470876</td>\n",
       "      <td>0.506122</td>\n",
       "      <td>0.524364</td>\n",
       "      <td>0.561537</td>\n",
       "      <td>0.142913</td>\n",
       "      <td>0.249922</td>\n",
       "      <td>0.401487</td>\n",
       "      <td>0.219973</td>\n",
       "      <td>0</td>\n",
       "    </tr>\n",
       "    <tr>\n",
       "      <th>3</th>\n",
       "      <td>0.725820</td>\n",
       "      <td>0.715942</td>\n",
       "      <td>0.506141</td>\n",
       "      <td>0.521683</td>\n",
       "      <td>0.751819</td>\n",
       "      <td>0.148683</td>\n",
       "      <td>0.467200</td>\n",
       "      <td>0.658678</td>\n",
       "      <td>0.242428</td>\n",
       "      <td>0</td>\n",
       "    </tr>\n",
       "    <tr>\n",
       "      <th>4</th>\n",
       "      <td>0.610517</td>\n",
       "      <td>0.532588</td>\n",
       "      <td>0.237701</td>\n",
       "      <td>0.270288</td>\n",
       "      <td>0.495155</td>\n",
       "      <td>0.494792</td>\n",
       "      <td>0.409721</td>\n",
       "      <td>0.469762</td>\n",
       "      <td>0.585049</td>\n",
       "      <td>0</td>\n",
       "    </tr>\n",
       "  </tbody>\n",
       "</table>\n",
       "</div>"
      ],
      "text/plain": [
       "         ph  Hardness    Solids  Chloramines   Sulfate  Conductivity  \\\n",
       "0  0.587349  0.577747  0.386298     0.568199  0.647347      0.292985   \n",
       "1  0.643654  0.441300  0.314381     0.439304  0.514545      0.356685   \n",
       "2  0.388934  0.470876  0.506122     0.524364  0.561537      0.142913   \n",
       "3  0.725820  0.715942  0.506141     0.521683  0.751819      0.148683   \n",
       "4  0.610517  0.532588  0.237701     0.270288  0.495155      0.494792   \n",
       "\n",
       "   Organic_carbon  Trihalomethanes  Turbidity  Potability  \n",
       "0        0.654522         0.795029   0.630115           0  \n",
       "1        0.377248         0.202914   0.520358           0  \n",
       "2        0.249922         0.401487   0.219973           0  \n",
       "3        0.467200         0.658678   0.242428           0  \n",
       "4        0.409721         0.469762   0.585049           0  "
      ]
     },
     "execution_count": 48,
     "metadata": {},
     "output_type": "execute_result"
    }
   ],
   "source": [
    "# lecture 12, exercise 2\n",
    "file_path = \"D:\\\\Sync\\\\ds_ml\\\\Data Camp\\\\DeepLearning, NLP, LLMs\\\\Introduction to Deep Learning with PyTorch\\\\data\\\\water_potability.csv\"\n",
    "df_potability = pd.read_csv(file_path)\n",
    "print(df_potability.shape)\n",
    "df_potability.head()"
   ]
  },
  {
   "cell_type": "code",
   "execution_count": 49,
   "id": "f4c10eb2-2f18-4b15-874c-fa6fdc2f5cf9",
   "metadata": {},
   "outputs": [
    {
     "data": {
      "text/plain": [
       "Potability\n",
       "0    1200\n",
       "1     811\n",
       "Name: count, dtype: int64"
      ]
     },
     "execution_count": 49,
     "metadata": {},
     "output_type": "execute_result"
    }
   ],
   "source": [
    "df_potability['Potability'].value_counts()"
   ]
  },
  {
   "cell_type": "code",
   "execution_count": 50,
   "id": "13c334b9-8040-448d-bf62-0afba3fd1a3d",
   "metadata": {},
   "outputs": [],
   "source": [
    "# lecture 12, exercise 2 cont.\n",
    "\n",
    "# Extract the features (ph, Sulfate, Conductivity, Organic_carbon) and target (Potability) values\n",
    "# and load them into the appropriate tensors to represent features and targets.\n",
    "features = torch.tensor(df_potability.loc[:, ['ph', 'Sulfate', 'Conductivity', 'Organic_carbon']].to_numpy()).float()\n",
    "target = torch.tensor(df_potability.iloc[:, -1].to_numpy()).float()\n",
    "\n",
    "# Use both tensors to create a PyTorch dataset using the dataset class that's\n",
    "# quickest to use when tensors don't require any additional preprocessing.\n",
    "dataset = TensorDataset(features, target)"
   ]
  },
  {
   "cell_type": "code",
   "execution_count": 51,
   "id": "ae98c3a7-97fd-4e64-a9c6-a781328b04f9",
   "metadata": {},
   "outputs": [],
   "source": [
    "# Create a dataloader using the above dataset\n",
    "dataloader = DataLoader(dataset, batch_size=2, shuffle=True)\n",
    "x, y = next(iter(dataloader))"
   ]
  },
  {
   "cell_type": "code",
   "execution_count": 52,
   "id": "2a2d21cc-1cf5-4785-b644-abe411e294b6",
   "metadata": {},
   "outputs": [
    {
     "name": "stdout",
     "output_type": "stream",
     "text": [
      "<class 'torch.nn.modules.container.Sequential'>\n",
      "tensor([[0.5394],\n",
      "        [0.5263],\n",
      "        [0.5221],\n",
      "        ...,\n",
      "        [0.5321],\n",
      "        [0.5242],\n",
      "        [0.5217]], grad_fn=<SigmoidBackward0>)\n"
     ]
    }
   ],
   "source": [
    "import torch.nn as nn\n",
    "\n",
    "# Create a model using the nn.Sequential API\n",
    "model = nn.Sequential(\n",
    "    nn.Linear(4, 5),\n",
    "    nn.Linear(5, 1),\n",
    "    nn.Sigmoid()\n",
    ")\n",
    "output = model(features)\n",
    "print(type(model))\n",
    "print(output)"
   ]
  },
  {
   "cell_type": "code",
   "execution_count": 53,
   "id": "10f7c64d-3923-4452-81fc-5881c6e8c62e",
   "metadata": {},
   "outputs": [],
   "source": [
    "# lecture 13, ex1, model and validationloader already in env\n",
    "# Set the model to evaluation mode\n",
    "# model.eval()\n",
    "# validation_loss = 0.0\n",
    "\n",
    "# with torch.no_grad():\n",
    "  \n",
    "#   for data in validationloader:\n",
    "    \n",
    "#       outputs = model(data[0])\n",
    "#       loss = criterion(outputs, data[1])\n",
    "      \n",
    "      # Sum the current loss to the validation_loss variable\n",
    "      # validation_loss += loss.item()\n",
    "      \n",
    "# Calculate the mean loss value\n",
    "# validation_loss_epoch = validation_loss / len(validationloader)\n",
    "# print(validation_loss_epoch)\n",
    "\n",
    "# Set the model back to training mode\n",
    "# model.train()"
   ]
  },
  {
   "cell_type": "code",
   "execution_count": 54,
   "id": "4dbfd2a3-89c0-4b0d-b7a3-7185b93b0519",
   "metadata": {},
   "outputs": [],
   "source": [
    "# lecture 13, ex2 uses the masks dataset which is a pickle file"
   ]
  },
  {
   "cell_type": "code",
   "execution_count": 55,
   "id": "701c15ca-c83d-45ca-a2dc-6593ec828235",
   "metadata": {},
   "outputs": [],
   "source": [
    "import matplotlib.pyplot as plt\n",
    "\n",
    "def plot_errors(model, dataloader):\n",
    "    \"\"\" plotting function used in lecture 13, ex 2\"\"\"\n",
    "    # find mismatches\n",
    "    mismatches = []\n",
    "    for data in dataloader:\n",
    "        if len(mismatches) > 8:\n",
    "            break\n",
    "        features, labels = data\n",
    "        outputs = model(features)\n",
    "        gt = labels.argmax(-1)\n",
    "        pred = outputs.argmax(-1)\n",
    "        for f, g, p in zip(features, gt, pred):\n",
    "            if g != p:\n",
    "                mismatches.append((f, g, p))\n",
    "    \n",
    "    \n",
    "    fig = plt.figure(figsize=(8, 8))\n",
    "    grid = ImageGrid(fig, 111,  # similar to subplot(111)\n",
    "                     nrows_ncols=(2, 4),  # creates 2x2 grid of axes\n",
    "                     axes_pad=0.5,  # pad between axes in inch.\n",
    "                     )\n",
    "    mapping = {0: 'No mask', 1: 'Mask', 2: 'Incorrect'}\n",
    "    for idx, ax in enumerate(grid):\n",
    "        ax.imshow(mismatches[idx][0].permute(1, 2, 0))\n",
    "        ax.set_title(f'GT: {mapping[mismatches[idx][1].item()]} \\n PRED: {mapping[mismatches[idx][2].item()]}')\n",
    "        ax.axis('off')\n",
    "    plt.show()"
   ]
  },
  {
   "cell_type": "code",
   "execution_count": 56,
   "id": "f76a7e67-f011-461d-aff7-985b8a3ea323",
   "metadata": {},
   "outputs": [
    {
     "ename": "NameError",
     "evalue": "name 'torchmetrics' is not defined",
     "output_type": "error",
     "traceback": [
      "\u001b[1;31m---------------------------------------------------------------------------\u001b[0m",
      "\u001b[1;31mNameError\u001b[0m                                 Traceback (most recent call last)",
      "Cell \u001b[1;32mIn[56], line 2\u001b[0m\n\u001b[0;32m      1\u001b[0m \u001b[38;5;66;03m# Create accuracy metric using torch metrics\u001b[39;00m\n\u001b[1;32m----> 2\u001b[0m metric \u001b[38;5;241m=\u001b[39m \u001b[43mtorchmetrics\u001b[49m\u001b[38;5;241m.\u001b[39mAccuracy(task\u001b[38;5;241m=\u001b[39m\u001b[38;5;124m\"\u001b[39m\u001b[38;5;124mmulticlass\u001b[39m\u001b[38;5;124m\"\u001b[39m, num_classes\u001b[38;5;241m=\u001b[39m\u001b[38;5;241m3\u001b[39m)\n\u001b[0;32m      3\u001b[0m \u001b[38;5;28;01mfor\u001b[39;00m data \u001b[38;5;129;01min\u001b[39;00m dataloader:\n\u001b[0;32m      4\u001b[0m     features, labels \u001b[38;5;241m=\u001b[39m data\n",
      "\u001b[1;31mNameError\u001b[0m: name 'torchmetrics' is not defined"
     ]
    }
   ],
   "source": [
    "# Create accuracy metric using torch metrics\n",
    "metric = torchmetrics.Accuracy(task=\"multiclass\", num_classes=3)\n",
    "for data in dataloader:\n",
    "    features, labels = data\n",
    "    outputs = model(features)\n",
    "    \n",
    "    # Calculate accuracy over the batch\n",
    "    acc = metric(outputs.softmax(dim=-1), labels.argmax(dim=-1))\n",
    "    \n",
    "# Calculate accuracy over the whole epoch\n",
    "acc = metric.compute()\n",
    "\n",
    "# Reset the metric for the next epoch \n",
    "metric.reset()\n",
    "plot_errors(model, dataloader)"
   ]
  },
  {
   "cell_type": "code",
   "execution_count": null,
   "id": "9d396c47-0807-485e-bb9a-be25b179dbfc",
   "metadata": {},
   "outputs": [],
   "source": []
  },
  {
   "cell_type": "code",
   "execution_count": null,
   "id": "f1c34695-81e6-494e-baa7-3231dbf5923e",
   "metadata": {},
   "outputs": [],
   "source": []
  },
  {
   "cell_type": "code",
   "execution_count": null,
   "id": "6334c8f4-8e5e-4123-aea7-9242656dfb93",
   "metadata": {},
   "outputs": [],
   "source": []
  },
  {
   "cell_type": "code",
   "execution_count": null,
   "id": "312d1650-5a92-46ee-948e-9ba5dd213515",
   "metadata": {},
   "outputs": [],
   "source": []
  }
 ],
 "metadata": {
  "kernelspec": {
   "display_name": "Python 3 (ipykernel)",
   "language": "python",
   "name": "python3"
  },
  "language_info": {
   "codemirror_mode": {
    "name": "ipython",
    "version": 3
   },
   "file_extension": ".py",
   "mimetype": "text/x-python",
   "name": "python",
   "nbconvert_exporter": "python",
   "pygments_lexer": "ipython3",
   "version": "3.11.6"
  }
 },
 "nbformat": 4,
 "nbformat_minor": 5
}
