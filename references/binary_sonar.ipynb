{
 "cells": [
  {
   "cell_type": "code",
   "execution_count": null,
   "id": "28e85ea5-adb3-469b-b02c-94a34722e2eb",
   "metadata": {},
   "outputs": [],
   "source": []
  },
  {
   "cell_type": "markdown",
   "id": "6fa3c995-0cbb-4923-ab0d-34a9bfbb72df",
   "metadata": {},
   "source": [
    "## Binary classification in pytorch example\n",
    "\n",
    "### Example source \n",
    "\n",
    "Example is based on - https://machinelearningmastery.com/building-a-binary-classification-model-in-pytorch/\n",
    "\n",
    "This example will be revised in 4 ways:\n",
    "1. models are built using `torch.nn.Sequential` instead of the defining model classes as done in the example\n",
    "2. instead of comparing wide vs. deep networks, this compares using relu vs. sigmoid activation functions in the hidden layer\n",
    "3. models will only have 100 units in the hidden layer or ~6k parameters which is a little over half the number of parameters in the original example\n",
    "4. model training function paramerizes batch size and number of epochs\n",
    "\n",
    "### Sonar data source\n",
    "\n",
    "Dataset is taken from https://archive.ics.uci.edu/dataset/151/connectionist+bench+sonar+mines+vs+rocks"
   ]
  },
  {
   "cell_type": "code",
   "execution_count": 1,
   "id": "38b23251-5227-4de4-aa1e-93bcafa5ba94",
   "metadata": {},
   "outputs": [
    {
     "name": "stdout",
     "output_type": "stream",
     "text": [
      "0    R\n",
      "1    R\n",
      "2    R\n",
      "3    R\n",
      "4    R\n",
      "Name: 60, dtype: object\n",
      "203    M\n",
      "204    M\n",
      "205    M\n",
      "206    M\n",
      "207    M\n",
      "Name: 60, dtype: object\n"
     ]
    }
   ],
   "source": [
    "import numpy as np\n",
    "import pandas as pd\n",
    "\n",
    "file_path = \"D:\\\\Sync\\\\ds_ml\\\\Data Camp\\\\DeepLearning, NLP, LLMs\\\\Introduction to Deep Learning with PyTorch\\\\data\\\\sonar.csv\"\n",
    "df_sonar = pd.read_csv(file_path, header=None)\n",
    "X = df_sonar.iloc[:, 0:60]  # 60 features\n",
    "y = df_sonar.iloc[:, 60]  # last column are the labels\n",
    "print(y.head())\n",
    "print(y.tail())"
   ]
  },
  {
   "cell_type": "code",
   "execution_count": 2,
   "id": "bb7f90de-1ab3-415d-b18c-1c62ba36e4b5",
   "metadata": {},
   "outputs": [
    {
     "name": "stdout",
     "output_type": "stream",
     "text": [
      "['M' 'R']\n",
      "[1 1 1 1 1] [0 0 0 0 0]\n"
     ]
    }
   ],
   "source": [
    "from sklearn.preprocessing import LabelEncoder\n",
    "\n",
    "encoder = LabelEncoder()\n",
    "encoder.fit(y)\n",
    "y = encoder.transform(y)\n",
    "print(encoder.classes_)\n",
    "print(y[:5], y[-5:])  # 1 = R, 0 = M"
   ]
  },
  {
   "cell_type": "code",
   "execution_count": 3,
   "id": "fb98b409-58e5-49d3-89b7-f1c8a3379be8",
   "metadata": {},
   "outputs": [],
   "source": [
    "import torch\n",
    "# convert the inputs and labels to torch tensors\n",
    "X = torch.tensor(X.values, dtype=torch.float32)\n",
    "y = torch.tensor(y, dtype=torch.float32).reshape(-1, 1)  # make single col vector (N x 1)"
   ]
  },
  {
   "cell_type": "code",
   "execution_count": 4,
   "id": "2931de3d-82c2-4d0f-a6c8-7415e13491c6",
   "metadata": {},
   "outputs": [
    {
     "name": "stdout",
     "output_type": "stream",
     "text": [
      "torch.Size([208, 60]) torch.Size([208, 1])\n"
     ]
    }
   ],
   "source": [
    "print(X.shape, y.shape)  # torch.Size([208, 60]) torch.Size([208, 1])"
   ]
  },
  {
   "cell_type": "code",
   "execution_count": 5,
   "id": "aa47382c-5aa9-474f-a430-ebf4d619f041",
   "metadata": {},
   "outputs": [
    {
     "name": "stdout",
     "output_type": "stream",
     "text": [
      "both models have 6201 total parameters (weights and biases)\n"
     ]
    }
   ],
   "source": [
    "import torch.nn as nn\n",
    "\n",
    "# depart from example in two important ways:\n",
    "# 1) use the more recent way to specify a model with Sequential()\n",
    "# 2) compare hidden layer activation functions instead of wide vs. deep\n",
    "num_inputs = 60  # this will be 1500 for the tweets model\n",
    "num_outputs = 1\n",
    "h1 = 100  # number of units in to single hidden layer\n",
    "\n",
    "# use relu for hidden layer\n",
    "model_h_relu = nn.Sequential(\n",
    "    nn.Linear(num_inputs, h1),\n",
    "    nn.ReLU(),\n",
    "    nn.Linear(h1, num_outputs),\n",
    "    nn.Sigmoid()\n",
    ")\n",
    "\n",
    "# use sigmoid for hidden layer\n",
    "model_h_sigmoid = nn.Sequential(\n",
    "    nn.Linear(num_inputs, h1),\n",
    "    nn.Sigmoid(),\n",
    "    nn.Linear(h1, num_outputs),\n",
    "    nn.Sigmoid()\n",
    ")\n",
    "\n",
    "# both models have the same number of parameters\n",
    "total_params = 0\n",
    "for parameter in model_h_relu.parameters():\n",
    "    total_params += parameter.numel()\n",
    "print(f\"both models have {total_params} total parameters (weights and biases)\")"
   ]
  },
  {
   "cell_type": "code",
   "execution_count": 6,
   "id": "4e5cd1ad-4683-4888-b561-d3ef4cc48843",
   "metadata": {},
   "outputs": [],
   "source": [
    "import copy\n",
    "import numpy as np\n",
    "import torch\n",
    "import torch.nn as nn\n",
    "import torch.optim as optim\n",
    "import tqdm  # creates a progress bar\n",
    "\n",
    "def model_train(model, X_train, y_train, X_val, y_val,\n",
    "                n_epochs=250,  batch_size=10):\n",
    "    \"\"\"\n",
    "    Trains a model over n_epochs using mini-batch gradient descent and returns the best\n",
    "    accuracy\n",
    "    \n",
    "    Args:\n",
    "    model (torch.nn.modules.container.Sequential): pytorch model built with Sequential class\n",
    "    X_train (): training partition of feature tensor\n",
    "    y_train (): training partition of labels tensor\n",
    "    X_val (): validation partition of feature tensor\n",
    "    y_val (): validation partition of labels tensor\n",
    "    n_epochs (int): number of passes through the training data to make while training\n",
    "    batch_size (int): number of samples in a (mini) batch\n",
    "\n",
    "    Returns:\n",
    "    Accuracy of the best model\n",
    "    \"\"\"\n",
    "    # loss function and optimizer\n",
    "    loss_fn = nn.BCELoss()  # binary cross entropy\n",
    "    optimizer = optim.Adam(model.parameters(), lr=0.0001)\n",
    " \n",
    "    # Hold the best model\n",
    "    best_acc = -np.inf   # init to negative infinity\n",
    "    best_weights = None\n",
    "    # mark out the start of each batch\n",
    "    batch_starts = torch.arange(0, len(X_train), batch_size)\n",
    "\n",
    "    for epoch in range(n_epochs):\n",
    "        model.train()   # put model in training mode\n",
    "        with tqdm.tqdm(batch_starts, unit=\"batch\", mininterval=0, disable=True) as bar:\n",
    "            bar.set_description(f\"Epoch {epoch}\")\n",
    "            for batch in bar:\n",
    "                # take a batch\n",
    "                X_batch = X_train[batch:batch+batch_size]\n",
    "                y_batch = y_train[batch:batch+batch_size]\n",
    "                # forward pass\n",
    "                y_pred = model(X_batch)\n",
    "                loss = loss_fn(y_pred, y_batch)\n",
    "                # backward pass\n",
    "                optimizer.zero_grad()  # reset to zero for each batch, otherwise accumulates\n",
    "                loss.backward()\n",
    "                # update the weights\n",
    "                optimizer.step()\n",
    "                # sum up the correct predictions\n",
    "                acc = (y_pred.round() == y_batch).float().mean()\n",
    "                # report progress\n",
    "                bar.set_postfix(\n",
    "                    loss=float(loss),\n",
    "                    acc=float(acc)\n",
    "                )\n",
    "        # evaluate accuracy after each epoch\n",
    "        model.eval()\n",
    "        y_pred = model(X_val)  # validation prediction\n",
    "        acc = (y_pred.round() == y_val).float().mean()\n",
    "        acc = float(acc)\n",
    "        if acc > best_acc:\n",
    "            best_acc = acc\n",
    "            best_weights = copy.deepcopy(model.state_dict())\n",
    "    # restore model and return best accuracy\n",
    "    model.load_state_dict(best_weights)\n",
    "    return(best_acc)"
   ]
  },
  {
   "cell_type": "code",
   "execution_count": 7,
   "id": "104c5e5f-5add-4c81-8742-13bec38c68ce",
   "metadata": {},
   "outputs": [
    {
     "name": "stdout",
     "output_type": "stream",
     "text": [
      "ReLU accuracy: 0.7931\n",
      "ReLU accuracy: 0.9655\n",
      "ReLU accuracy: 0.8276\n",
      "ReLU accuracy: 0.8276\n",
      "ReLU accuracy: 0.8276\n",
      "sigmoid accuracy: 0.8276\n",
      "sigmoid accuracy: 0.8621\n",
      "sigmoid accuracy: 0.7586\n",
      "sigmoid accuracy: 0.8966\n",
      "sigmoid accuracy: 0.8276\n",
      "ReLU accuracy: 84.83% +- 12.024545961752747%\n",
      "sigmoid accuracy: 83.45% +- 9.14931000198664%\n"
     ]
    }
   ],
   "source": [
    "# compare these 2 models with 5-fold CV\n",
    "from sklearn.model_selection import StratifiedKFold, train_test_split\n",
    "\n",
    "# train-test split: hold out theh test set for final model evaluation\n",
    "X_train, X_test, y_train, y_test = train_test_split(X, y, train_size=0.7, shuffle=True)\n",
    "# define 5-fold cv test harness\n",
    "kfold = StratifiedKFold(n_splits=5, shuffle=True)\n",
    "\n",
    "# run CV on with the training data\n",
    "cv_scores_relu = []\n",
    "for train, test in kfold.split(X_train, y_train):\n",
    "    # create model, train, and get accuracy\n",
    "    model = model_h_relu\n",
    "    acc = model_train(model, X_train[train], y_train[train], X_train[test], y_train[test])\n",
    "    print(f\"ReLU accuracy: {acc:.4f}\")\n",
    "    cv_scores_relu.append(acc)\n",
    "\n",
    "cv_scores_sigmoid = []\n",
    "for train, test in kfold.split(X_train, y_train):\n",
    "    # create model, train, and get accuracy\n",
    "    model = model_h_sigmoid\n",
    "    acc = model_train(model, X_train[train], y_train[train], X_train[test], y_train[test])\n",
    "    print(f\"sigmoid accuracy: {acc:.4f}\")\n",
    "    cv_scores_sigmoid.append(acc)\n",
    "\n",
    "# compare model performance\n",
    "relu_acc = np.mean(cv_scores_relu)\n",
    "relu_std = np.std(cv_scores_relu)\n",
    "sigmoid_acc = np.mean(cv_scores_sigmoid)\n",
    "sigmoid_std = np.std(cv_scores_sigmoid)\n",
    "print(f\"ReLU accuracy: {relu_acc*100:.2f}% +- {2*relu_std*100}%\")\n",
    "print(f\"sigmoid accuracy: {sigmoid_acc*100:.2f}% +- {2*sigmoid_std*100}%\")"
   ]
  },
  {
   "cell_type": "code",
   "execution_count": 8,
   "id": "ccaca98e-19ea-4d1b-81c0-ecb12f1767ac",
   "metadata": {},
   "outputs": [
    {
     "name": "stdout",
     "output_type": "stream",
     "text": [
      "Retrain a ReLU model\n",
      "Final model accuracy: 73.02%\n",
      "[2.160e-02 2.150e-02 2.730e-02 1.390e-02 3.570e-02 7.850e-02 9.060e-02\n",
      " 9.080e-02 1.151e-01 9.730e-02 1.203e-01 1.102e-01 1.192e-01 1.762e-01\n",
      " 2.390e-01 2.138e-01 1.929e-01 1.765e-01 7.460e-02 1.265e-01 2.005e-01\n",
      " 1.571e-01 2.605e-01 5.386e-01 8.440e-01 1.000e+00 8.684e-01 6.742e-01\n",
      " 5.537e-01 4.638e-01 3.609e-01 2.055e-01 1.620e-01 2.092e-01 3.100e-01\n",
      " 2.344e-01 1.058e-01 3.830e-02 5.280e-02 1.291e-01 2.241e-01 1.915e-01\n",
      " 1.587e-01 9.420e-02 8.400e-02 6.700e-02 3.420e-02 4.690e-02 3.570e-02\n",
      " 1.360e-02 8.200e-03 1.400e-02 4.400e-03 5.200e-03 7.300e-03 2.100e-03\n",
      " 4.700e-03 2.400e-03 9.000e-04 1.700e-03] -> [0.8658148] (expected [1.])\n",
      "[0.0654 0.0649 0.0737 0.1132 0.2482 0.1257 0.1797 0.0989 0.246  0.3422\n",
      " 0.2128 0.1377 0.4032 0.5684 0.2398 0.4331 0.5954 0.5772 0.8176 0.8835\n",
      " 0.5248 0.6373 0.8375 0.6699 0.7756 0.875  0.83   0.6896 0.3372 0.6405\n",
      " 0.7138 0.8202 0.6657 0.5254 0.296  0.0704 0.097  0.3941 0.6028 0.3521\n",
      " 0.3924 0.4808 0.4602 0.4164 0.5438 0.5649 0.3195 0.2484 0.1299 0.0825\n",
      " 0.0243 0.021  0.0361 0.0239 0.0447 0.0394 0.0355 0.044  0.0243 0.0098] -> [0.00472784] (expected [0.])\n",
      "[1.300e-02 1.200e-02 4.360e-02 6.240e-02 4.280e-02 3.490e-02 3.840e-02\n",
      " 4.460e-02 1.318e-01 1.375e-01 2.026e-01 2.389e-01 2.112e-01 1.444e-01\n",
      " 7.420e-02 1.533e-01 3.052e-01 4.116e-01 5.466e-01 5.933e-01 6.663e-01\n",
      " 7.333e-01 7.136e-01 7.014e-01 7.758e-01 9.137e-01 9.964e-01 1.000e+00\n",
      " 8.881e-01 6.585e-01 2.707e-01 1.746e-01 2.709e-01 4.853e-01 7.184e-01\n",
      " 8.209e-01 7.536e-01 6.496e-01 4.708e-01 3.482e-01 3.508e-01 3.181e-01\n",
      " 3.524e-01 3.659e-01 2.846e-01 1.714e-01 6.940e-02 3.030e-02 2.920e-02\n",
      " 1.160e-02 2.400e-03 8.400e-03 1.000e-02 1.800e-03 3.500e-03 5.800e-03\n",
      " 1.100e-03 9.000e-04 3.300e-03 2.600e-03] -> [0.7933119] (expected [0.])\n",
      "[0.0201 0.0165 0.0344 0.033  0.0397 0.0443 0.0684 0.0903 0.1739 0.2571\n",
      " 0.2931 0.3108 0.3603 0.3002 0.2718 0.2007 0.1801 0.2234 0.3568 0.5492\n",
      " 0.7209 0.8318 0.8864 0.952  0.9637 1.     0.9673 0.8664 0.7896 0.6345\n",
      " 0.5351 0.4056 0.2563 0.2894 0.3588 0.4296 0.4773 0.4516 0.3765 0.3051\n",
      " 0.1921 0.1184 0.1984 0.157  0.066  0.1294 0.0797 0.0052 0.0233 0.0152\n",
      " 0.0125 0.0054 0.0057 0.0137 0.0109 0.0035 0.0056 0.0105 0.0082 0.0036] -> [0.47702366] (expected [0.])\n",
      "[0.0392 0.0108 0.0267 0.0257 0.041  0.0491 0.1053 0.169  0.2105 0.2471\n",
      " 0.268  0.3049 0.2863 0.2294 0.1165 0.2127 0.2062 0.2222 0.3241 0.433\n",
      " 0.5071 0.5944 0.7078 0.7641 0.8878 0.9711 0.988  0.9812 0.9464 0.8542\n",
      " 0.6457 0.3397 0.3828 0.3204 0.1331 0.044  0.1234 0.203  0.1652 0.1043\n",
      " 0.1066 0.211  0.2417 0.1631 0.0769 0.0723 0.0912 0.0812 0.0496 0.0101\n",
      " 0.0089 0.0083 0.008  0.0026 0.0079 0.0042 0.0071 0.0044 0.0022 0.0014] -> [0.10766339] (expected [0.])\n"
     ]
    },
    {
     "data": {
      "image/png": "[encoded data removed]",
      "text/plain": [
       "<Figure size 640x480 with 1 Axes>"
      ]
     },
     "metadata": {},
     "output_type": "display_data"
    }
   ],
   "source": [
    "from sklearn.metrics import roc_curve\n",
    "import matplotlib.pyplot as plt\n",
    "# rebuild model with full set of training data\n",
    "if relu_acc > sigmoid_acc:\n",
    "    print(\"Retrain a ReLU model\")\n",
    "    model = model_h_relu\n",
    "else:\n",
    "    print(\"Retrain a sigmoid model\")\n",
    "    model = model_h_sigmoid\n",
    "acc = model_train(model, X_train, y_train, X_test, y_test)\n",
    "print(f\"Final model accuracy: {acc*100:.2f}%\")\n",
    " \n",
    "model.eval()\n",
    "with torch.no_grad():\n",
    "    # Test out inference with 5 samples\n",
    "    for i in range(5):\n",
    "        y_pred = model(X_test[i:i+1])\n",
    "        print(f\"{X_test[i].numpy()} -> {y_pred[0].numpy()} (expected {y_test[i].numpy()})\")\n",
    " \n",
    "    # Plot the ROC curve\n",
    "    y_pred = model(X_test)\n",
    "    fpr, tpr, thresholds = roc_curve(y_test, y_pred)\n",
    "    plt.plot(fpr, tpr) # ROC curve = TPR vs FPR\n",
    "    plt.title(\"Receiver Operating Characteristics\")\n",
    "    plt.xlabel(\"False Positive Rate\")\n",
    "    plt.ylabel(\"True Positive Rate\")\n",
    "    plt.show()"
   ]
  },
  {
   "cell_type": "code",
   "execution_count": null,
   "id": "15eaa254-861a-48d3-b7a2-721a23333901",
   "metadata": {},
   "outputs": [],
   "source": []
  },
  {
   "cell_type": "code",
   "execution_count": null,
   "id": "93f818bd-f4ee-4f29-95f5-60ba8be77fef",
   "metadata": {},
   "outputs": [],
   "source": []
  },
  {
   "cell_type": "code",
   "execution_count": null,
   "id": "a5fc4452-088f-4084-96e3-408b901d3043",
   "metadata": {},
   "outputs": [],
   "source": []
  },
  {
   "cell_type": "code",
   "execution_count": null,
   "id": "24de8b25-c040-4523-bd08-7071d1f4d02f",
   "metadata": {},
   "outputs": [],
   "source": []
  },
  {
   "cell_type": "code",
   "execution_count": null,
   "id": "6f6811da-64ca-46a4-ad1a-d0bbb1586c56",
   "metadata": {},
   "outputs": [],
   "source": []
  },
  {
   "cell_type": "code",
   "execution_count": null,
   "id": "4968afa7-956f-4a02-ba12-5b75af3345ea",
   "metadata": {},
   "outputs": [],
   "source": []
  }
 ],
 "metadata": {
  "kernelspec": {
   "display_name": "Python 3 (ipykernel)",
   "language": "python",
   "name": "python3"
  },
  "language_info": {
   "codemirror_mode": {
    "name": "ipython",
    "version": 3
   },
   "file_extension": ".py",
   "mimetype": "text/x-python",
   "name": "python",
   "nbconvert_exporter": "python",
   "pygments_lexer": "ipython3",
   "version": "3.11.6"
  }
 },
 "nbformat": 4,
 "nbformat_minor": 5
}
