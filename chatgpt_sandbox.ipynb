{
 "cells": [
  {
   "cell_type": "code",
   "execution_count": null,
   "id": "52ef585d-dd55-4f86-8d56-687d4a11b3f1",
   "metadata": {},
   "outputs": [],
   "source": []
  },
  {
   "cell_type": "markdown",
   "id": "1253221e-1757-4ce4-86f8-28b9f41e7be0",
   "metadata": {},
   "source": [
    "## Make a request to a ChatGPT model\n",
    "\n",
    "The following working example is from:  https://platform.openai.com/docs/quickstart?context=python\n"
   ]
  },
  {
   "cell_type": "code",
   "execution_count": 1,
   "id": "4dfc7c8d-6685-4cf9-80fa-63b7ddd4c9ac",
   "metadata": {},
   "outputs": [],
   "source": [
    "# from openai import OpenAI\n",
    "# client = OpenAI()\n",
    "# \n",
    "# completion = client.chat.completions.create(\n",
    "#   model=\"gpt-3.5-turbo\",\n",
    "#   messages=[\n",
    "#     {\"role\": \"system\", \"content\": \"You are a poetic assistant, skilled in explaining complex programming concepts with creative flair.\"},\n",
    "#     {\"role\": \"user\", \"content\": \"Compose a poem that explains the concept of recursion in programming.\"}\n",
    "#   ]\n",
    "# )\n",
    "\n",
    "# print(completion.choices[0].message)"
   ]
  },
  {
   "cell_type": "markdown",
   "id": "9b818a22-bd21-47ce-8384-ad6241528cea",
   "metadata": {},
   "source": [
    "## Try generating related tweets"
   ]
  },
  {
   "cell_type": "code",
   "execution_count": 2,
   "id": "059cfa19-f42b-4327-9a83-372d85179397",
   "metadata": {},
   "outputs": [
    {
     "name": "stdout",
     "output_type": "stream",
     "text": [
      "shape of base data with spillovers fixed and duplicates removed: (7485, 4)\n",
      "shape of base data with target == 0: (4297, 2)\n",
      "shape of base data with target == 1: (3188, 2)\n",
      "max index value for class 0 training data: 10848\n",
      "\n"
     ]
    },
    {
     "data": {
      "text/html": [
       "<div>\n",
       "<style scoped>\n",
       "    .dataframe tbody tr th:only-of-type {\n",
       "        vertical-align: middle;\n",
       "    }\n",
       "\n",
       "    .dataframe tbody tr th {\n",
       "        vertical-align: top;\n",
       "    }\n",
       "\n",
       "    .dataframe thead th {\n",
       "        text-align: right;\n",
       "    }\n",
       "</style>\n",
       "<table border=\"1\" class=\"dataframe\">\n",
       "  <thead>\n",
       "    <tr style=\"text-align: right;\">\n",
       "      <th></th>\n",
       "      <th>text</th>\n",
       "      <th>target</th>\n",
       "    </tr>\n",
       "    <tr>\n",
       "      <th>id</th>\n",
       "      <th></th>\n",
       "      <th></th>\n",
       "    </tr>\n",
       "  </thead>\n",
       "  <tbody>\n",
       "    <tr>\n",
       "      <th>23</th>\n",
       "      <td>What's up man?</td>\n",
       "      <td>0</td>\n",
       "    </tr>\n",
       "    <tr>\n",
       "      <th>24</th>\n",
       "      <td>I love fruits</td>\n",
       "      <td>0</td>\n",
       "    </tr>\n",
       "    <tr>\n",
       "      <th>25</th>\n",
       "      <td>Summer is lovely</td>\n",
       "      <td>0</td>\n",
       "    </tr>\n",
       "    <tr>\n",
       "      <th>26</th>\n",
       "      <td>My car is so fast</td>\n",
       "      <td>0</td>\n",
       "    </tr>\n",
       "    <tr>\n",
       "      <th>28</th>\n",
       "      <td>What a goooooooaaaaaal!!!!!!</td>\n",
       "      <td>0</td>\n",
       "    </tr>\n",
       "  </tbody>\n",
       "</table>\n",
       "</div>"
      ],
      "text/plain": [
       "                            text  target\n",
       "id                                      \n",
       "23                What's up man?       0\n",
       "24                 I love fruits       0\n",
       "25              Summer is lovely       0\n",
       "26             My car is so fast       0\n",
       "28  What a goooooooaaaaaal!!!!!!       0"
      ]
     },
     "execution_count": 2,
     "metadata": {},
     "output_type": "execute_result"
    }
   ],
   "source": [
    "import pandas as pd\n",
    "# break out classes from original training data\n",
    "df_train = pd.read_csv(\"./data/train_clean_v03.csv\", index_col='id')\n",
    "# train_ids = df_train['id']\n",
    "print(f\"shape of base data with spillovers fixed and duplicates removed: {df_train.shape}\")\n",
    "df_train_class0 = df_train.loc[df_train['target'] == 0, ['text', 'target']]\n",
    "df_train_class1 = df_train.loc[df_train['target'] == 1, ['text', 'target']]\n",
    "print(f\"shape of base data with target == 0: {df_train_class0.shape}\")\n",
    "print(f\"shape of base data with target == 1: {df_train_class1.shape}\")\n",
    "print(f\"max index value for class 0 training data: {df_train_class0.index.max()}\")\n",
    "print()\n",
    "df_train_class0.head()"
   ]
  },
  {
   "cell_type": "code",
   "execution_count": 3,
   "id": "2c0ca761-c32b-414f-8c8e-d6328e2956ff",
   "metadata": {},
   "outputs": [
    {
     "name": "stdout",
     "output_type": "stream",
     "text": [
      "max index value for class 1 training data: 10873\n"
     ]
    },
    {
     "data": {
      "text/html": [
       "<div>\n",
       "<style scoped>\n",
       "    .dataframe tbody tr th:only-of-type {\n",
       "        vertical-align: middle;\n",
       "    }\n",
       "\n",
       "    .dataframe tbody tr th {\n",
       "        vertical-align: top;\n",
       "    }\n",
       "\n",
       "    .dataframe thead th {\n",
       "        text-align: right;\n",
       "    }\n",
       "</style>\n",
       "<table border=\"1\" class=\"dataframe\">\n",
       "  <thead>\n",
       "    <tr style=\"text-align: right;\">\n",
       "      <th></th>\n",
       "      <th>text</th>\n",
       "      <th>target</th>\n",
       "    </tr>\n",
       "    <tr>\n",
       "      <th>id</th>\n",
       "      <th></th>\n",
       "      <th></th>\n",
       "    </tr>\n",
       "  </thead>\n",
       "  <tbody>\n",
       "    <tr>\n",
       "      <th>1</th>\n",
       "      <td>Our Deeds are the Reason of this #earthquake M...</td>\n",
       "      <td>1</td>\n",
       "    </tr>\n",
       "    <tr>\n",
       "      <th>4</th>\n",
       "      <td>Forest fire near La Ronge Sask. Canada</td>\n",
       "      <td>1</td>\n",
       "    </tr>\n",
       "    <tr>\n",
       "      <th>5</th>\n",
       "      <td>All residents asked to 'shelter in place' are ...</td>\n",
       "      <td>1</td>\n",
       "    </tr>\n",
       "    <tr>\n",
       "      <th>6</th>\n",
       "      <td>13,000 people receive #wildfires evacuation or...</td>\n",
       "      <td>1</td>\n",
       "    </tr>\n",
       "    <tr>\n",
       "      <th>7</th>\n",
       "      <td>Just got sent this photo from Ruby #Alaska as ...</td>\n",
       "      <td>1</td>\n",
       "    </tr>\n",
       "  </tbody>\n",
       "</table>\n",
       "</div>"
      ],
      "text/plain": [
       "                                                 text  target\n",
       "id                                                           \n",
       "1   Our Deeds are the Reason of this #earthquake M...       1\n",
       "4              Forest fire near La Ronge Sask. Canada       1\n",
       "5   All residents asked to 'shelter in place' are ...       1\n",
       "6   13,000 people receive #wildfires evacuation or...       1\n",
       "7   Just got sent this photo from Ruby #Alaska as ...       1"
      ]
     },
     "execution_count": 3,
     "metadata": {},
     "output_type": "execute_result"
    }
   ],
   "source": [
    "print(f\"max index value for class 1 training data: {df_train_class1.index.max()}\")\n",
    "df_train_class1.head()"
   ]
  },
  {
   "cell_type": "code",
   "execution_count": 4,
   "id": "a6774fb4-3f32-4618-a353-bd19d55da658",
   "metadata": {},
   "outputs": [
    {
     "name": "stdout",
     "output_type": "stream",
     "text": [
      "shape of df_aug_class0: (4297, 3)\n",
      "\n"
     ]
    },
    {
     "data": {
      "text/html": [
       "<div>\n",
       "<style scoped>\n",
       "    .dataframe tbody tr th:only-of-type {\n",
       "        vertical-align: middle;\n",
       "    }\n",
       "\n",
       "    .dataframe tbody tr th {\n",
       "        vertical-align: top;\n",
       "    }\n",
       "\n",
       "    .dataframe thead th {\n",
       "        text-align: right;\n",
       "    }\n",
       "</style>\n",
       "<table border=\"1\" class=\"dataframe\">\n",
       "  <thead>\n",
       "    <tr style=\"text-align: right;\">\n",
       "      <th></th>\n",
       "      <th>id</th>\n",
       "      <th>text</th>\n",
       "      <th>target</th>\n",
       "    </tr>\n",
       "  </thead>\n",
       "  <tbody>\n",
       "    <tr>\n",
       "      <th>0</th>\n",
       "      <td>20023</td>\n",
       "      <td>What's up man?</td>\n",
       "      <td>0</td>\n",
       "    </tr>\n",
       "    <tr>\n",
       "      <th>1</th>\n",
       "      <td>20024</td>\n",
       "      <td>I love fruits</td>\n",
       "      <td>0</td>\n",
       "    </tr>\n",
       "    <tr>\n",
       "      <th>2</th>\n",
       "      <td>20025</td>\n",
       "      <td>Summer is lovely</td>\n",
       "      <td>0</td>\n",
       "    </tr>\n",
       "    <tr>\n",
       "      <th>3</th>\n",
       "      <td>20026</td>\n",
       "      <td>My car is so fast</td>\n",
       "      <td>0</td>\n",
       "    </tr>\n",
       "    <tr>\n",
       "      <th>4</th>\n",
       "      <td>20028</td>\n",
       "      <td>What a goooooooaaaaaal!!!!!!</td>\n",
       "      <td>0</td>\n",
       "    </tr>\n",
       "    <tr>\n",
       "      <th>5</th>\n",
       "      <td>20031</td>\n",
       "      <td>this is ridiculous....</td>\n",
       "      <td>0</td>\n",
       "    </tr>\n",
       "    <tr>\n",
       "      <th>6</th>\n",
       "      <td>20032</td>\n",
       "      <td>London is cool ;)</td>\n",
       "      <td>0</td>\n",
       "    </tr>\n",
       "    <tr>\n",
       "      <th>7</th>\n",
       "      <td>20033</td>\n",
       "      <td>Love skiing</td>\n",
       "      <td>0</td>\n",
       "    </tr>\n",
       "    <tr>\n",
       "      <th>8</th>\n",
       "      <td>20034</td>\n",
       "      <td>What a wonderful day!</td>\n",
       "      <td>0</td>\n",
       "    </tr>\n",
       "    <tr>\n",
       "      <th>9</th>\n",
       "      <td>20036</td>\n",
       "      <td>LOOOOOOL</td>\n",
       "      <td>0</td>\n",
       "    </tr>\n",
       "  </tbody>\n",
       "</table>\n",
       "</div>"
      ],
      "text/plain": [
       "      id                          text  target\n",
       "0  20023                What's up man?       0\n",
       "1  20024                 I love fruits       0\n",
       "2  20025              Summer is lovely       0\n",
       "3  20026             My car is so fast       0\n",
       "4  20028  What a goooooooaaaaaal!!!!!!       0\n",
       "5  20031        this is ridiculous....       0\n",
       "6  20032             London is cool ;)       0\n",
       "7  20033                   Love skiing       0\n",
       "8  20034         What a wonderful day!       0\n",
       "9  20036                      LOOOOOOL       0"
      ]
     },
     "execution_count": 4,
     "metadata": {},
     "output_type": "execute_result"
    }
   ],
   "source": [
    "# \n",
    "id_aug_class0 = []\n",
    "text_aug_class0 = []\n",
    "target_aug_class0 = []\n",
    "\n",
    "aug_offset = 20000  # max tweet index is 10873\n",
    "\n",
    "# load the class 0 training samples in a df to use for augmentation\n",
    "for index, row in df_train_class0.iterrows():\n",
    "    id_aug_class0.append(index + aug_offset)\n",
    "    text_aug_class0.append(row['text'])\n",
    "    target_aug_class0.append(row['target'])\n",
    "\n",
    "df_aug_class0 = pd.DataFrame({\n",
    "    'id': id_aug_class0,\n",
    "    'text': text_aug_class0,\n",
    "    'target': target_aug_class0\n",
    "})\n",
    "\n",
    "print(f\"shape of df_aug_class0: {df_aug_class0.shape}\")\n",
    "print()\n",
    "df_aug_class0.head(10)"
   ]
  },
  {
   "cell_type": "code",
   "execution_count": 5,
   "id": "3c6fa3b5-ca8b-4d2b-8370-86b6553325ea",
   "metadata": {},
   "outputs": [
    {
     "name": "stdout",
     "output_type": "stream",
     "text": [
      "shape of df_aug_class1: (3188, 3)\n",
      "\n"
     ]
    },
    {
     "data": {
      "text/html": [
       "<div>\n",
       "<style scoped>\n",
       "    .dataframe tbody tr th:only-of-type {\n",
       "        vertical-align: middle;\n",
       "    }\n",
       "\n",
       "    .dataframe tbody tr th {\n",
       "        vertical-align: top;\n",
       "    }\n",
       "\n",
       "    .dataframe thead th {\n",
       "        text-align: right;\n",
       "    }\n",
       "</style>\n",
       "<table border=\"1\" class=\"dataframe\">\n",
       "  <thead>\n",
       "    <tr style=\"text-align: right;\">\n",
       "      <th></th>\n",
       "      <th>id</th>\n",
       "      <th>text</th>\n",
       "      <th>target</th>\n",
       "    </tr>\n",
       "  </thead>\n",
       "  <tbody>\n",
       "    <tr>\n",
       "      <th>0</th>\n",
       "      <td>20001</td>\n",
       "      <td>Our Deeds are the Reason of this #earthquake M...</td>\n",
       "      <td>1</td>\n",
       "    </tr>\n",
       "    <tr>\n",
       "      <th>1</th>\n",
       "      <td>20004</td>\n",
       "      <td>Forest fire near La Ronge Sask. Canada</td>\n",
       "      <td>1</td>\n",
       "    </tr>\n",
       "    <tr>\n",
       "      <th>2</th>\n",
       "      <td>20005</td>\n",
       "      <td>All residents asked to 'shelter in place' are ...</td>\n",
       "      <td>1</td>\n",
       "    </tr>\n",
       "    <tr>\n",
       "      <th>3</th>\n",
       "      <td>20006</td>\n",
       "      <td>13,000 people receive #wildfires evacuation or...</td>\n",
       "      <td>1</td>\n",
       "    </tr>\n",
       "    <tr>\n",
       "      <th>4</th>\n",
       "      <td>20007</td>\n",
       "      <td>Just got sent this photo from Ruby #Alaska as ...</td>\n",
       "      <td>1</td>\n",
       "    </tr>\n",
       "    <tr>\n",
       "      <th>5</th>\n",
       "      <td>20008</td>\n",
       "      <td>#RockyFire Update =&gt; California Hwy. 20 closed...</td>\n",
       "      <td>1</td>\n",
       "    </tr>\n",
       "    <tr>\n",
       "      <th>6</th>\n",
       "      <td>20010</td>\n",
       "      <td>#flood #disaster Heavy rain causes flash flood...</td>\n",
       "      <td>1</td>\n",
       "    </tr>\n",
       "    <tr>\n",
       "      <th>7</th>\n",
       "      <td>20013</td>\n",
       "      <td>I'm on top of the hill and I can see a fire in...</td>\n",
       "      <td>1</td>\n",
       "    </tr>\n",
       "    <tr>\n",
       "      <th>8</th>\n",
       "      <td>20014</td>\n",
       "      <td>There's an emergency evacuation happening now ...</td>\n",
       "      <td>1</td>\n",
       "    </tr>\n",
       "    <tr>\n",
       "      <th>9</th>\n",
       "      <td>20015</td>\n",
       "      <td>I'm afraid that the tornado is coming to our a...</td>\n",
       "      <td>1</td>\n",
       "    </tr>\n",
       "  </tbody>\n",
       "</table>\n",
       "</div>"
      ],
      "text/plain": [
       "      id                                               text  target\n",
       "0  20001  Our Deeds are the Reason of this #earthquake M...       1\n",
       "1  20004             Forest fire near La Ronge Sask. Canada       1\n",
       "2  20005  All residents asked to 'shelter in place' are ...       1\n",
       "3  20006  13,000 people receive #wildfires evacuation or...       1\n",
       "4  20007  Just got sent this photo from Ruby #Alaska as ...       1\n",
       "5  20008  #RockyFire Update => California Hwy. 20 closed...       1\n",
       "6  20010  #flood #disaster Heavy rain causes flash flood...       1\n",
       "7  20013  I'm on top of the hill and I can see a fire in...       1\n",
       "8  20014  There's an emergency evacuation happening now ...       1\n",
       "9  20015  I'm afraid that the tornado is coming to our a...       1"
      ]
     },
     "execution_count": 5,
     "metadata": {},
     "output_type": "execute_result"
    }
   ],
   "source": [
    "id_aug_class1 = []\n",
    "text_aug_class1 = []\n",
    "target_aug_class1 = []\n",
    "\n",
    "# load the class 1 training samples in a df to use for augmentation\n",
    "for index, row in df_train_class1.iterrows():\n",
    "    id_aug_class1.append(index + aug_offset)\n",
    "    text_aug_class1.append(row['text'])\n",
    "    target_aug_class1.append(row['target'])\n",
    "\n",
    "df_aug_class1 = pd.DataFrame({\n",
    "    'id': id_aug_class1,\n",
    "    'text': text_aug_class1,\n",
    "    'target': target_aug_class1\n",
    "})\n",
    "\n",
    "print(f\"shape of df_aug_class1: {df_aug_class1.shape}\")\n",
    "print()\n",
    "df_aug_class1.head(10)"
   ]
  },
  {
   "cell_type": "markdown",
   "id": "7fad24f3-8750-4fda-9c86-cb5847e66ee4",
   "metadata": {
    "scrolled": true
   },
   "source": [
    "## Set up the prompts for augmented data generation"
   ]
  },
  {
   "cell_type": "code",
   "execution_count": 6,
   "id": "5deef713-59de-403a-b4f1-cccb1173c35f",
   "metadata": {},
   "outputs": [
    {
     "data": {
      "text/html": [
       "<div>\n",
       "<style scoped>\n",
       "    .dataframe tbody tr th:only-of-type {\n",
       "        vertical-align: middle;\n",
       "    }\n",
       "\n",
       "    .dataframe tbody tr th {\n",
       "        vertical-align: top;\n",
       "    }\n",
       "\n",
       "    .dataframe thead th {\n",
       "        text-align: right;\n",
       "    }\n",
       "</style>\n",
       "<table border=\"1\" class=\"dataframe\">\n",
       "  <thead>\n",
       "    <tr style=\"text-align: right;\">\n",
       "      <th></th>\n",
       "      <th>date</th>\n",
       "      <th>prompt_component</th>\n",
       "      <th>version</th>\n",
       "      <th>class</th>\n",
       "      <th>content</th>\n",
       "      <th>notes</th>\n",
       "    </tr>\n",
       "  </thead>\n",
       "  <tbody>\n",
       "    <tr>\n",
       "      <th>0</th>\n",
       "      <td>2024-02-26</td>\n",
       "      <td>context</td>\n",
       "      <td>1</td>\n",
       "      <td>2</td>\n",
       "      <td>You are a fiction writer who has observed a di...</td>\n",
       "      <td>initial context for both classes used for send...</td>\n",
       "    </tr>\n",
       "    <tr>\n",
       "      <th>1</th>\n",
       "      <td>2024-02-26</td>\n",
       "      <td>prompt_prefix</td>\n",
       "      <td>1</td>\n",
       "      <td>0</td>\n",
       "      <td>Write me a tweet similar to this one, under 14...</td>\n",
       "      <td>initial class 0 prompt used in web interface</td>\n",
       "    </tr>\n",
       "    <tr>\n",
       "      <th>2</th>\n",
       "      <td>2024-02-26</td>\n",
       "      <td>prompt_prefix</td>\n",
       "      <td>1</td>\n",
       "      <td>1</td>\n",
       "      <td>Write me a tweet similar to this one, under 14...</td>\n",
       "      <td>initial class 1 prompt used in web interface</td>\n",
       "    </tr>\n",
       "    <tr>\n",
       "      <th>3</th>\n",
       "      <td>2024-02-27</td>\n",
       "      <td>context</td>\n",
       "      <td>2</td>\n",
       "      <td>2</td>\n",
       "      <td>You are a fiction writer who has observed a di...</td>\n",
       "      <td>same as version 1</td>\n",
       "    </tr>\n",
       "    <tr>\n",
       "      <th>4</th>\n",
       "      <td>2024-02-27</td>\n",
       "      <td>prompt_prefix</td>\n",
       "      <td>2</td>\n",
       "      <td>0</td>\n",
       "      <td>Write me a tweet similar to this one, under 14...</td>\n",
       "      <td>avoid having to expand contractions on generat...</td>\n",
       "    </tr>\n",
       "    <tr>\n",
       "      <th>5</th>\n",
       "      <td>2024-02-27</td>\n",
       "      <td>prompt_prefix</td>\n",
       "      <td>2</td>\n",
       "      <td>1</td>\n",
       "      <td>Write me a tweet similar to this one, under 14...</td>\n",
       "      <td>avoid having to expand contractions on generat...</td>\n",
       "    </tr>\n",
       "    <tr>\n",
       "      <th>6</th>\n",
       "      <td>2024-02-29</td>\n",
       "      <td>context</td>\n",
       "      <td>3</td>\n",
       "      <td>2</td>\n",
       "      <td>You are a fiction writer who has observed a di...</td>\n",
       "      <td>same as version 2</td>\n",
       "    </tr>\n",
       "    <tr>\n",
       "      <th>7</th>\n",
       "      <td>2024-02-29</td>\n",
       "      <td>prompt_prefix</td>\n",
       "      <td>3</td>\n",
       "      <td>0</td>\n",
       "      <td>Write me a tweet similar to this one, under 14...</td>\n",
       "      <td>fix issue with generated tweet quoting</td>\n",
       "    </tr>\n",
       "    <tr>\n",
       "      <th>8</th>\n",
       "      <td>2024-02-29</td>\n",
       "      <td>prompt_prefix</td>\n",
       "      <td>3</td>\n",
       "      <td>1</td>\n",
       "      <td>Write me a tweet similar to this one, under 14...</td>\n",
       "      <td>fix issue with generated tweet quoting</td>\n",
       "    </tr>\n",
       "    <tr>\n",
       "      <th>9</th>\n",
       "      <td>2024-03-23</td>\n",
       "      <td>context</td>\n",
       "      <td>4</td>\n",
       "      <td>1</td>\n",
       "      <td>You are a world class reporter who has observe...</td>\n",
       "      <td>change fiction writer to reporter</td>\n",
       "    </tr>\n",
       "    <tr>\n",
       "      <th>10</th>\n",
       "      <td>2024-03-23</td>\n",
       "      <td>context</td>\n",
       "      <td>4</td>\n",
       "      <td>0</td>\n",
       "      <td>You are social commentator who enjoys diverse ...</td>\n",
       "      <td>add context for class 0 generated tweets</td>\n",
       "    </tr>\n",
       "    <tr>\n",
       "      <th>11</th>\n",
       "      <td>2024-03-23</td>\n",
       "      <td>prompt_prefix</td>\n",
       "      <td>4</td>\n",
       "      <td>0</td>\n",
       "      <td>Write me a tweet similar to this one, under 14...</td>\n",
       "      <td>remove contraction constraint, add similar fee...</td>\n",
       "    </tr>\n",
       "    <tr>\n",
       "      <th>12</th>\n",
       "      <td>2024-03-23</td>\n",
       "      <td>prompt_prefix</td>\n",
       "      <td>4</td>\n",
       "      <td>1</td>\n",
       "      <td>Write me a tweet similar to this one, under 14...</td>\n",
       "      <td>remove contraction constraint</td>\n",
       "    </tr>\n",
       "  </tbody>\n",
       "</table>\n",
       "</div>"
      ],
      "text/plain": [
       "          date prompt_component  version  class  \\\n",
       "0   2024-02-26          context        1      2   \n",
       "1   2024-02-26    prompt_prefix        1      0   \n",
       "2   2024-02-26    prompt_prefix        1      1   \n",
       "3   2024-02-27          context        2      2   \n",
       "4   2024-02-27    prompt_prefix        2      0   \n",
       "5   2024-02-27    prompt_prefix        2      1   \n",
       "6   2024-02-29          context        3      2   \n",
       "7   2024-02-29    prompt_prefix        3      0   \n",
       "8   2024-02-29    prompt_prefix        3      1   \n",
       "9   2024-03-23          context        4      1   \n",
       "10  2024-03-23          context        4      0   \n",
       "11  2024-03-23    prompt_prefix        4      0   \n",
       "12  2024-03-23    prompt_prefix        4      1   \n",
       "\n",
       "                                              content  \\\n",
       "0   You are a fiction writer who has observed a di...   \n",
       "1   Write me a tweet similar to this one, under 14...   \n",
       "2   Write me a tweet similar to this one, under 14...   \n",
       "3   You are a fiction writer who has observed a di...   \n",
       "4   Write me a tweet similar to this one, under 14...   \n",
       "5   Write me a tweet similar to this one, under 14...   \n",
       "6   You are a fiction writer who has observed a di...   \n",
       "7   Write me a tweet similar to this one, under 14...   \n",
       "8   Write me a tweet similar to this one, under 14...   \n",
       "9   You are a world class reporter who has observe...   \n",
       "10  You are social commentator who enjoys diverse ...   \n",
       "11  Write me a tweet similar to this one, under 14...   \n",
       "12  Write me a tweet similar to this one, under 14...   \n",
       "\n",
       "                                                notes  \n",
       "0   initial context for both classes used for send...  \n",
       "1        initial class 0 prompt used in web interface  \n",
       "2        initial class 1 prompt used in web interface  \n",
       "3                                   same as version 1  \n",
       "4   avoid having to expand contractions on generat...  \n",
       "5   avoid having to expand contractions on generat...  \n",
       "6                                   same as version 2  \n",
       "7              fix issue with generated tweet quoting  \n",
       "8              fix issue with generated tweet quoting  \n",
       "9                   change fiction writer to reporter  \n",
       "10           add context for class 0 generated tweets  \n",
       "11  remove contraction constraint, add similar fee...  \n",
       "12                      remove contraction constraint  "
      ]
     },
     "execution_count": 6,
     "metadata": {},
     "output_type": "execute_result"
    }
   ],
   "source": [
    "import projtools as pt\n",
    "import pandas as pd\n",
    "\n",
    "df_prompt_data = pd.read_csv(\"./data/prompt_log.csv\")\n",
    "df_prompt_data\n",
    "# get current context and prompt prefix\n",
    "# context, start_prompt_class0 = pt.get_prompt_setup(prompt_date='2024-02-28', target_class=0)"
   ]
  },
  {
   "cell_type": "code",
   "execution_count": 8,
   "id": "799f08b7-dc11-4030-8771-930632085a32",
   "metadata": {},
   "outputs": [
    {
     "data": {
      "text/html": [
       "<div>\n",
       "<style scoped>\n",
       "    .dataframe tbody tr th:only-of-type {\n",
       "        vertical-align: middle;\n",
       "    }\n",
       "\n",
       "    .dataframe tbody tr th {\n",
       "        vertical-align: top;\n",
       "    }\n",
       "\n",
       "    .dataframe thead th {\n",
       "        text-align: right;\n",
       "    }\n",
       "</style>\n",
       "<table border=\"1\" class=\"dataframe\">\n",
       "  <thead>\n",
       "    <tr style=\"text-align: right;\">\n",
       "      <th></th>\n",
       "      <th>text</th>\n",
       "      <th>target</th>\n",
       "    </tr>\n",
       "    <tr>\n",
       "      <th>id</th>\n",
       "      <th></th>\n",
       "      <th></th>\n",
       "    </tr>\n",
       "  </thead>\n",
       "  <tbody>\n",
       "    <tr>\n",
       "      <th>23</th>\n",
       "      <td>What's up man?</td>\n",
       "      <td>0</td>\n",
       "    </tr>\n",
       "    <tr>\n",
       "      <th>24</th>\n",
       "      <td>I love fruits</td>\n",
       "      <td>0</td>\n",
       "    </tr>\n",
       "    <tr>\n",
       "      <th>25</th>\n",
       "      <td>Summer is lovely</td>\n",
       "      <td>0</td>\n",
       "    </tr>\n",
       "    <tr>\n",
       "      <th>26</th>\n",
       "      <td>My car is so fast</td>\n",
       "      <td>0</td>\n",
       "    </tr>\n",
       "    <tr>\n",
       "      <th>28</th>\n",
       "      <td>What a goooooooaaaaaal!!!!!!</td>\n",
       "      <td>0</td>\n",
       "    </tr>\n",
       "  </tbody>\n",
       "</table>\n",
       "</div>"
      ],
      "text/plain": [
       "                            text  target\n",
       "id                                      \n",
       "23                What's up man?       0\n",
       "24                 I love fruits       0\n",
       "25              Summer is lovely       0\n",
       "26             My car is so fast       0\n",
       "28  What a goooooooaaaaaal!!!!!!       0"
      ]
     },
     "execution_count": 8,
     "metadata": {},
     "output_type": "execute_result"
    }
   ],
   "source": [
    "df_train_class0.head()"
   ]
  },
  {
   "cell_type": "code",
   "execution_count": 9,
   "id": "ed6781b6-7835-4e5c-8716-e444c1c6ed9a",
   "metadata": {},
   "outputs": [
    {
     "name": "stdout",
     "output_type": "stream",
     "text": [
      "Ablaze for you Lord :D\n",
      "Barbados #Bridgetown JAMAICA ÛÒ Two cars set ablaze: SANTA CRUZ ÛÓ Head of the St Elizabeth Police Superintende...  http://t.co/wDUEaj8Q4J\n"
     ]
    }
   ],
   "source": [
    "# grab a couple of tweets to test\n",
    "base_tweet_class0 = df_train_class0['text'].loc[df_train_class0.index == 57].values[0]\n",
    "base_tweet_class1 = df_train_class1['text'].loc[df_train_class1.index == 56].values[0]\n",
    "print(base_tweet_class0)\n",
    "print(base_tweet_class1)"
   ]
  },
  {
   "cell_type": "code",
   "execution_count": 11,
   "id": "d24dc782-8d97-4130-97ba-49f28cdbefdb",
   "metadata": {},
   "outputs": [
    {
     "name": "stdout",
     "output_type": "stream",
     "text": [
      "class 0 context: You are social commentator who enjoys diverse opinions and likes to tweet.\n",
      "class 1 context: You are a world class reporter who has observed a disaster and likes to tweet.\n",
      "\n",
      "Write me a tweet similar to this one, under 141 characters, does not contain double quotes, but refers to a different activity, feeling and location: Ablaze for you Lord :D\n",
      "Write me a tweet similar to this one, under 141 characters, does not contain double quotes, but refers to a different disaster and location: Barbados #Bridgetown JAMAICA ÛÒ Two cars set ablaze: SANTA CRUZ ÛÓ Head of the St Elizabeth Police Superintende...  http://t.co/wDUEaj8Q4J\n"
     ]
    }
   ],
   "source": [
    "# set up a single request\n",
    "# context = \"You are a fiction writer who has observed a disaster and likes to tweet.\"\n",
    "# start_prompt_class0 = \"Write me a tweet similar to this one, under 141 characters, \" + \\\n",
    "#                       \"does not use contractions, but refers to a different activity and location: \"  # \"...activity...\n",
    "# start_prompt_class1 = \"Write me a tweet similar to this one, under 141 characters, \" + \\\n",
    "#                       \"does not use contractions, but refers to a different disaster and location: \"  # \"...disaster...\n",
    "current_prompt = pt.get_prompt_setup()\n",
    "context0 = current_prompt['context0']['text']\n",
    "context1 = current_prompt['context1']['text']\n",
    "\n",
    "start_prompt_class0 = current_prompt['prefix_class0']['text']\n",
    "start_prompt_class1 = current_prompt['prefix_class1']['text']\n",
    "\n",
    "complete_prompt_class0 = start_prompt_class0 + base_tweet_class0  # base_tweet_... defined in cell 2\n",
    "complete_prompt_class1 = start_prompt_class1 + base_tweet_class1\n",
    "\n",
    "print(f\"class 0 context: {context0}\")\n",
    "print(f\"class 1 context: {context1}\")\n",
    "print()\n",
    "print(complete_prompt_class0)\n",
    "print(complete_prompt_class1)"
   ]
  },
  {
   "cell_type": "code",
   "execution_count": null,
   "id": "fb5f0c97-9745-45cc-a3c7-4158134c0cc3",
   "metadata": {},
   "outputs": [],
   "source": [
    "# test batch of 3 tweets\n",
    "# df_aug_class1_test3 = df_aug_class1.iloc[:3]\n",
    "# print(context)\n",
    "# df_aug_class1_test3"
   ]
  },
  {
   "cell_type": "code",
   "execution_count": null,
   "id": "2654733b-259b-4a4a-9ba0-f885411bb043",
   "metadata": {},
   "outputs": [],
   "source": [
    "# df_train['id'].max()  # 10873, add 20,000 to id of augmented samples"
   ]
  },
  {
   "cell_type": "code",
   "execution_count": 28,
   "id": "7d139eb0-47c5-46d9-a882-28715944c30c",
   "metadata": {},
   "outputs": [
    {
     "name": "stdout",
     "output_type": "stream",
     "text": [
      "[(0, 199), (200, 399), (400, 599), (600, 799), (800, 999), (1000, 1199), (1200, 1399), (1400, 1599), (1600, 1799), (1800, 1999), (2000, 2199), (2200, 2399), (2400, 2599), (2600, 2799), (2800, 2999), (3000, 3199), (3200, 3399), (3400, 3599), (3600, 3799), (3800, 3999), (4000, 4199), (4200, 4297)]\n",
      "\n",
      "[(0, 199), (200, 399), (400, 599), (600, 799), (800, 999), (1000, 1199), (1200, 1399), (1400, 1599), (1600, 1799), (1800, 1999), (2000, 2199), (2200, 2399), (2400, 2599), (2600, 2799), (2800, 2999), (3100, 3189)]\n"
     ]
    }
   ],
   "source": [
    "class0_range_starts = tuple(range(0, 4001, 200))\n",
    "class1_range_starts = tuple(range(0, 2801, 200))\n",
    "# print(range_starts)\n",
    "# print(range_ends)\n",
    "offset = 199\n",
    "tweet_batches_class0 = [(start0, start0+offset) for start0 in class0_range_starts]\n",
    "tweet_batches_class1 = [(start1, start1+offset) for start1 in class1_range_starts]\n",
    "tweet_batches_class0.append((4200, 4297))\n",
    "tweet_batches_class1.append((3100, 3189))\n",
    "\n",
    "print(tweet_batches_class0)\n",
    "print()\n",
    "print(tweet_batches_class1)"
   ]
  },
  {
   "cell_type": "code",
   "execution_count": 16,
   "id": "77a3bd90-a785-4b79-a9c6-156c071ea02a",
   "metadata": {},
   "outputs": [
    {
     "name": "stdout",
     "output_type": "stream",
     "text": [
      "(4297, 2) (3188, 2)\n"
     ]
    }
   ],
   "source": [
    "print(df_train_class0.shape, df_train_class1.shape)"
   ]
  },
  {
   "cell_type": "code",
   "execution_count": 29,
   "id": "a017492e-1377-402a-805f-847c5c087dc4",
   "metadata": {},
   "outputs": [],
   "source": [
    "from openai import OpenAI\n",
    "\n",
    "client = OpenAI()\n",
    "\n",
    "aug_offest = 20000\n",
    "aug_tweets_class0 = {}\n",
    "aug_tweets_class1 = {}\n",
    "df_aug_class0_chunk = df_aug_class0.iloc[tweet_batches_class0[0][0]:(tweet_batches_class0[0][1]+1)]\n",
    "df_aug_class1_chunk = df_aug_class1.iloc[tweet_batches_class1[0][0]:(tweet_batches_class1[0][1]+1)]"
   ]
  },
  {
   "cell_type": "code",
   "execution_count": 30,
   "id": "cc9abe0c-0b7e-4d5c-b6ee-d49976e8a1d2",
   "metadata": {},
   "outputs": [
    {
     "data": {
      "text/html": [
       "<div>\n",
       "<style scoped>\n",
       "    .dataframe tbody tr th:only-of-type {\n",
       "        vertical-align: middle;\n",
       "    }\n",
       "\n",
       "    .dataframe tbody tr th {\n",
       "        vertical-align: top;\n",
       "    }\n",
       "\n",
       "    .dataframe thead th {\n",
       "        text-align: right;\n",
       "    }\n",
       "</style>\n",
       "<table border=\"1\" class=\"dataframe\">\n",
       "  <thead>\n",
       "    <tr style=\"text-align: right;\">\n",
       "      <th></th>\n",
       "      <th>id</th>\n",
       "      <th>text</th>\n",
       "      <th>target</th>\n",
       "    </tr>\n",
       "  </thead>\n",
       "  <tbody>\n",
       "    <tr>\n",
       "      <th>0</th>\n",
       "      <td>20023</td>\n",
       "      <td>What's up man?</td>\n",
       "      <td>0</td>\n",
       "    </tr>\n",
       "    <tr>\n",
       "      <th>1</th>\n",
       "      <td>20024</td>\n",
       "      <td>I love fruits</td>\n",
       "      <td>0</td>\n",
       "    </tr>\n",
       "    <tr>\n",
       "      <th>2</th>\n",
       "      <td>20025</td>\n",
       "      <td>Summer is lovely</td>\n",
       "      <td>0</td>\n",
       "    </tr>\n",
       "    <tr>\n",
       "      <th>3</th>\n",
       "      <td>20026</td>\n",
       "      <td>My car is so fast</td>\n",
       "      <td>0</td>\n",
       "    </tr>\n",
       "    <tr>\n",
       "      <th>4</th>\n",
       "      <td>20028</td>\n",
       "      <td>What a goooooooaaaaaal!!!!!!</td>\n",
       "      <td>0</td>\n",
       "    </tr>\n",
       "  </tbody>\n",
       "</table>\n",
       "</div>"
      ],
      "text/plain": [
       "      id                          text  target\n",
       "0  20023                What's up man?       0\n",
       "1  20024                 I love fruits       0\n",
       "2  20025              Summer is lovely       0\n",
       "3  20026             My car is so fast       0\n",
       "4  20028  What a goooooooaaaaaal!!!!!!       0"
      ]
     },
     "execution_count": 30,
     "metadata": {},
     "output_type": "execute_result"
    }
   ],
   "source": [
    "df_aug_class0_chunk.head()"
   ]
  },
  {
   "cell_type": "code",
   "execution_count": 31,
   "id": "0d60a8e0-1d05-4891-b41b-f64db0a0e68a",
   "metadata": {},
   "outputs": [
    {
     "name": "stdout",
     "output_type": "stream",
     "text": [
      "(200, 3)\n"
     ]
    },
    {
     "data": {
      "text/html": [
       "<div>\n",
       "<style scoped>\n",
       "    .dataframe tbody tr th:only-of-type {\n",
       "        vertical-align: middle;\n",
       "    }\n",
       "\n",
       "    .dataframe tbody tr th {\n",
       "        vertical-align: top;\n",
       "    }\n",
       "\n",
       "    .dataframe thead th {\n",
       "        text-align: right;\n",
       "    }\n",
       "</style>\n",
       "<table border=\"1\" class=\"dataframe\">\n",
       "  <thead>\n",
       "    <tr style=\"text-align: right;\">\n",
       "      <th></th>\n",
       "      <th>id</th>\n",
       "      <th>text</th>\n",
       "      <th>target</th>\n",
       "    </tr>\n",
       "  </thead>\n",
       "  <tbody>\n",
       "    <tr>\n",
       "      <th>195</th>\n",
       "      <td>20690</td>\n",
       "      <td>[infowars]  Nashville Theater Attack: Will Gun...</td>\n",
       "      <td>1</td>\n",
       "    </tr>\n",
       "    <tr>\n",
       "      <th>196</th>\n",
       "      <td>20699</td>\n",
       "      <td>Cop injured in gunfight as militants attack Ud...</td>\n",
       "      <td>1</td>\n",
       "    </tr>\n",
       "    <tr>\n",
       "      <th>197</th>\n",
       "      <td>20709</td>\n",
       "      <td>Israeli helicopters that attacked civilians in...</td>\n",
       "      <td>1</td>\n",
       "    </tr>\n",
       "    <tr>\n",
       "      <th>198</th>\n",
       "      <td>20710</td>\n",
       "      <td>Christian Attacked by Muslims at the Temple Mo...</td>\n",
       "      <td>1</td>\n",
       "    </tr>\n",
       "    <tr>\n",
       "      <th>199</th>\n",
       "      <td>20712</td>\n",
       "      <td>Christian Attacked by Muslims at the Temple Mo...</td>\n",
       "      <td>1</td>\n",
       "    </tr>\n",
       "  </tbody>\n",
       "</table>\n",
       "</div>"
      ],
      "text/plain": [
       "        id                                               text  target\n",
       "195  20690  [infowars]  Nashville Theater Attack: Will Gun...       1\n",
       "196  20699  Cop injured in gunfight as militants attack Ud...       1\n",
       "197  20709  Israeli helicopters that attacked civilians in...       1\n",
       "198  20710  Christian Attacked by Muslims at the Temple Mo...       1\n",
       "199  20712  Christian Attacked by Muslims at the Temple Mo...       1"
      ]
     },
     "execution_count": 31,
     "metadata": {},
     "output_type": "execute_result"
    }
   ],
   "source": [
    "print(df_aug_class1_chunk.shape)\n",
    "df_aug_class1_chunk.tail()"
   ]
  },
  {
   "cell_type": "code",
   "execution_count": 32,
   "id": "c7e0cd3a-2e07-4cf5-83a9-85bc7d54047b",
   "metadata": {
    "scrolled": true
   },
   "outputs": [
    {
     "name": "stdout",
     "output_type": "stream",
     "text": [
      "processing row 10 with id 20036\n",
      "processing row 20 with id 20054\n",
      "processing row 30 with id 20076\n",
      "processing row 40 with id 20100\n",
      "processing row 50 with id 20146\n",
      "processing row 60 with id 20162\n",
      "processing row 70 with id 20178\n",
      "processing row 80 with id 20194\n",
      "processing row 90 with id 20260\n",
      "processing row 100 with id 20280\n",
      "processing row 110 with id 20303\n",
      "processing row 120 with id 20331\n",
      "processing row 130 with id 20349\n",
      "processing row 140 with id 20375\n",
      "processing row 150 with id 20402\n",
      "processing row 160 with id 20423\n",
      "processing row 170 with id 20446\n",
      "processing row 180 with id 20457\n",
      "processing row 190 with id 20474\n",
      "processing row 200 with id 20485\n"
     ]
    }
   ],
   "source": [
    "import time\n",
    "\n",
    "df_aug_class0_chunk = df_aug_class0.iloc[tweet_batches_class0[0][0]:(tweet_batches_class0[0][1]+1)]\n",
    "\n",
    "# generate 200 class 0 tweets\n",
    "t0 = time.time()\n",
    "rows_processed = 1\n",
    "aug_tweet_ids = []\n",
    "aug_tweets_texts = []\n",
    "aug_tweets_targets = []\n",
    "for i, row in df_aug_class0_chunk.iterrows():\n",
    "    prompt_content = start_prompt_class0 + row['text']\n",
    "    gen_tweet = pt.get_aug_tweet(context0, prompt_content)\n",
    "    aug_tweets_texts.append(gen_tweet)\n",
    "    aug_tweet_ids.append(row['id'])\n",
    "    aug_tweets_targets.append(row['target'])\n",
    "    if rows_processed % 10 == 0:\n",
    "        print(f\"processing row {rows_processed} with id {row['id']}\")\n",
    "    rows_processed += 1\n",
    "t1 = time.time()"
   ]
  },
  {
   "cell_type": "code",
   "execution_count": 33,
   "id": "17fd58a4-0e08-4675-aad4-2558f8ff9886",
   "metadata": {
    "scrolled": true
   },
   "outputs": [
    {
     "name": "stdout",
     "output_type": "stream",
     "text": [
      "time to do 200 is 5.9875851511955265 minutes\n"
     ]
    }
   ],
   "source": [
    "gen_tweet_count = 200\n",
    "print(f\"time to do {gen_tweet_count} is {(t1-t0)/60.} minutes\")"
   ]
  },
  {
   "cell_type": "code",
   "execution_count": 41,
   "id": "b9f4c2c3-d974-46de-86fd-220a298db593",
   "metadata": {},
   "outputs": [
    {
     "name": "stdout",
     "output_type": "stream",
     "text": [
      "200\n",
      "[20023, 20024, 20025, 20026, 20028, 20031, 20032, 20033, 20034, 20036]\n",
      "['Hey there! How are we feeling today at the beach? 🌊 #BeachDayVibes', 'Obsessed with live music in the park - the vibe, the energy, just everything about it 🎶 #MusicIsLife', '\"Autumn vibes in the park are just magical 🍂🌳 #FallFeels #NatureVibes\"', 'Speeding through the city in my mind, thoughts racing faster than a Bugatti on the Autobahn! #mentalacceleration', '\"Such an exhilarating rush of adrenaline on that mountain peak! #adventure #thrill #nature\"', '\"Absolutely surreal... experiencing pure bliss in the heart of the city right now. #urbanlife #serenity\"', 'Absolutely vibing in Barcelona right now 🌞 #goodvibes #travelgoals', '\"Nothing beats that rush of adrenaline on a powder day in the mountains. #skiing\"', 'Feeling absolutely content with the world while sipping coffee at my favorite cafe. Today is a gem! #grateful', '\"Feeling absolutely ecstatic at the beach right now 🌊🌞 #ParadiseVibes\"']\n"
     ]
    }
   ],
   "source": [
    "dict_aug_tweets = {}\n",
    "for i in range(0, len(aug_tweet_ids)):\n",
    "    dict_aug_tweets[aug_tweet_ids[i]] = aug_tweets_texts[i]\n",
    "\n",
    "print(len(dict_aug_tweets.keys()))\n",
    "print(list(dict_aug_tweets.keys())[:10])\n",
    "print(list(dict_aug_tweets.values())[:10])"
   ]
  },
  {
   "cell_type": "code",
   "execution_count": 37,
   "id": "5384138f-5c34-4fd4-af9e-95b64c440dd3",
   "metadata": {},
   "outputs": [
    {
     "name": "stdout",
     "output_type": "stream",
     "text": [
      "./data/prompts_v04/aug_tweets_class0_v04prompt_0000_0199.csv\n"
     ]
    }
   ],
   "source": [
    "out_file_name0 = f\"./data/prompts_v04/aug_tweets_class0_v04prompt_{tweet_batches_class0[0][0]:04}_{(tweet_batches_class0[0][1]):04}.csv\"\n",
    "print(out_file_name0)"
   ]
  },
  {
   "cell_type": "code",
   "execution_count": 42,
   "id": "65f04f81-6091-4a9a-aa20-6a3df77bafb7",
   "metadata": {},
   "outputs": [
    {
     "data": {
      "text/plain": [
       "True"
      ]
     },
     "execution_count": 42,
     "metadata": {},
     "output_type": "execute_result"
    }
   ],
   "source": [
    "pt.write_aug_tweets(dict_aug_tweets, 0, out_file_name0)"
   ]
  },
  {
   "cell_type": "code",
   "execution_count": 43,
   "id": "6ff5efa2-a2f4-4efc-b75f-ae3f109baae7",
   "metadata": {
    "scrolled": true
   },
   "outputs": [
    {
     "name": "stdout",
     "output_type": "stream",
     "text": [
      "processing row 10 with id 20015\n",
      "processing row 20 with id 20066\n",
      "processing row 30 with id 20098\n",
      "processing row 40 with id 20126\n",
      "processing row 50 with id 20139\n",
      "processing row 60 with id 20208\n",
      "processing row 70 with id 20222\n",
      "processing row 80 with id 20244\n",
      "processing row 90 with id 20262\n",
      "processing row 100 with id 20289\n",
      "processing row 110 with id 20334\n",
      "processing row 120 with id 20381\n",
      "processing row 130 with id 20442\n",
      "processing row 140 with id 20519\n",
      "processing row 150 with id 20568\n",
      "processing row 160 with id 20588\n",
      "processing row 170 with id 20635\n",
      "processing row 180 with id 20660\n",
      "processing row 190 with id 20681\n",
      "processing row 200 with id 20712\n",
      "time to do 200 is 5.935741257667542 minutes\n"
     ]
    }
   ],
   "source": [
    "df_aug_class1_chunk = df_aug_class1.iloc[tweet_batches_class1[0][0]:(tweet_batches_class1[0][1]+1)]\n",
    "\n",
    "# generate 200 class 1 tweets\n",
    "t0 = time.time()\n",
    "rows_processed = 1\n",
    "aug_tweet_ids = []\n",
    "aug_tweets_texts = []\n",
    "aug_tweets_targets = []\n",
    "for i, row in df_aug_class1_chunk.iterrows():\n",
    "    prompt_content = start_prompt_class1 + row['text']\n",
    "    gen_tweet = pt.get_aug_tweet(context1, prompt_content)\n",
    "    aug_tweets_texts.append(gen_tweet)\n",
    "    aug_tweet_ids.append(row['id'])\n",
    "    aug_tweets_targets.append(row['target'])\n",
    "    if rows_processed % 10 == 0:\n",
    "        print(f\"processing row {rows_processed} with id {row['id']}\")\n",
    "    rows_processed += 1\n",
    "t1 = time.time()\n",
    "\n",
    "gen_tweet_count = 200\n",
    "print(f\"time to do {gen_tweet_count} is {(t1-t0)/60.} minutes\")"
   ]
  },
  {
   "cell_type": "code",
   "execution_count": 44,
   "id": "93474584-b8ae-4015-bfde-68277444bbb5",
   "metadata": {},
   "outputs": [],
   "source": [
    "dict_aug_tweets_class1 = {}\n",
    "for i in range(0, len(aug_tweet_ids)):\n",
    "    dict_aug_tweets_class1[aug_tweet_ids[i]] = aug_tweets_texts[i]"
   ]
  },
  {
   "cell_type": "code",
   "execution_count": 46,
   "id": "8dac9922-b83c-491f-8461-9bda28a40a70",
   "metadata": {
    "scrolled": true
   },
   "outputs": [
    {
     "name": "stdout",
     "output_type": "stream",
     "text": [
      "./data/prompts_v04/aug_tweets_class1_v04prompt_0000_0199.csv\n"
     ]
    },
    {
     "data": {
      "text/plain": [
       "True"
      ]
     },
     "execution_count": 46,
     "metadata": {},
     "output_type": "execute_result"
    }
   ],
   "source": [
    "out_file_name1 = f\"./data/prompts_v04/aug_tweets_class1_v04prompt_{tweet_batches_class1[0][0]:04}_{(tweet_batches_class1[0][1]):04}.csv\"\n",
    "print(out_file_name1)\n",
    "\n",
    "pt.write_aug_tweets(dict_aug_tweets_class1, 1, out_file_name1)"
   ]
  },
  {
   "cell_type": "code",
   "execution_count": null,
   "id": "d39c8e12-e901-4797-a518-c209c1b74292",
   "metadata": {},
   "outputs": [],
   "source": []
  },
  {
   "cell_type": "code",
   "execution_count": null,
   "id": "f9a29da7-fa97-4b93-822f-5592e192736d",
   "metadata": {},
   "outputs": [],
   "source": []
  },
  {
   "cell_type": "code",
   "execution_count": null,
   "id": "dc523ab4-249d-41e3-a85a-c6ee0a300dac",
   "metadata": {},
   "outputs": [],
   "source": [
    "import pandas as pd\n",
    "import projtools as pt\n",
    "df_class1_mislabeled = pd.read_csv(\"./data/label_errors_in_train_data/class1_mislabeled_samples.csv\")\n",
    "\n",
    "current_prompt = pt.get_prompt_setup()\n",
    "context = current_prompt['context']['text']\n",
    "start_prompt_class1 = current_prompt['prefix_class1']['text']\n",
    "print(context)\n",
    "print(start_prompt_class1)"
   ]
  },
  {
   "cell_type": "code",
   "execution_count": null,
   "id": "2894112f-cdb0-4f88-80a5-9d860d82deb5",
   "metadata": {},
   "outputs": [],
   "source": [
    "# generate augmented tweets for class 1 mislabeled\n",
    "import time\n",
    "t0 = time.time()\n",
    "rows_processed = 1\n",
    "aug_offest = 30000  # std offset 20000\n",
    "aug_tweets_class1_mislabeled = {}\n",
    "for i, row in df_class1_mislabeled.iterrows():\n",
    "    prompt_content = start_prompt_class1 + row['text']\n",
    "    gen_tweet = pt.get_aug_tweet(context, prompt_content)\n",
    "    aug_id = row['id'] + aug_offest\n",
    "    aug_tweets_class1_mislabeled[aug_id] = gen_tweet\n",
    "    if rows_processed % 10 == 0:\n",
    "        print(f\"processing row {rows_processed} with id {row['id']}\")\n",
    "    rows_processed += 1\n",
    "t1 = time.time()"
   ]
  },
  {
   "cell_type": "code",
   "execution_count": null,
   "id": "bb923372-e747-4343-8200-6c0befa2b22c",
   "metadata": {},
   "outputs": [],
   "source": [
    "gen_tweet_count = df_class1_mislabeled.shape[0]\n",
    "print(f\"time to do {gen_tweet_count} is {(t1-t0)/60.} minutes\")\n",
    "out_file_name_mislabeled = f\"./data/aug_tweets_class1_v01prompt_mislabeled.csv\"\n",
    "pt.write_aug_tweets(aug_tweets_class1_mislabeled, 1, out_file_name_mislabeled)"
   ]
  },
  {
   "cell_type": "code",
   "execution_count": null,
   "id": "399fcdc9-732e-4fd3-90e1-280c94f777c9",
   "metadata": {},
   "outputs": [],
   "source": []
  },
  {
   "cell_type": "code",
   "execution_count": null,
   "id": "df7bb4a7-5fab-4175-96ad-729e0980face",
   "metadata": {},
   "outputs": [],
   "source": []
  },
  {
   "cell_type": "code",
   "execution_count": null,
   "id": "7148e059-bb6f-4acb-9d5d-51777934ee49",
   "metadata": {},
   "outputs": [],
   "source": [
    "import pickle\n",
    "\n",
    "pickle_file = './data/first3_class1.pickle'\n",
    "# Store data (serialize) - commented out because it's already be done so just need to read\n",
    "with open(pickle_file, 'wb') as handle:\n",
    "    pickle.dump(aug_responses, handle, protocol=pickle.HIGHEST_PROTOCOL)\n",
    "\n",
    "# Load data (deserialize)\n",
    "with open(pickle_file, 'rb') as handle:\n",
    "    aug_responses = pickle.load(handle)\n",
    "\n",
    "# print(aug_responses == unserialized_data)\n",
    "print(aug_responses)"
   ]
  },
  {
   "cell_type": "code",
   "execution_count": null,
   "id": "a4f90fe5-667e-463c-b5ac-082f0f522b7c",
   "metadata": {},
   "outputs": [],
   "source": []
  },
  {
   "cell_type": "code",
   "execution_count": null,
   "id": "f431e0ae-57ec-4905-a54a-6f342c9a76f5",
   "metadata": {},
   "outputs": [],
   "source": [
    "\n",
    "\n",
    "print(aug_responses.keys())\n",
    "for key in aug_responses.keys():\n",
    "    cgpt_response = aug_responses[key].choices[0].message.content\n",
    "    print(cgpt_response)"
   ]
  },
  {
   "cell_type": "code",
   "execution_count": null,
   "id": "d7803985-f346-4ba5-94d1-4ca15bbd346e",
   "metadata": {},
   "outputs": [],
   "source": []
  },
  {
   "cell_type": "code",
   "execution_count": null,
   "id": "378e197e-5a1d-4c19-b4d5-72dfbdf2aec1",
   "metadata": {},
   "outputs": [],
   "source": []
  },
  {
   "cell_type": "code",
   "execution_count": null,
   "id": "b6a0b780-2ce0-4713-a154-ef0ec644c738",
   "metadata": {},
   "outputs": [],
   "source": []
  },
  {
   "cell_type": "code",
   "execution_count": null,
   "id": "a5eb8290-66a9-4b15-80a0-f43de9b4c55a",
   "metadata": {},
   "outputs": [],
   "source": []
  },
  {
   "cell_type": "code",
   "execution_count": null,
   "id": "6f5ad330-d4e9-49a4-a993-5e0becbab06b",
   "metadata": {},
   "outputs": [],
   "source": []
  }
 ],
 "metadata": {
  "kernelspec": {
   "display_name": "Python 3 (ipykernel)",
   "language": "python",
   "name": "python3"
  },
  "language_info": {
   "codemirror_mode": {
    "name": "ipython",
    "version": 3
   },
   "file_extension": ".py",
   "mimetype": "text/x-python",
   "name": "python",
   "nbconvert_exporter": "python",
   "pygments_lexer": "ipython3",
   "version": "3.11.6"
  }
 },
 "nbformat": 4,
 "nbformat_minor": 5
}
