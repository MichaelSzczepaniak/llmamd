{
 "cells": [
  {
   "cell_type": "markdown",
   "id": "00fc89f8-52f3-40d3-98d4-ce3938056e91",
   "metadata": {},
   "source": [
    "# LLM Training Data Augmentation - Classification of Kaggle Disaster Data\n",
    "\n",
    "The goal of this notebook is to prepare the data for augmentation by an LLM and classification by two models:\n",
    "\n",
    "1. Logistic regression\n",
    "2. Single hidden-layer neural network\n",
    "\n",
    "## Data\n",
    "\n",
    "The data used in this project comes from the kaggle *Natural Language Processing with Disaster Tweets* competition at:  \n",
    "\n",
    "https://www.kaggle.com/competitions/nlp-getting-started/data\n",
    "\n",
    "This data consists of two files:\n",
    "+ *train.csv* - 7485 labled tweets **after duplicate removals** \n",
    "+ *test.csv* - 3263 unlabled tweets\n",
    "\n",
    "Because the *test.csv* labels are not available, the *train.csv* file was split into the following two files:\n",
    "\n",
    "+ train_model.csv - data used to train model, 5988 labeled tweets\n",
    "+ train_test.csv - held out and not used to train model, used as *pseudo-test* data, 1497 labeled tweets (~20% of the original training sample)\n",
    "\n",
    "## Simplier NLP Classifier Models\n",
    "\n",
    "Two types of models are created and compared:\n",
    "\n",
    "1. Logistic Regression - This serves as the baseline\n",
    "2. Single-Hidden layer neural network with 1000 nodes in the hidden layer\n",
    "\n",
    "## LLM\n",
    "\n",
    "ChatGPT 3.5 turbo will be used to augment the data used to train the models.\n",
    "\n",
    "## Encodings\n",
    "\n",
    "The Twitter GloVe embedding will be used to vectorize the input text.  These embeddings were downloaded from:\n",
    "\n",
    "https://nlp.stanford.edu/data/glove.twitter.27B.zip\n"
   ]
  },
  {
   "cell_type": "markdown",
   "id": "50491f7f-8981-4e91-9eba-f7f42d4c9795",
   "metadata": {},
   "source": [
    "## Vectorize with all cleaned tweet tokens\n",
    "\n",
    "Since the max number of tokens in the cleaned original training data is 29 and 26 for the cleaned augmented data, a 30 token input will be selected.  This will give us an input to the model that is 30 (tokens / tweet) x (50 dimensions / token) = 1500 dimensions / tweet.\n",
    "\n",
    "Since all tweets will be less than 30 tokens, each input will be padded with the empty string token (<>).\n",
    "\n",
    "## Build feature matrices\n",
    "\n",
    "The following 4 feature matrices are built and exported so the can be read back in during modeling:\n",
    "\n",
    "+ **feats_matrix_aug.txt** - 7485 rows where each row is a vectorized tweet padded to 30 tokens where each token is represented by a 50d GloVe twitter embedding and the empty string is used as the padding token.  1500 cols are the tweets padded to 30 tokens which are each converted to a 50d GloVe embedding\n",
    "+ **feats_matrix_train_train.txt** - 80% of the original training data used to train each model, same vectorization as **feats_matrix_aug.txt**, xxxx rows, yyyy columns\n",
    "+ **feats_matrix_train_test.txt** - 20% of the original training data used to test each model, same vectorization as **feats_matrix_aug.txt**, xxxx rows, yyyy columns\n",
    "+ **feats_matrix_test.txt** - unlabeled test data provided by kaggle to test submissions, same vectorization as **feats_matrix_aug.txt**, xxxx rows, yyyy columns\n",
    "\n",
    "The first 3 feature matrices have the following corresponding labels (`feats_matrix_test.txt` are unlabeled tweets):\n",
    "+ labels_aug.txt\n",
    "+ labels_train_train.txt\n",
    "+ labels_train_test.txt"
   ]
  },
  {
   "cell_type": "code",
   "execution_count": 1,
   "id": "8af07166-b4a7-4a1c-8d95-ef94f121a9f5",
   "metadata": {},
   "outputs": [
    {
     "data": {
      "text/plain": [
       "'D:\\\\llmamd'"
      ]
     },
     "execution_count": 1,
     "metadata": {},
     "output_type": "execute_result"
    }
   ],
   "source": [
    "import projtools as pt\n",
    "import numpy as np\n",
    "import pandas as pd\n",
    "%pwd"
   ]
  },
  {
   "cell_type": "code",
   "execution_count": 8,
   "id": "c5c34184-d8aa-44c6-be99-e0a2b99a99aa",
   "metadata": {},
   "outputs": [
    {
     "name": "stdout",
     "output_type": "stream",
     "text": [
      "shape of train train feature matrix: (5988, 1500), shape of train train labels: (5988,)\n",
      "dtype of train train labels: int32\n",
      "shape of train test feature matrix: (1497, 1500), shape of train test labels: (1497,)\n",
      "dtype of train test labels: int32\n",
      "shape of augmented feature matrix: (7485, 1500), shape of augmented labels: (7485,)\n",
      "dtype of augmented labels: int32\n",
      "shape of (unlabeled) test feature matrix: (3263, 1500)\n"
     ]
    }
   ],
   "source": [
    "# read in the feature matrices\n",
    "feats_matrix_train_train = np.loadtxt('./data/feats_matrix_train_train.txt')\n",
    "feats_matrix_train_test = np.loadtxt('./data/feats_matrix_train_test.txt')\n",
    "feats_matrix_aug = np.loadtxt('./data/feats_matrix_aug.txt')\n",
    "feats_matrix_test = np.loadtxt('./data/feats_matrix_test.txt')\n",
    "# read in the labels\n",
    "labels_train_train = np.loadtxt('./data/labels_train_train.txt', dtype='int')\n",
    "labels_train_test = np.loadtxt('./data/labels_train_test.txt', dtype='int')\n",
    "labels_aug = np.loadtxt('./data/labels_aug.txt', dtype='int')\n",
    "print(f\"shape of train train feature matrix: {feats_matrix_train_train.shape}, shape of train train labels: {labels_train_train.shape}\")\n",
    "print(f\"dtype of train train labels: {labels_train_train.dtype}\")\n",
    "print(f\"shape of train test feature matrix: {feats_matrix_train_test.shape}, shape of train test labels: {labels_train_test.shape}\")\n",
    "print(f\"dtype of train test labels: {labels_train_test.dtype}\")\n",
    "print(f\"shape of augmented feature matrix: {feats_matrix_aug.shape}, shape of augmented labels: {labels_aug.shape}\")\n",
    "print(f\"dtype of augmented labels: {labels_aug.dtype}\")\n",
    "print(f\"shape of (unlabeled) test feature matrix: {feats_matrix_test.shape}\")"
   ]
  },
  {
   "cell_type": "code",
   "execution_count": 3,
   "id": "a6a9aae5-acad-46d9-8ed3-79d9946e97a1",
   "metadata": {},
   "outputs": [
    {
     "data": {
      "text/plain": [
       "array([1, 1, 1, 1, 1, 1, 1, 1, 1, 1, 1, 1, 0, 0, 0, 0, 0, 0, 0, 0, 0, 0,\n",
       "       0, 0, 0, 1, 0, 0, 0, 1])"
      ]
     },
     "execution_count": 3,
     "metadata": {},
     "output_type": "execute_result"
    }
   ],
   "source": [
    "labels_train_train[:30]"
   ]
  },
  {
   "cell_type": "markdown",
   "id": "90799600-c56a-4138-be3d-68b38b9ad4e3",
   "metadata": {},
   "source": [
    "## Neural network models\n",
    "\n",
    "### Activation function\n",
    "\n",
    "Will experiment with sigmoid and ReLu.\n",
    "\n",
    "### Hidden units\n",
    "\n",
    "Will experiment with 100 and 300 nodes in the single hidden layer\n"
   ]
  },
  {
   "cell_type": "markdown",
   "id": "ab8c6beb-5d99-4d6f-9e23-50bdf42ac58f",
   "metadata": {},
   "source": [
    "## 10 Fold CV - ReLU vs. Sigmoid hidden layer activation function"
   ]
  },
  {
   "cell_type": "code",
   "execution_count": 4,
   "id": "ebb91b27-26e9-46d9-8079-689e9d238a2f",
   "metadata": {},
   "outputs": [
    {
     "name": "stdout",
     "output_type": "stream",
     "text": [
      "both models have 100 units in their hidden layers with 150201 total parameters (weights and biases)\n"
     ]
    }
   ],
   "source": [
    "import torch.nn as nn\n",
    "\n",
    "# compare hidden layer activation functions\n",
    "num_inputs = 1500\n",
    "num_outputs = 1\n",
    "hidden_units = [100, 300]  # number of units in to single hidden layer\n",
    "\n",
    "i = 0  # evaluate activation function on the smaller hidden unit count to speed training\n",
    "# use relu for hidden layer\n",
    "model_h_relu = nn.Sequential(\n",
    "    nn.Linear(num_inputs, hidden_units[i]),\n",
    "    nn.ReLU(),\n",
    "    nn.Linear(hidden_units[i], num_outputs),\n",
    "    nn.Sigmoid()\n",
    ")\n",
    "\n",
    "# use sigmoid for hidden layer\n",
    "model_h_sigmoid = nn.Sequential(\n",
    "    nn.Linear(num_inputs, hidden_units[i]),\n",
    "    nn.Sigmoid(),\n",
    "    nn.Linear(hidden_units[i], num_outputs),\n",
    "    nn.Sigmoid()\n",
    ")\n",
    "\n",
    "# both models have the same number of parameters\n",
    "total_params = 0\n",
    "for parameter in model_h_relu.parameters():\n",
    "    total_params += parameter.numel()\n",
    "print(f\"both models have {hidden_units[i]} units in their hidden layers with {total_params} total parameters (weights and biases)\")"
   ]
  },
  {
   "cell_type": "code",
   "execution_count": 5,
   "id": "d32a639f-e5ab-4ab9-aa8d-bcb5d8c64b60",
   "metadata": {},
   "outputs": [
    {
     "name": "stdout",
     "output_type": "stream",
     "text": [
      "starting 10-fold CV at Fri Apr 12 16:20:35 2024\n",
      "feature tensor X has shape torch.Size([5988, 1500]), labels tensor y has shape torch.Size([5988, 1])\n",
      "ReLU accuracy: 0.7786\n",
      "ReLU accuracy: 0.7971\n",
      "ReLU accuracy: 0.8186\n",
      "ReLU accuracy: 0.8115\n",
      "ReLU accuracy: 0.8568\n",
      "ReLU accuracy: 0.8282\n",
      "ReLU accuracy: 0.8162\n",
      "ReLU accuracy: 0.8783\n",
      "ReLU accuracy: 0.8616\n",
      "ReLU accuracy: 0.9165\n"
     ]
    }
   ],
   "source": [
    "# compare these 2 models with 10-fold CV\n",
    "import time\n",
    "import torch\n",
    "from sklearn.model_selection import StratifiedKFold, train_test_split\n",
    "\n",
    "cv_folds = 10\n",
    "t0 = time.time()  # init start time\n",
    "print(f\"starting {cv_folds}-fold CV at {time.ctime()}\")\n",
    "\n",
    "X = torch.tensor(feats_matrix_train_train, dtype=torch.float32)\n",
    "y = torch.tensor(labels_train_train, dtype=torch.float32).reshape(-1, 1)  # make single col vector (N x 1)\n",
    "print(f\"feature tensor X has shape {X.shape}, labels tensor y has shape {y.shape}\")\n",
    "\n",
    "# train-test split: hold out the test set for final model evaluation\n",
    "X_train, X_test, y_train, y_test = train_test_split(X, y, train_size=0.7, shuffle=True)\n",
    "\n",
    "# define 10-fold cv test harness\n",
    "kfold = StratifiedKFold(n_splits=cv_folds, shuffle=True)\n",
    "\n",
    "# evaluate model with ReLU hidden layer activation\n",
    "cv_scores_relu = []\n",
    "for train, test in kfold.split(X_train, y_train):\n",
    "    # create model, train, and get accuracy\n",
    "    model = model_h_relu\n",
    "    # train model, grab accuracy from the returned tuple\n",
    "    acc, _ = pt.nn_train(model, X_train[train], y_train[train], X_train[test], y_train[test])\n",
    "    print(f\"ReLU accuracy: {acc:.4f}\")\n",
    "    cv_scores_relu.append(acc)"
   ]
  },
  {
   "cell_type": "code",
   "execution_count": 6,
   "id": "b364118b-7f7d-4d01-8f4f-5cffc0fc5383",
   "metadata": {},
   "outputs": [
    {
     "name": "stdout",
     "output_type": "stream",
     "text": [
      "sigmoid accuracy: 0.7762\n",
      "sigmoid accuracy: 0.8067\n",
      "sigmoid accuracy: 0.7971\n",
      "sigmoid accuracy: 0.7661\n",
      "sigmoid accuracy: 0.8401\n",
      "sigmoid accuracy: 0.8091\n",
      "sigmoid accuracy: 0.8544\n",
      "sigmoid accuracy: 0.8377\n",
      "sigmoid accuracy: 0.8282\n",
      "sigmoid accuracy: 0.8377\n"
     ]
    }
   ],
   "source": [
    "# evaluate model with sigmoid hidden layer activation\n",
    "cv_scores_sigmoid = []\n",
    "for train, test in kfold.split(X_train, y_train):\n",
    "    # create model, train, and get accuracy\n",
    "    model = model_h_sigmoid\n",
    "    # train model, grab accuracy from the returned tuple\n",
    "    acc, _ = pt.nn_train(model, X_train[train], y_train[train], X_train[test], y_train[test])\n",
    "    print(f\"sigmoid accuracy: {acc:.4f}\")\n",
    "    cv_scores_sigmoid.append(acc)"
   ]
  },
  {
   "cell_type": "code",
   "execution_count": 14,
   "id": "f988d56a-7133-4d9a-9c5a-4274a9dfc13b",
   "metadata": {},
   "outputs": [
    {
     "name": "stdout",
     "output_type": "stream",
     "text": [
      "ReLU accuracy: 83.63%, std dev: 3.9387710891492844%\n",
      "sigmoid accuracy: 81.53%, std dev: 2.7761146455694306%\n"
     ]
    }
   ],
   "source": [
    "# compare model performance\n",
    "relu_acc = np.mean(cv_scores_relu)\n",
    "relu_std = np.std(cv_scores_relu)\n",
    "sigmoid_acc = np.mean(cv_scores_sigmoid)\n",
    "sigmoid_std = np.std(cv_scores_sigmoid)\n",
    "print(f\"ReLU accuracy: {relu_acc*100:.2f}%, std dev: {relu_std*100}%\")\n",
    "print(f\"sigmoid accuracy: {sigmoid_acc*100:.2f}%, std dev: {sigmoid_std*100}%\")\n",
    "\n",
    "# print(f\"finishing {cv_folds}-fold CV at {time.ctime()}\")\n",
    "t1 = time.time()  # finish cv time\n",
    "exec_time = (t1 - t0) / 60.\n",
    "# print(f\"CV on two models took {exec_time:.2f} minutes to run\")"
   ]
  },
  {
   "cell_type": "markdown",
   "id": "2415eba1-fd1b-49a9-9e4c-df3005242a2c",
   "metadata": {},
   "source": [
    "## 10 Fold CV - 100 vs. 300 nodes in hidden layer (ReLU activation function)"
   ]
  },
  {
   "cell_type": "code",
   "execution_count": 8,
   "id": "36696941-a04d-4f3f-aeec-e133153a1b8f",
   "metadata": {},
   "outputs": [
    {
     "name": "stdout",
     "output_type": "stream",
     "text": [
      "Model with 100 units in the hidden layers has 150201 total parameters (weights and biases)\n",
      "Model with 300 units in the hidden layers has 450601 total parameters (weights and biases)\n"
     ]
    }
   ],
   "source": [
    "# setup the models to compare - 100 vs 300 hidden layer units w/ relu activation\n",
    "i = 0  # 100\n",
    "# smaller model\n",
    "model_h_relu_100 = nn.Sequential(\n",
    "    nn.Linear(num_inputs, hidden_units[i]),\n",
    "    nn.ReLU(),\n",
    "    nn.Linear(hidden_units[i], num_outputs),\n",
    "    nn.Sigmoid()\n",
    ")\n",
    "\n",
    "i = 1  # 300\n",
    "# larger model\n",
    "model_h_relu_300 = nn.Sequential(\n",
    "    nn.Linear(num_inputs, hidden_units[i]),\n",
    "    nn.ReLU(),\n",
    "    nn.Linear(hidden_units[i], num_outputs),\n",
    "    nn.Sigmoid()\n",
    ")\n",
    "\n",
    "# models have differnt number of parameters\n",
    "total_params_100h = 0\n",
    "total_params_300h = 0\n",
    "for params in model_h_relu_100.parameters():\n",
    "    total_params_100h += params.numel()\n",
    "\n",
    "for params in model_h_relu_300.parameters():\n",
    "    total_params_300h += params.numel()\n",
    "\n",
    "print(f\"Model with {hidden_units[0]} units in the hidden layers has {total_params_100h} total parameters (weights and biases)\")\n",
    "print(f\"Model with {hidden_units[1]} units in the hidden layers has {total_params_300h} total parameters (weights and biases)\")"
   ]
  },
  {
   "cell_type": "code",
   "execution_count": 9,
   "id": "ead36480-1825-4f2a-8237-a9b1a73ff208",
   "metadata": {},
   "outputs": [
    {
     "name": "stdout",
     "output_type": "stream",
     "text": [
      "starting 10-fold CV at Fri Apr 12 17:48:03 2024\n",
      "feature tensor X has shape torch.Size([5988, 1500]), labels tensor y has shape torch.Size([5988, 1])\n",
      "ReLU with 100 hidden units - accuracy: 0.7738\n",
      "ReLU with 100 hidden units - accuracy: 0.8568\n",
      "ReLU with 100 hidden units - accuracy: 0.8544\n",
      "ReLU with 100 hidden units - accuracy: 0.8019\n",
      "ReLU with 100 hidden units - accuracy: 0.9332\n",
      "ReLU with 100 hidden units - accuracy: 0.9523\n",
      "ReLU with 100 hidden units - accuracy: 0.9451\n",
      "ReLU with 100 hidden units - accuracy: 0.9403\n",
      "ReLU with 100 hidden units - accuracy: 0.9117\n",
      "ReLU with 100 hidden units - accuracy: 0.9379\n"
     ]
    }
   ],
   "source": [
    "# reset start time for second round of CV\n",
    "t0 = time.time()  # init start time\n",
    "print(f\"starting {cv_folds}-fold CV at {time.ctime()}\")\n",
    "\n",
    "X = torch.tensor(feats_matrix_train_train, dtype=torch.float32)\n",
    "y = torch.tensor(labels_train_train, dtype=torch.float32).reshape(-1, 1)  # make single col vector (N x 1)\n",
    "print(f\"feature tensor X has shape {X.shape}, labels tensor y has shape {y.shape}\")\n",
    "\n",
    "# train-test split: hold out the test set for final model evaluation\n",
    "X_train, X_test, y_train, y_test = train_test_split(X, y, train_size=0.7, shuffle=True)\n",
    "\n",
    "# define 10-fold cv test harness\n",
    "kfold = StratifiedKFold(n_splits=cv_folds, shuffle=True)\n",
    "\n",
    "# evaluate model with ReLU hidden layer activation\n",
    "cv_scores_100_hidden = []\n",
    "for train, test in kfold.split(X_train, y_train):\n",
    "    # create model, train, and get accuracy\n",
    "    model = model_h_relu_100\n",
    "    # train model, grab accuracy from the returned tuple\n",
    "    acc, _ = pt.nn_train(model, X_train[train], y_train[train], X_train[test], y_train[test])\n",
    "    print(f\"ReLU with 100 hidden units - accuracy: {acc:.4f}\")\n",
    "    cv_scores_100_hidden.append(acc)"
   ]
  },
  {
   "cell_type": "code",
   "execution_count": 10,
   "id": "fb42422a-cfdf-4886-8076-ca74845a23f9",
   "metadata": {},
   "outputs": [
    {
     "name": "stdout",
     "output_type": "stream",
     "text": [
      "ReLU with 300 hidden units - accuracy: 0.7952\n",
      "ReLU with 300 hidden units - accuracy: 0.8807\n",
      "ReLU with 300 hidden units - accuracy: 0.9236\n",
      "ReLU with 300 hidden units - accuracy: 0.9045\n",
      "ReLU with 300 hidden units - accuracy: 0.9021\n",
      "ReLU with 300 hidden units - accuracy: 0.9141\n",
      "ReLU with 300 hidden units - accuracy: 0.9451\n",
      "ReLU with 300 hidden units - accuracy: 0.9093\n",
      "ReLU with 300 hidden units - accuracy: 0.8950\n",
      "ReLU with 300 hidden units - accuracy: 0.9021\n"
     ]
    }
   ],
   "source": [
    "# evaluate model with sigmoid hidden layer activation\n",
    "cv_scores_300_hidden = []\n",
    "for train, test in kfold.split(X_train, y_train):\n",
    "    # create model, train, and get accuracy\n",
    "    model = model_h_relu_300\n",
    "    # train model, grab accuracy from the returned tuple\n",
    "    acc, _ = pt.nn_train(model, X_train[train], y_train[train], X_train[test], y_train[test])\n",
    "    print(f\"ReLU with 300 hidden units - accuracy: {acc:.4f}\")\n",
    "    cv_scores_300_hidden.append(acc)"
   ]
  },
  {
   "cell_type": "code",
   "execution_count": 13,
   "id": "0025200d-3d63-402c-9545-7d93cbc76e73",
   "metadata": {},
   "outputs": [
    {
     "name": "stdout",
     "output_type": "stream",
     "text": [
      "ReLU with 100 hidden units - overall accuracy: 89.07%, std dev: 6.140374740036988%\n",
      "ReLU with 300 hidden units - overall accuracy: 89.72%, std dev: 3.7685936014914407%\n"
     ]
    }
   ],
   "source": [
    "# compare model performance\n",
    "relu_100_hidden_acc = np.mean(cv_scores_100_hidden)\n",
    "relu_100_hidden_std = np.std(cv_scores_100_hidden)\n",
    "relu_300_hidden_acc = np.mean(cv_scores_300_hidden)\n",
    "relu_300_hidden_std = np.std(cv_scores_300_hidden)\n",
    "print(f\"ReLU with 100 hidden units - overall accuracy: {relu_100_hidden_acc*100:.2f}%, std dev: {relu_100_hidden_std*100:.2f}%\")\n",
    "print(f\"ReLU with 300 hidden units - overall accuracy: {relu_300_hidden_acc*100:.2f}%, std dev: {relu_300_hidden_std*100:.2f}%\")\n",
    "\n",
    "# print(f\"finishing {cv_folds}-fold CV at {time.ctime()}\")\n",
    "t1 = time.time()  # finish cv time\n",
    "exec_time = (t1 - t0) / 60.\n",
    "# print(f\"CV on two models took {exec_time:.2f} minutes to run\")"
   ]
  },
  {
   "cell_type": "markdown",
   "id": "b63cdbcb-79e9-435c-81b7-ddf322a7e650",
   "metadata": {
    "scrolled": true
   },
   "source": [
    "## Final neural net classifier\n",
    "\n",
    "### Activation function\n",
    "\n",
    "The first 10-fold CV pointed to using a **ReLU** for hidden layer activation function.  Not only did this function perform better in terms of accuracy, but it is more computationally efficient.  For both these reasons, **ReLU** was chosen as the hidden layer activation function.\n",
    "\n",
    "### Number of hidden units\n",
    "\n",
    "The second 10-fold CV results showed a slight improvement in accuracy using 300 instead of 100 hidden units.  This difference was only a little over a half of one percent which was much smaller than the standard deviations computed over each of the 10 folds.  Because the difference was relatively insignificant and the computational cost triples using 300 hidden units, **100** hidden units was selected for the number of units in the single hidden layer."
   ]
  },
  {
   "cell_type": "markdown",
   "id": "1579e9a9-dde4-4d75-a759-1f08383eedd7",
   "metadata": {},
   "source": [
    "## Neural net classifier comparison\n",
    "\n",
    "### Train on original data only\n",
    "\n",
    "Use the `model_h_relu_100` model built in cell 4 above."
   ]
  },
  {
   "cell_type": "code",
   "execution_count": 9,
   "id": "9fa441d3-6599-4243-aaf0-5d72f3e91eb1",
   "metadata": {},
   "outputs": [
    {
     "name": "stdout",
     "output_type": "stream",
     "text": [
      "both models have 100 units in their hidden layers with 150201 total parameters weights and biases\n"
     ]
    }
   ],
   "source": [
    "import projtools as pt\n",
    "import numpy as np\n",
    "import pandas as pd\n",
    "import torch\n",
    "import torch.nn as nn\n",
    "\n",
    "# compare hidden layer activation functions\n",
    "num_inputs = 1500\n",
    "num_outputs = 1\n",
    "hidden_units = 100  # number of units in to single hidden layer\n",
    "\n",
    "i = 0  # evaluate activation function on the smaller hidden unit count to speed training\n",
    "# use relu for hidden layer, 100 hidden units\n",
    "model_h100_orig = nn.Sequential(\n",
    "    nn.Linear(num_inputs, hidden_units),\n",
    "    nn.ReLU(),\n",
    "    nn.Linear(hidden_units, num_outputs),\n",
    "    nn.Sigmoid()\n",
    ")\n",
    "\n",
    "# same as model_h100_orig, but to be trained on orig + aug\n",
    "model_h100_orig_aug = nn.Sequential(\n",
    "    nn.Linear(num_inputs, hidden_units),\n",
    "    nn.Sigmoid(),\n",
    "    nn.Linear(hidden_units, num_outputs),\n",
    "    nn.Sigmoid()\n",
    ")\n",
    "\n",
    "# both models have the same number of parameters\n",
    "total_params = 0\n",
    "for parameter in model_h100_orig.parameters():\n",
    "    total_params += parameter.numel()\n",
    "print(f\"both models have {hidden_units} units in their hidden layers with {total_params} total parameters weights and biases\")"
   ]
  },
  {
   "cell_type": "code",
   "execution_count": 10,
   "id": "1b3b72f0-3763-4933-962a-89048aa38d83",
   "metadata": {},
   "outputs": [
    {
     "name": "stdout",
     "output_type": "stream",
     "text": [
      "training on original data - feature tensor shape: tensor([[ 0.8568,  0.7651, -0.0091,  ...,  0.1782, -0.3474,  0.3064],\n",
      "        [-0.1845, -0.9395, -0.1610,  ...,  0.1782, -0.3474,  0.3064],\n",
      "        [ 0.0268,  0.0805,  0.0545,  ...,  0.1782, -0.3474,  0.3064],\n",
      "        ...,\n",
      "        [ 0.1281, -0.4213, -0.5653,  ...,  0.1782, -0.3474,  0.3064],\n",
      "        [ 0.0846,  0.5417, -0.6966,  ...,  0.1782, -0.3474,  0.3064],\n",
      "        [-0.3959,  0.1107,  0.3198,  ...,  0.1782, -0.3474,  0.3064]]), label tensor shape: tensor([[1.],\n",
      "        [1.],\n",
      "        [1.],\n",
      "        ...,\n",
      "        [1.],\n",
      "        [1.],\n",
      "        [1.]])\n",
      "saving trained model to: ./nn_models/2024-04-13.07.33.11model_best_nn_orig.pth\n"
     ]
    }
   ],
   "source": [
    "from datetime import datetime\n",
    "\n",
    "# train the final model on the entire original training set\n",
    "X = torch.tensor(feats_matrix_train_train, dtype=torch.float32)\n",
    "y = torch.tensor(labels_train_train, dtype=torch.float32).reshape(-1, 1)  # make single col vector (N x 1)\n",
    "print(f\"training on original data - feature tensor shape: {X.shape}, label tensor shape: {y.shape}\")\n",
    "# training and validation are the same in final training\n",
    "acc, model_best_nn_orig = pt.nn_train(model_h100_orig, X, y, X, y)  # train on original data only\n",
    "time_stamp = datetime.now().strftime('%Y-%m-%d.%H.%M.%S')\n",
    "file_name = './nn_models/' + time_stamp + 'model_best_nn_orig.pth'\n",
    "print(f\"saving trained model to: {file_name}\")\n",
    "torch.save(model_best_nn_orig.state_dict(), file_name)\n",
    "# model_best_nn_orig = model_h100_orig\n",
    "# model_best_nn_orig.load_state_dict(torch.load(file_name))\n",
    "# print(model_best_nn_orig)"
   ]
  },
  {
   "cell_type": "markdown",
   "id": "a884242a-548a-4cd3-b1f2-b6c2d337d652",
   "metadata": {},
   "source": [
    "### Train on original + augmented data"
   ]
  },
  {
   "cell_type": "code",
   "execution_count": 11,
   "id": "6a93f2ed-0967-4f73-8df5-649807a34179",
   "metadata": {},
   "outputs": [
    {
     "name": "stdout",
     "output_type": "stream",
     "text": [
      "(5988, 1500) (7485, 1500) (13473, 1500) (13473,)\n"
     ]
    }
   ],
   "source": [
    "# create train + aug feature and label inputs\n",
    "train_train_aug_data = np.vstack((feats_matrix_train_train, feats_matrix_aug))\n",
    "train_train_aug_labels = np.hstack((labels_train_train, np.array(labels_aug)))  # will be reshaped to col vector\n",
    "print(feats_matrix_train_train.shape, feats_matrix_aug.shape,\n",
    "      train_train_aug_data.shape, train_train_aug_labels.shape)"
   ]
  },
  {
   "cell_type": "code",
   "execution_count": 12,
   "id": "8337bda3-ece5-414b-ad69-d51b2a597135",
   "metadata": {
    "scrolled": true
   },
   "outputs": [
    {
     "name": "stdout",
     "output_type": "stream",
     "text": [
      "saving trained model to: ./nn_models/2024-04-13.07.40.18model_best_nn_orig_aug.pth\n"
     ]
    }
   ],
   "source": [
    "# train the final model on the entire original + augmented training set\n",
    "X_orig_aug = torch.tensor(train_train_aug_data, dtype=torch.float32)\n",
    "y_orig_aug = torch.tensor(train_train_aug_labels, dtype=torch.float32).reshape(-1, 1)  # make single col vector (N x 1)\n",
    "# training and validation are the same in final training\n",
    "acc, model_best_nn_orig_aug = pt.nn_train(model_h100_orig_aug, X_orig_aug, y_orig_aug, X_orig_aug, y_orig_aug)  # train on original + aug data\n",
    "time_stamp = datetime.now().strftime('%Y-%m-%d.%H.%M.%S')\n",
    "file_name = './nn_models/' + time_stamp + 'model_best_nn_orig_aug.pth'\n",
    "print(f\"saving trained model to: {file_name}\")\n",
    "torch.save(model_best_nn_orig_aug.state_dict(), file_name)\n",
    "# model_best_nn_orig_aug = model_h_relu_100  # load an empty model for the weights to get loaded into\n",
    "# model_best_nn_orig_aug.load_state_dict(torch.load(file_name))\n",
    "# print(model_best_nn_orig_aug)"
   ]
  },
  {
   "cell_type": "code",
   "execution_count": 13,
   "id": "3c530c11-ae34-42e0-b47f-74df64508a68",
   "metadata": {},
   "outputs": [],
   "source": [
    "# both models tested on same labeled test data held out from training\n",
    "X_test = torch.tensor(feats_matrix_train_test, dtype=torch.float32)\n",
    "y_test = torch.tensor(labels_train_test, dtype=torch.float32).reshape(-1, 1)  # make single col vector (N x 1)"
   ]
  },
  {
   "cell_type": "code",
   "execution_count": 15,
   "id": "a9101b84-0d25-4e8f-90c4-b6a0f3d9acda",
   "metadata": {
    "scrolled": true
   },
   "outputs": [],
   "source": [
    "# evaluate the model trained on the original data using the labeled (train) test set\n",
    "model_best_nn_orig.eval()\n",
    "model_best_nn_orig_aug.eval()\n",
    "with torch.no_grad():\n",
    "    y_mod_orig_probs = model_best_nn_orig(X_test)  # forward pass thru model trained on original data only\n",
    "    y_mod_orig_aug_probs = model_best_nn_orig_aug(X_test)  # forward pass w/ same data, but model that was trained on original + aug"
   ]
  },
  {
   "cell_type": "code",
   "execution_count": 16,
   "id": "9faaa48c-7cb5-4297-8b0a-e2a9941f10e8",
   "metadata": {
    "scrolled": true
   },
   "outputs": [
    {
     "name": "stdout",
     "output_type": "stream",
     "text": [
      "torch.Size([1497, 1]) torch.Size([1497, 1]) (1497, 2)\n"
     ]
    }
   ],
   "source": [
    "y_mods_both_probs = np.hstack((y_mod_orig_probs.numpy(), y_mod_orig_aug_probs.numpy()))  # horiz stack col's so we can plot together\n",
    "print(y_mod_orig_probs.shape, y_mod_orig_aug_probs.shape, y_mods_both_probs.shape)"
   ]
  },
  {
   "cell_type": "code",
   "execution_count": 17,
   "id": "16f51054-fe60-4b77-830e-930b6a77f910",
   "metadata": {},
   "outputs": [
    {
     "data": {
      "text/plain": [
       "(1497, 2)"
      ]
     },
     "execution_count": 17,
     "metadata": {},
     "output_type": "execute_result"
    }
   ],
   "source": [
    "y_ground_truth = np.reshape(labels_train_test, (-1, 1))\n",
    "# ground truth for each model (trained on orig data only and trained on orig + aug data)\n",
    "# is the same, so columns for 1st and 2nd model are just horizontally stacked\n",
    "y_ground_truth = np.hstack((y_ground_truth, y_ground_truth))\n",
    "y_ground_truth.shape  # first 1497 rows are [0, 0], second 1497 rows are [1, 1]"
   ]
  },
  {
   "cell_type": "code",
   "execution_count": 18,
   "id": "e7b7641e-4723-4cf3-b5a3-87377bc38c51",
   "metadata": {},
   "outputs": [
    {
     "name": "stdout",
     "output_type": "stream",
     "text": [
      "Comparing 2 models\n",
      "saving plot to Twitter_Disaster_Tweets_Classification_-_Neural_Networks.png\n",
      "{'Trained on original': 0.7666175221150482, 'Trained on original + augmented': 0.795530404175264}\n"
     ]
    },
    {
     "data": {
      "text/plain": [
       "<Figure size 640x480 with 0 Axes>"
      ]
     },
     "metadata": {},
     "output_type": "display_data"
    },
    {
     "data": {
      "image/png": "[encoded data removed]",
      "text/plain": [
       "<Figure size 800x800 with 1 Axes>"
      ]
     },
     "metadata": {},
     "output_type": "display_data"
    }
   ],
   "source": [
    "roc_neural, auc_neural = pt.get_roc_curves(y_ground_truth, y_mods_both_probs,\n",
    "                                           model_names=['Trained on original', 'Trained on original + augmented'],\n",
    "                                           plot_title='Twitter Disaster Tweets Classification - Neural Networks')\n",
    "print(auc_neural)\n",
    "roc_neural.show()"
   ]
  },
  {
   "cell_type": "code",
   "execution_count": null,
   "id": "f229bc8d-a043-497c-a637-455a4dbba704",
   "metadata": {},
   "outputs": [],
   "source": []
  },
  {
   "cell_type": "code",
   "execution_count": null,
   "id": "02a4fa20-b2a4-44c9-9b01-f3208dac8612",
   "metadata": {},
   "outputs": [],
   "source": []
  },
  {
   "cell_type": "code",
   "execution_count": null,
   "id": "0eaa35c0-d90b-4404-8815-90b6d0ef7a98",
   "metadata": {},
   "outputs": [],
   "source": []
  },
  {
   "cell_type": "code",
   "execution_count": null,
   "id": "e717c837-1f29-41ee-af2b-a4f2c115c7f5",
   "metadata": {},
   "outputs": [],
   "source": []
  },
  {
   "cell_type": "code",
   "execution_count": null,
   "id": "6b743c4f-f6ed-4b70-b83c-1881c7b0e70d",
   "metadata": {},
   "outputs": [],
   "source": []
  },
  {
   "cell_type": "code",
   "execution_count": null,
   "id": "4dffa728-3fe8-4864-a2cd-3be111517140",
   "metadata": {},
   "outputs": [],
   "source": []
  },
  {
   "cell_type": "code",
   "execution_count": null,
   "id": "9370df4c-c12b-408f-a0e4-e80bf02ba53b",
   "metadata": {},
   "outputs": [],
   "source": []
  },
  {
   "cell_type": "code",
   "execution_count": null,
   "id": "0cdf09c8-2132-48bf-92e4-f67178763e77",
   "metadata": {},
   "outputs": [],
   "source": []
  },
  {
   "cell_type": "code",
   "execution_count": null,
   "id": "b9e7616c-9488-4a06-a782-4103d3d9fe0a",
   "metadata": {},
   "outputs": [],
   "source": []
  },
  {
   "cell_type": "code",
   "execution_count": null,
   "id": "0e60f35d-b628-4dbe-bd45-f0432d23dce4",
   "metadata": {},
   "outputs": [],
   "source": []
  },
  {
   "cell_type": "code",
   "execution_count": null,
   "id": "8ce33e5b-ffa0-4a32-908a-caf7f9e02be1",
   "metadata": {},
   "outputs": [],
   "source": []
  },
  {
   "cell_type": "code",
   "execution_count": null,
   "id": "d305007e-7795-486c-bf8a-6ca6968dc9e1",
   "metadata": {},
   "outputs": [],
   "source": []
  }
 ],
 "metadata": {
  "kernelspec": {
   "display_name": "Python 3 (ipykernel)",
   "language": "python",
   "name": "python3"
  },
  "language_info": {
   "codemirror_mode": {
    "name": "ipython",
    "version": 3
   },
   "file_extension": ".py",
   "mimetype": "text/x-python",
   "name": "python",
   "nbconvert_exporter": "python",
   "pygments_lexer": "ipython3",
   "version": "3.11.6"
  }
 },
 "nbformat": 4,
 "nbformat_minor": 5
}
