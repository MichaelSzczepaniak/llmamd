{
 "cells": [
  {
   "cell_type": "code",
   "execution_count": null,
   "id": "6843275e-c0a0-4de0-a858-ee035dca23f5",
   "metadata": {},
   "outputs": [],
   "source": [
    "import pandas as pd\n",
    "data = {\n",
    "    \"name\": [\"John\", \"Ted\", \"Dev\", \"Brad\", \"Rex\", \"Smith\", \"Samuel\", \"David\"],\n",
    "    \"salary\": [10000, 20000, 50000, 45500, 19800, 95000, 5000, 50000],\n",
    "    \"management\": [1, 0, 1, 0, 1, 0, 1, 0]}\n",
    "\n",
    "# create dataframe from data dictionary\n",
    "df = pd.DataFrame(data) # print the dataframe display(df.head())\n",
    "df"
   ]
  },
  {
   "cell_type": "code",
   "execution_count": null,
   "id": "d04cb057-420a-4a24-b2cd-ba25f2e9a7ca",
   "metadata": {},
   "outputs": [],
   "source": [
    "for index, row in df.iterrows():\n",
    "    print(f\"{index},{row['name']},{row['salary']},{row['management']}\")"
   ]
  },
  {
   "cell_type": "code",
   "execution_count": null,
   "id": "beb67e2b-c69f-413f-b076-d48e7f84c243",
   "metadata": {},
   "outputs": [],
   "source": [
    "# import projtool as pt\n",
    "\n",
    "df_prompt_data = pd.read_csv(\"./data/prompt_log.csv\")\n",
    "df_prompt_data"
   ]
  },
  {
   "cell_type": "code",
   "execution_count": null,
   "id": "ce96b46f-5840-4575-8f1d-c13c803baf50",
   "metadata": {},
   "outputs": [],
   "source": [
    "max_context_date = df_prompt_data.loc[df_prompt_data['prompt_component'] == 'context', 'date'].max()\n",
    "max_prefix_c0_date = df_prompt_data.loc[(df_prompt_data['prompt_component'] == 'prompt_prefix') & \\\n",
    "                                        (df_prompt_data['class'] == 0), 'date'].max()\n",
    "max_prefix_c1_date = df_prompt_data.loc[(df_prompt_data['prompt_component'] == 'prompt_prefix') & \\\n",
    "                                        (df_prompt_data['class'] == 1), 'date'].max()\n",
    "print(max_context_date, max_prefix_c0_date, max_prefix_c1_date)\n",
    "\n",
    "max_context = df_prompt_data.loc[(df_prompt_data['prompt_component'] == 'context') & \\\n",
    "                                 (df_prompt_data['date'] == max_context_date), 'content'].values[0]\n",
    "print(max_context)\n"
   ]
  },
  {
   "cell_type": "code",
   "execution_count": null,
   "id": "7c90162c-b056-4d6f-9c9b-98e480f8ceb3",
   "metadata": {},
   "outputs": [],
   "source": [
    "import projtools as pt\n",
    "\n",
    "prompt_dict = pt.get_prompt_setup()\n",
    "print(prompt_dict)"
   ]
  },
  {
   "cell_type": "code",
   "execution_count": null,
   "id": "0ed41f65-ad14-48ff-a547-ae84bd1ebdb1",
   "metadata": {},
   "outputs": [],
   "source": [
    "pd.set_option('display.max_colwidth', None)\n",
    "print(prompt_dict['context']['text'])"
   ]
  },
  {
   "cell_type": "code",
   "execution_count": null,
   "id": "0a2d317b-70b1-4e16-82a1-3070bf030731",
   "metadata": {},
   "outputs": [],
   "source": [
    "print(prompt_dict['prefix_class0'])"
   ]
  },
  {
   "cell_type": "code",
   "execution_count": null,
   "id": "2578e992-020d-4b84-a981-caa5a544f15c",
   "metadata": {},
   "outputs": [],
   "source": [
    "print(prompt_dict['prefix_class1'])"
   ]
  },
  {
   "cell_type": "code",
   "execution_count": null,
   "id": "4a3e0cd6-86b6-47c3-87d7-9bce4ecda032",
   "metadata": {},
   "outputs": [],
   "source": [
    "print(prompt_dict['prefix_class1']['text'])"
   ]
  },
  {
   "cell_type": "code",
   "execution_count": null,
   "id": "b9a44b0d-b768-4d1c-b7b1-ed24a268b410",
   "metadata": {},
   "outputs": [],
   "source": [
    "from sklearn.utils.random import sample_without_replacement\n",
    "\n",
    "# what happens if I sample multiple times w/o replacement?\n",
    "print(sample_without_replacement(20, 5, random_state=42))\n",
    "print(sample_without_replacement(20, 5, random_state=42))\n",
    "print(sample_without_replacement(20, 5, random_state=42))\n",
    "print(sample_without_replacement(20, 5, random_state=42))"
   ]
  },
  {
   "cell_type": "code",
   "execution_count": null,
   "id": "7df87ac5-70c5-4d07-861c-5bfc1dac62bb",
   "metadata": {},
   "outputs": [],
   "source": [
    "n = str(4)\n",
    "n.zfill(3)"
   ]
  },
  {
   "cell_type": "code",
   "execution_count": 1,
   "id": "dfab2cd9-c81e-4b25-86d5-7e1087eb5f51",
   "metadata": {},
   "outputs": [
    {
     "name": "stdout",
     "output_type": "stream",
     "text": [
      "<regex.Match object; span=(0, 40), match='\"this starts and ends with double quote\"'>\n",
      "\"this starts and ends with double quote\"\n",
      "\"\n",
      "this starts and ends with double quote\n",
      "\"\n"
     ]
    }
   ],
   "source": [
    "# play with regex to fix double quoting issue\n",
    "import regex as re\n",
    "\n",
    "test_strings = ['\"this starts and ends with double quote\"', 'this has no quotes',\n",
    "                '\"starts with dq, but does\" not end with dq', 'ends with dq, \"but does not start with dq\"',\n",
    "                'has dq, but dq \"does not start\" or end']\n",
    "\n",
    "# pattern_start_end_dq = '^\"(.*)$\"'\n",
    "pattern_start_end_dq = r'^(\")([^\"]*)(\")$'  # starts and ends with \"\n",
    "# patter_starts_dq = '^\"(.*)\n",
    "compiled_pattern = re.compile(pattern_start_end_dq)\n",
    "match = compiled_pattern.match(test_strings[0])\n",
    "print(match)\n",
    "print(match.group(0))\n",
    "print(match.group(1))\n",
    "print(match.group(2))\n",
    "print(match.group(3))"
   ]
  },
  {
   "cell_type": "code",
   "execution_count": 2,
   "id": "47154cd7-021c-4926-88af-6f55d15a3dd9",
   "metadata": {},
   "outputs": [],
   "source": [
    "# should not match 2nd string\n",
    "match = compiled_pattern.match(test_strings[1])\n",
    "if match is not None:\n",
    "    print(match)\n",
    "    print(match.group(0))\n",
    "    print(match.group(1))\n",
    "    print(match.group(2))\n",
    "    print(match.group(3))\n"
   ]
  },
  {
   "cell_type": "code",
   "execution_count": null,
   "id": "68c65705-a974-4f0b-86cf-8549c93edd07",
   "metadata": {},
   "outputs": [],
   "source": []
  },
  {
   "cell_type": "code",
   "execution_count": null,
   "id": "59018009-3559-4f44-a091-216ac189b6d3",
   "metadata": {},
   "outputs": [],
   "source": []
  },
  {
   "cell_type": "code",
   "execution_count": null,
   "id": "d0c815b9-0f8f-4ed9-9823-883e58eb6688",
   "metadata": {},
   "outputs": [],
   "source": [
    "def fix_double_quotes(my_string):\n",
    "    # if string starts and ends with \", just return it\n",
    "    pattern_start_end_dq = re.compile(r'^(\")([^\"]*)(\")$')\n",
    "    patter_starts_dq = '^\"(.*)\n",
    "    match_start_end_dq = pattern_start_end_dq.match(my_string)\n",
    "    if match is not None:\n",
    "        return_value = match_start_end_dq.group(0)\n",
    "\n",
    "    pass"
   ]
  },
  {
   "cell_type": "code",
   "execution_count": null,
   "id": "aa0d9853-7b76-4d82-92af-baf3efa2072f",
   "metadata": {},
   "outputs": [],
   "source": []
  },
  {
   "cell_type": "code",
   "execution_count": 1,
   "id": "718227a5-6312-474d-a4e5-0894316cc07f",
   "metadata": {},
   "outputs": [
    {
     "name": "stdout",
     "output_type": "stream",
     "text": [
      "['apple', 'banana', 'orange', 'grape', 'kiwi']\n"
     ]
    }
   ],
   "source": [
    "fruits = ['apple', 'banana', 'orange']\n",
    "additional_fruits = ['grape', 'kiwi']\n",
    " \n",
    "fruits.extend(additional_fruits)\n",
    " \n",
    "print(fruits)\n"
   ]
  },
  {
   "cell_type": "code",
   "execution_count": 4,
   "id": "9a437f3f-5237-4cd4-9423-ff3dc2b32d10",
   "metadata": {},
   "outputs": [
    {
     "name": "stdout",
     "output_type": "stream",
     "text": [
      "['string', 'string', 'string', 'st12ng', 'st14ng']\n"
     ]
    }
   ],
   "source": [
    "my_str_list = [\"STring\", \"StrinG\", \"sTRing\", \"st12ng\", \"ST14nG\"]\n",
    "my_str_lower = [token.lower() for token in my_str_list]\n",
    "\n",
    "print(my_str_lower)"
   ]
  },
  {
   "cell_type": "code",
   "execution_count": null,
   "id": "9f3f7a17-3d72-4b78-9d92-354e5f50f9e0",
   "metadata": {},
   "outputs": [],
   "source": []
  },
  {
   "cell_type": "code",
   "execution_count": null,
   "id": "58fa43bb-5a14-4a28-9187-41aea1d789d4",
   "metadata": {},
   "outputs": [],
   "source": []
  },
  {
   "cell_type": "code",
   "execution_count": null,
   "id": "fa90f943-0dfe-48c9-ade3-cc7e5e245162",
   "metadata": {},
   "outputs": [],
   "source": []
  },
  {
   "cell_type": "code",
   "execution_count": null,
   "id": "a6c809f6-cb24-4dff-a915-ff53ef207c44",
   "metadata": {},
   "outputs": [],
   "source": []
  }
 ],
 "metadata": {
  "kernelspec": {
   "display_name": "Python 3 (ipykernel)",
   "language": "python",
   "name": "python3"
  },
  "language_info": {
   "codemirror_mode": {
    "name": "ipython",
    "version": 3
   },
   "file_extension": ".py",
   "mimetype": "text/x-python",
   "name": "python",
   "nbconvert_exporter": "python",
   "pygments_lexer": "ipython3",
   "version": "3.11.6"
  }
 },
 "nbformat": 4,
 "nbformat_minor": 5
}
