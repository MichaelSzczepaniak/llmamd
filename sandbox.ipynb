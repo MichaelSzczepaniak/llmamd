{
 "cells": [
  {
   "cell_type": "code",
   "execution_count": 1,
   "id": "6843275e-c0a0-4de0-a858-ee035dca23f5",
   "metadata": {},
   "outputs": [
    {
     "data": {
      "text/html": [
       "<div>\n",
       "<style scoped>\n",
       "    .dataframe tbody tr th:only-of-type {\n",
       "        vertical-align: middle;\n",
       "    }\n",
       "\n",
       "    .dataframe tbody tr th {\n",
       "        vertical-align: top;\n",
       "    }\n",
       "\n",
       "    .dataframe thead th {\n",
       "        text-align: right;\n",
       "    }\n",
       "</style>\n",
       "<table border=\"1\" class=\"dataframe\">\n",
       "  <thead>\n",
       "    <tr style=\"text-align: right;\">\n",
       "      <th></th>\n",
       "      <th>name</th>\n",
       "      <th>salary</th>\n",
       "      <th>management</th>\n",
       "    </tr>\n",
       "  </thead>\n",
       "  <tbody>\n",
       "    <tr>\n",
       "      <th>0</th>\n",
       "      <td>John</td>\n",
       "      <td>10000</td>\n",
       "      <td>1</td>\n",
       "    </tr>\n",
       "    <tr>\n",
       "      <th>1</th>\n",
       "      <td>Ted</td>\n",
       "      <td>20000</td>\n",
       "      <td>0</td>\n",
       "    </tr>\n",
       "    <tr>\n",
       "      <th>2</th>\n",
       "      <td>Dev</td>\n",
       "      <td>50000</td>\n",
       "      <td>1</td>\n",
       "    </tr>\n",
       "    <tr>\n",
       "      <th>3</th>\n",
       "      <td>Brad</td>\n",
       "      <td>45500</td>\n",
       "      <td>0</td>\n",
       "    </tr>\n",
       "    <tr>\n",
       "      <th>4</th>\n",
       "      <td>Rex</td>\n",
       "      <td>19800</td>\n",
       "      <td>1</td>\n",
       "    </tr>\n",
       "    <tr>\n",
       "      <th>5</th>\n",
       "      <td>Smith</td>\n",
       "      <td>95000</td>\n",
       "      <td>0</td>\n",
       "    </tr>\n",
       "    <tr>\n",
       "      <th>6</th>\n",
       "      <td>Samuel</td>\n",
       "      <td>5000</td>\n",
       "      <td>1</td>\n",
       "    </tr>\n",
       "    <tr>\n",
       "      <th>7</th>\n",
       "      <td>David</td>\n",
       "      <td>50000</td>\n",
       "      <td>0</td>\n",
       "    </tr>\n",
       "  </tbody>\n",
       "</table>\n",
       "</div>"
      ],
      "text/plain": [
       "     name  salary  management\n",
       "0    John   10000           1\n",
       "1     Ted   20000           0\n",
       "2     Dev   50000           1\n",
       "3    Brad   45500           0\n",
       "4     Rex   19800           1\n",
       "5   Smith   95000           0\n",
       "6  Samuel    5000           1\n",
       "7   David   50000           0"
      ]
     },
     "execution_count": 1,
     "metadata": {},
     "output_type": "execute_result"
    }
   ],
   "source": [
    "import pandas as pd\n",
    "data = {\n",
    "    \"name\": [\"John\", \"Ted\", \"Dev\", \"Brad\", \"Rex\", \"Smith\", \"Samuel\", \"David\"],\n",
    "    \"salary\": [10000, 20000, 50000, 45500, 19800, 95000, 5000, 50000],\n",
    "    \"management\": [1, 0, 1, 0, 1, 0, 1, 0]}\n",
    "\n",
    "# create dataframe from data dictionary\n",
    "df = pd.DataFrame(data) # print the dataframe display(df.head())\n",
    "df"
   ]
  },
  {
   "cell_type": "code",
   "execution_count": 2,
   "id": "d04cb057-420a-4a24-b2cd-ba25f2e9a7ca",
   "metadata": {},
   "outputs": [
    {
     "name": "stdout",
     "output_type": "stream",
     "text": [
      "0,John,10000,1\n",
      "1,Ted,20000,0\n",
      "2,Dev,50000,1\n",
      "3,Brad,45500,0\n",
      "4,Rex,19800,1\n",
      "5,Smith,95000,0\n",
      "6,Samuel,5000,1\n",
      "7,David,50000,0\n"
     ]
    }
   ],
   "source": [
    "for index, row in df.iterrows():\n",
    "    print(f\"{index},{row['name']},{row['salary']},{row['management']}\")"
   ]
  },
  {
   "cell_type": "code",
   "execution_count": 3,
   "id": "beb67e2b-c69f-413f-b076-d48e7f84c243",
   "metadata": {
    "scrolled": true
   },
   "outputs": [
    {
     "data": {
      "text/html": [
       "<div>\n",
       "<style scoped>\n",
       "    .dataframe tbody tr th:only-of-type {\n",
       "        vertical-align: middle;\n",
       "    }\n",
       "\n",
       "    .dataframe tbody tr th {\n",
       "        vertical-align: top;\n",
       "    }\n",
       "\n",
       "    .dataframe thead th {\n",
       "        text-align: right;\n",
       "    }\n",
       "</style>\n",
       "<table border=\"1\" class=\"dataframe\">\n",
       "  <thead>\n",
       "    <tr style=\"text-align: right;\">\n",
       "      <th></th>\n",
       "      <th>date</th>\n",
       "      <th>prompt_component</th>\n",
       "      <th>version</th>\n",
       "      <th>class</th>\n",
       "      <th>content</th>\n",
       "      <th>notes</th>\n",
       "    </tr>\n",
       "  </thead>\n",
       "  <tbody>\n",
       "    <tr>\n",
       "      <th>0</th>\n",
       "      <td>2024-02-26</td>\n",
       "      <td>context</td>\n",
       "      <td>1</td>\n",
       "      <td>2</td>\n",
       "      <td>You are a fiction writer who has observed a di...</td>\n",
       "      <td>initial context for both classes used for send...</td>\n",
       "    </tr>\n",
       "    <tr>\n",
       "      <th>1</th>\n",
       "      <td>2024-02-26</td>\n",
       "      <td>prompt_prefix</td>\n",
       "      <td>1</td>\n",
       "      <td>0</td>\n",
       "      <td>Write me a tweet similar to this one, under 14...</td>\n",
       "      <td>initial class 0 prompt used in web interface</td>\n",
       "    </tr>\n",
       "    <tr>\n",
       "      <th>2</th>\n",
       "      <td>2024-02-26</td>\n",
       "      <td>prompt_prefix</td>\n",
       "      <td>1</td>\n",
       "      <td>1</td>\n",
       "      <td>Write me a tweet similar to this one, under 14...</td>\n",
       "      <td>initial class 1 prompt used in web interface</td>\n",
       "    </tr>\n",
       "    <tr>\n",
       "      <th>3</th>\n",
       "      <td>2024-02-27</td>\n",
       "      <td>context</td>\n",
       "      <td>2</td>\n",
       "      <td>2</td>\n",
       "      <td>You are a fiction writer who has observed a di...</td>\n",
       "      <td>same as version 1</td>\n",
       "    </tr>\n",
       "    <tr>\n",
       "      <th>4</th>\n",
       "      <td>2024-02-27</td>\n",
       "      <td>prompt_prefix</td>\n",
       "      <td>2</td>\n",
       "      <td>0</td>\n",
       "      <td>Write me a tweet similar to this one, under 14...</td>\n",
       "      <td>avoid having to expand contractions on generat...</td>\n",
       "    </tr>\n",
       "    <tr>\n",
       "      <th>5</th>\n",
       "      <td>2024-02-27</td>\n",
       "      <td>prompt_prefix</td>\n",
       "      <td>2</td>\n",
       "      <td>1</td>\n",
       "      <td>Write me a tweet similar to this one, under 14...</td>\n",
       "      <td>avoid having to expand contractions on generat...</td>\n",
       "    </tr>\n",
       "    <tr>\n",
       "      <th>6</th>\n",
       "      <td>2024-02-29</td>\n",
       "      <td>context</td>\n",
       "      <td>3</td>\n",
       "      <td>2</td>\n",
       "      <td>You are a fiction writer who has observed a di...</td>\n",
       "      <td>same as version 2</td>\n",
       "    </tr>\n",
       "    <tr>\n",
       "      <th>7</th>\n",
       "      <td>2024-02-29</td>\n",
       "      <td>prompt_prefix</td>\n",
       "      <td>3</td>\n",
       "      <td>0</td>\n",
       "      <td>Write me a tweet similar to this one, under 14...</td>\n",
       "      <td>fix issue with generated tweet quoting</td>\n",
       "    </tr>\n",
       "    <tr>\n",
       "      <th>8</th>\n",
       "      <td>2024-02-29</td>\n",
       "      <td>prompt_prefix</td>\n",
       "      <td>3</td>\n",
       "      <td>1</td>\n",
       "      <td>Write me a tweet similar to this one, under 14...</td>\n",
       "      <td>fix issue with generated tweet quoting</td>\n",
       "    </tr>\n",
       "    <tr>\n",
       "      <th>9</th>\n",
       "      <td>2024-03-23</td>\n",
       "      <td>context</td>\n",
       "      <td>4</td>\n",
       "      <td>0</td>\n",
       "      <td>You are social commentator who enjoys diverse ...</td>\n",
       "      <td>add context for class 0 generated tweets</td>\n",
       "    </tr>\n",
       "    <tr>\n",
       "      <th>10</th>\n",
       "      <td>2024-03-23</td>\n",
       "      <td>context</td>\n",
       "      <td>4</td>\n",
       "      <td>1</td>\n",
       "      <td>You are a world class reporter who has observe...</td>\n",
       "      <td>change fiction writer to reporter</td>\n",
       "    </tr>\n",
       "    <tr>\n",
       "      <th>11</th>\n",
       "      <td>2024-03-23</td>\n",
       "      <td>prompt_prefix</td>\n",
       "      <td>4</td>\n",
       "      <td>0</td>\n",
       "      <td>Write me a tweet similar to this one, under 14...</td>\n",
       "      <td>remove contraction constraint, add similar fee...</td>\n",
       "    </tr>\n",
       "    <tr>\n",
       "      <th>12</th>\n",
       "      <td>2024-03-23</td>\n",
       "      <td>prompt_prefix</td>\n",
       "      <td>4</td>\n",
       "      <td>1</td>\n",
       "      <td>Write me a tweet similar to this one, under 14...</td>\n",
       "      <td>remove contraction constraint</td>\n",
       "    </tr>\n",
       "    <tr>\n",
       "      <th>13</th>\n",
       "      <td>2024-03-28</td>\n",
       "      <td>context</td>\n",
       "      <td>5</td>\n",
       "      <td>0</td>\n",
       "      <td>You are social commentator who enjoys diverse ...</td>\n",
       "      <td>same as version 4</td>\n",
       "    </tr>\n",
       "    <tr>\n",
       "      <th>14</th>\n",
       "      <td>2024-03-28</td>\n",
       "      <td>context</td>\n",
       "      <td>5</td>\n",
       "      <td>1</td>\n",
       "      <td>You are a world class reporter who has observe...</td>\n",
       "      <td>same as version 4</td>\n",
       "    </tr>\n",
       "    <tr>\n",
       "      <th>15</th>\n",
       "      <td>2024-03-28</td>\n",
       "      <td>prompt_prefix</td>\n",
       "      <td>5</td>\n",
       "      <td>0</td>\n",
       "      <td>Write me a tweet similar to this one in length...</td>\n",
       "      <td>add similar length specification</td>\n",
       "    </tr>\n",
       "    <tr>\n",
       "      <th>16</th>\n",
       "      <td>2024-03-28</td>\n",
       "      <td>prompt_prefix</td>\n",
       "      <td>5</td>\n",
       "      <td>1</td>\n",
       "      <td>Write me a tweet similar to this one in length...</td>\n",
       "      <td>add similar length specification</td>\n",
       "    </tr>\n",
       "  </tbody>\n",
       "</table>\n",
       "</div>"
      ],
      "text/plain": [
       "          date prompt_component  version  class  \\\n",
       "0   2024-02-26          context        1      2   \n",
       "1   2024-02-26    prompt_prefix        1      0   \n",
       "2   2024-02-26    prompt_prefix        1      1   \n",
       "3   2024-02-27          context        2      2   \n",
       "4   2024-02-27    prompt_prefix        2      0   \n",
       "5   2024-02-27    prompt_prefix        2      1   \n",
       "6   2024-02-29          context        3      2   \n",
       "7   2024-02-29    prompt_prefix        3      0   \n",
       "8   2024-02-29    prompt_prefix        3      1   \n",
       "9   2024-03-23          context        4      0   \n",
       "10  2024-03-23          context        4      1   \n",
       "11  2024-03-23    prompt_prefix        4      0   \n",
       "12  2024-03-23    prompt_prefix        4      1   \n",
       "13  2024-03-28          context        5      0   \n",
       "14  2024-03-28          context        5      1   \n",
       "15  2024-03-28    prompt_prefix        5      0   \n",
       "16  2024-03-28    prompt_prefix        5      1   \n",
       "\n",
       "                                              content  \\\n",
       "0   You are a fiction writer who has observed a di...   \n",
       "1   Write me a tweet similar to this one, under 14...   \n",
       "2   Write me a tweet similar to this one, under 14...   \n",
       "3   You are a fiction writer who has observed a di...   \n",
       "4   Write me a tweet similar to this one, under 14...   \n",
       "5   Write me a tweet similar to this one, under 14...   \n",
       "6   You are a fiction writer who has observed a di...   \n",
       "7   Write me a tweet similar to this one, under 14...   \n",
       "8   Write me a tweet similar to this one, under 14...   \n",
       "9   You are social commentator who enjoys diverse ...   \n",
       "10  You are a world class reporter who has observe...   \n",
       "11  Write me a tweet similar to this one, under 14...   \n",
       "12  Write me a tweet similar to this one, under 14...   \n",
       "13  You are social commentator who enjoys diverse ...   \n",
       "14  You are a world class reporter who has observe...   \n",
       "15  Write me a tweet similar to this one in length...   \n",
       "16  Write me a tweet similar to this one in length...   \n",
       "\n",
       "                                                notes  \n",
       "0   initial context for both classes used for send...  \n",
       "1        initial class 0 prompt used in web interface  \n",
       "2        initial class 1 prompt used in web interface  \n",
       "3                                   same as version 1  \n",
       "4   avoid having to expand contractions on generat...  \n",
       "5   avoid having to expand contractions on generat...  \n",
       "6                                   same as version 2  \n",
       "7              fix issue with generated tweet quoting  \n",
       "8              fix issue with generated tweet quoting  \n",
       "9            add context for class 0 generated tweets  \n",
       "10                  change fiction writer to reporter  \n",
       "11  remove contraction constraint, add similar fee...  \n",
       "12                      remove contraction constraint  \n",
       "13                                  same as version 4  \n",
       "14                                  same as version 4  \n",
       "15                   add similar length specification  \n",
       "16                   add similar length specification  "
      ]
     },
     "execution_count": 3,
     "metadata": {},
     "output_type": "execute_result"
    }
   ],
   "source": [
    "# import projtool as pt\n",
    "\n",
    "df_prompt_data = pd.read_csv(\"./data/prompt_log.csv\")\n",
    "df_prompt_data"
   ]
  },
  {
   "cell_type": "code",
   "execution_count": 4,
   "id": "ce96b46f-5840-4575-8f1d-c13c803baf50",
   "metadata": {},
   "outputs": [
    {
     "name": "stdout",
     "output_type": "stream",
     "text": [
      "2024-03-28 2024-03-28 2024-03-28\n",
      "You are social commentator who enjoys diverse opinions and likes to tweet.\n"
     ]
    }
   ],
   "source": [
    "max_context_date = df_prompt_data.loc[df_prompt_data['prompt_component'] == 'context', 'date'].max()\n",
    "max_prefix_c0_date = df_prompt_data.loc[(df_prompt_data['prompt_component'] == 'prompt_prefix') & \\\n",
    "                                        (df_prompt_data['class'] == 0), 'date'].max()\n",
    "max_prefix_c1_date = df_prompt_data.loc[(df_prompt_data['prompt_component'] == 'prompt_prefix') & \\\n",
    "                                        (df_prompt_data['class'] == 1), 'date'].max()\n",
    "print(max_context_date, max_prefix_c0_date, max_prefix_c1_date)\n",
    "\n",
    "max_context = df_prompt_data.loc[(df_prompt_data['prompt_component'] == 'context') & \\\n",
    "                                 (df_prompt_data['date'] == max_context_date), 'content'].values[0]\n",
    "print(max_context)\n"
   ]
  },
  {
   "cell_type": "code",
   "execution_count": null,
   "id": "7c90162c-b056-4d6f-9c9b-98e480f8ceb3",
   "metadata": {},
   "outputs": [],
   "source": []
  },
  {
   "cell_type": "code",
   "execution_count": 5,
   "id": "0ed41f65-ad14-48ff-a547-ae84bd1ebdb1",
   "metadata": {},
   "outputs": [],
   "source": [
    "pd.set_option('display.max_colwidth', None)"
   ]
  },
  {
   "cell_type": "code",
   "execution_count": null,
   "id": "0a2d317b-70b1-4e16-82a1-3070bf030731",
   "metadata": {},
   "outputs": [],
   "source": []
  },
  {
   "cell_type": "code",
   "execution_count": null,
   "id": "2578e992-020d-4b84-a981-caa5a544f15c",
   "metadata": {},
   "outputs": [],
   "source": []
  },
  {
   "cell_type": "code",
   "execution_count": 6,
   "id": "718227a5-6312-474d-a4e5-0894316cc07f",
   "metadata": {
    "scrolled": true
   },
   "outputs": [
    {
     "name": "stdout",
     "output_type": "stream",
     "text": [
      "{'tweet_batches_class0': [(0, 199), (200, 399), (400, 599), (600, 799), (800, 999), (1000, 1199), (1200, 1399), (1400, 1599), (1600, 1799), (1800, 1999), (2000, 2199), (2200, 2399), (2400, 2599), (2600, 2799), (2800, 2999), (3000, 3199), (3200, 3399), (3400, 3599), (3600, 3799), (3800, 3999), (4000, 4199), (4200, 4297)], 'tweet_batches_class1': [(0, 199), (200, 399), (400, 599), (600, 799), (800, 999), (1000, 1199), (1200, 1399), (1400, 1599), (1600, 1799), (1800, 1999), (2000, 2199), (2200, 2399), (2400, 2599), (2600, 2799), (2800, 2999), (3000, 3189)]}\n",
      "\n",
      "First tweet file for class 0: ./data/prompts_v05/aug_tweets_class0_v05prompt_0000_0199.csv\n",
      "Processessing file: ./data/prompts_v05/aug_tweets_class0_v05prompt_0200_0399.csv\n",
      "Processessing file: ./data/prompts_v05/aug_tweets_class0_v05prompt_0400_0599.csv\n",
      "Processessing file: ./data/prompts_v05/aug_tweets_class0_v05prompt_0600_0799.csv\n",
      "Processessing file: ./data/prompts_v05/aug_tweets_class0_v05prompt_0800_0999.csv\n",
      "Processessing file: ./data/prompts_v05/aug_tweets_class0_v05prompt_1000_1199.csv\n",
      "Processessing file: ./data/prompts_v05/aug_tweets_class0_v05prompt_1200_1399.csv\n",
      "Processessing file: ./data/prompts_v05/aug_tweets_class0_v05prompt_1400_1599.csv\n",
      "Processessing file: ./data/prompts_v05/aug_tweets_class0_v05prompt_1600_1799.csv\n",
      "Processessing file: ./data/prompts_v05/aug_tweets_class0_v05prompt_1800_1999.csv\n",
      "Processessing file: ./data/prompts_v05/aug_tweets_class0_v05prompt_2000_2199.csv\n",
      "Processessing file: ./data/prompts_v05/aug_tweets_class0_v05prompt_2200_2399.csv\n",
      "Processessing file: ./data/prompts_v05/aug_tweets_class0_v05prompt_2400_2599.csv\n",
      "Processessing file: ./data/prompts_v05/aug_tweets_class0_v05prompt_2600_2799.csv\n",
      "Processessing file: ./data/prompts_v05/aug_tweets_class0_v05prompt_2800_2999.csv\n",
      "Processessing file: ./data/prompts_v05/aug_tweets_class0_v05prompt_3000_3199.csv\n",
      "Processessing file: ./data/prompts_v05/aug_tweets_class0_v05prompt_3200_3399.csv\n",
      "Processessing file: ./data/prompts_v05/aug_tweets_class0_v05prompt_3400_3599.csv\n",
      "Processessing file: ./data/prompts_v05/aug_tweets_class0_v05prompt_3600_3799.csv\n",
      "Processessing file: ./data/prompts_v05/aug_tweets_class0_v05prompt_3800_3999.csv\n",
      "Processessing file: ./data/prompts_v05/aug_tweets_class0_v05prompt_4000_4199.csv\n",
      "Processessing file: ./data/prompts_v05/aug_tweets_class0_v05prompt_4200_4297.csv\n",
      "First tweet file for class 1: ./data/prompts_v05/aug_tweets_class1_v05prompt_0000_0199.csv\n",
      "Processessing file: ./data/prompts_v05/aug_tweets_class1_v05prompt_0200_0399.csv\n",
      "Processessing file: ./data/prompts_v05/aug_tweets_class1_v05prompt_0400_0599.csv\n",
      "Processessing file: ./data/prompts_v05/aug_tweets_class1_v05prompt_0600_0799.csv\n",
      "Processessing file: ./data/prompts_v05/aug_tweets_class1_v05prompt_0800_0999.csv\n",
      "Processessing file: ./data/prompts_v05/aug_tweets_class1_v05prompt_1000_1199.csv\n",
      "Processessing file: ./data/prompts_v05/aug_tweets_class1_v05prompt_1200_1399.csv\n",
      "Processessing file: ./data/prompts_v05/aug_tweets_class1_v05prompt_1400_1599.csv\n",
      "Processessing file: ./data/prompts_v05/aug_tweets_class1_v05prompt_1600_1799.csv\n",
      "Processessing file: ./data/prompts_v05/aug_tweets_class1_v05prompt_1800_1999.csv\n",
      "Processessing file: ./data/prompts_v05/aug_tweets_class1_v05prompt_2000_2199.csv\n",
      "Processessing file: ./data/prompts_v05/aug_tweets_class1_v05prompt_2200_2399.csv\n",
      "Processessing file: ./data/prompts_v05/aug_tweets_class1_v05prompt_2400_2599.csv\n",
      "Processessing file: ./data/prompts_v05/aug_tweets_class1_v05prompt_2600_2799.csv\n",
      "Processessing file: ./data/prompts_v05/aug_tweets_class1_v05prompt_2800_2999.csv\n",
      "Processessing file: ./data/prompts_v05/aug_tweets_class1_v05prompt_3000_3189.csv\n",
      "(3188, 2)\n"
     ]
    },
    {
     "data": {
      "text/html": [
       "<div>\n",
       "<style scoped>\n",
       "    .dataframe tbody tr th:only-of-type {\n",
       "        vertical-align: middle;\n",
       "    }\n",
       "\n",
       "    .dataframe tbody tr th {\n",
       "        vertical-align: top;\n",
       "    }\n",
       "\n",
       "    .dataframe thead th {\n",
       "        text-align: right;\n",
       "    }\n",
       "</style>\n",
       "<table border=\"1\" class=\"dataframe\">\n",
       "  <thead>\n",
       "    <tr style=\"text-align: right;\">\n",
       "      <th></th>\n",
       "      <th>text</th>\n",
       "      <th>target</th>\n",
       "    </tr>\n",
       "    <tr>\n",
       "      <th>id</th>\n",
       "      <th></th>\n",
       "      <th></th>\n",
       "    </tr>\n",
       "  </thead>\n",
       "  <tbody>\n",
       "    <tr>\n",
       "      <th>20001</th>\n",
       "      <td>Witnessing the devastation caused by the powerful hurricane in the Caribbean region. Praying for the safety and well-being of all those affected. #hurricane #Caribbean</td>\n",
       "      <td>1</td>\n",
       "    </tr>\n",
       "    <tr>\n",
       "      <th>20004</th>\n",
       "      <td>Devastated by the forest fire near La Ronge, Sask. My heart goes out to all affected by this tragic disaster. #LaRonge #ForestFire</td>\n",
       "      <td>1</td>\n",
       "    </tr>\n",
       "    <tr>\n",
       "      <th>20005</th>\n",
       "      <td>Breaking news: Authorities urging locals to 'shelter in place' as wildfires continue to ravage parts of California. Stay safe and be prepared. #CaliforniaWildfires</td>\n",
       "      <td>1</td>\n",
       "    </tr>\n",
       "    <tr>\n",
       "      <th>20006</th>\n",
       "      <td>Massive flooding forces 10,000 residents to evacuate in Louisiana. Rescue efforts underway as homes are submerged in water. #LouisianaFloods</td>\n",
       "      <td>1</td>\n",
       "    </tr>\n",
       "    <tr>\n",
       "      <th>20007</th>\n",
       "      <td>Just received this video from Emma in #California as flood waters engulf a neighborhood. Stay safe everyone! #disastercoverage</td>\n",
       "      <td>1</td>\n",
       "    </tr>\n",
       "  </tbody>\n",
       "</table>\n",
       "</div>"
      ],
      "text/plain": [
       "                                                                                                                                                                          text  \\\n",
       "id                                                                                                                                                                               \n",
       "20001  Witnessing the devastation caused by the powerful hurricane in the Caribbean region. Praying for the safety and well-being of all those affected. #hurricane #Caribbean   \n",
       "20004                                       Devastated by the forest fire near La Ronge, Sask. My heart goes out to all affected by this tragic disaster. #LaRonge #ForestFire   \n",
       "20005      Breaking news: Authorities urging locals to 'shelter in place' as wildfires continue to ravage parts of California. Stay safe and be prepared. #CaliforniaWildfires   \n",
       "20006                             Massive flooding forces 10,000 residents to evacuate in Louisiana. Rescue efforts underway as homes are submerged in water. #LouisianaFloods   \n",
       "20007                                           Just received this video from Emma in #California as flood waters engulf a neighborhood. Stay safe everyone! #disastercoverage   \n",
       "\n",
       "       target  \n",
       "id             \n",
       "20001       1  \n",
       "20004       1  \n",
       "20005       1  \n",
       "20006       1  \n",
       "20007       1  "
      ]
     },
     "execution_count": 6,
     "metadata": {},
     "output_type": "execute_result"
    }
   ],
   "source": [
    "import projtools as pt\n",
    "\n",
    "indices_dict = pt.get_batch_indices()\n",
    "print(indices_dict)\n",
    "print()\n",
    "\n",
    "df_consolidated = pt.consolidate_tweet_batches(indices_dict)\n",
    "print(df_consolidated.shape)\n",
    "df_consolidated.head()\n",
    "# context0 = \"You are social commentator who enjoys diverse opinions and likes to tweet.\"\n",
    "# context1 = \"You are a world class reporter who has observed a disaster and likes to tweet.\"\n",
    "# prompt0 = \"Write me a tweet similar to this one in length and content, under 141 characters, does not contain double quotes, but refers to a different activity, feeling and location: \"\n",
    "# prompt1 = \"Write me a tweet similar to this one in length and content, under 141 characters, does not contain double quotes, but refers to a different disaster and location: \"\n",
    "# class0_tweets_test = pt.generate_tweet_batch(class_label=0, context_by_class=context0, start_prompt_by_class=prompt0, batch_start=400, batch_end=599)\n",
    "# class1_tweets_test = pt.generate_tweet_batch(class_label=1, context_by_class=context1, start_prompt_by_class=prompt1, batch_start=400, batch_end=599)"
   ]
  },
  {
   "cell_type": "code",
   "execution_count": 9,
   "id": "9a437f3f-5237-4cd4-9423-ff3dc2b32d10",
   "metadata": {},
   "outputs": [
    {
     "name": "stdout",
     "output_type": "stream",
     "text": [
      "[1.1 2.2 3.3 4.4 5.5 6.6]\n",
      "[1.1 2.2 3.3 4.4 5.5 6.6 7.7 8.8 9.9]\n"
     ]
    }
   ],
   "source": [
    "import numpy as np\n",
    "import projtools as pt\n",
    "\n",
    "v1 = np.array([1.1, 2.2, 3.3])\n",
    "v2 = np.array([4.4, 5.5, 6.6])\n",
    "v3 = np.array([7.7, 8.8, 9.9])\n",
    "\n",
    "v = np.hstack((v1, v2))\n",
    "print(v)\n",
    "v = np.hstack((v, v3))\n",
    "print(v)"
   ]
  },
  {
   "cell_type": "code",
   "execution_count": 10,
   "id": "acf38581-a2f8-4efc-898a-9d9a1cddd21d",
   "metadata": {},
   "outputs": [
    {
     "data": {
      "text/plain": [
       "array([[1.1, 2.2, 3.3],\n",
       "       [4.4, 5.5, 6.6],\n",
       "       [7.7, 8.8, 9.9]])"
      ]
     },
     "execution_count": 10,
     "metadata": {},
     "output_type": "execute_result"
    }
   ],
   "source": [
    "v_list = [v1, v2, v3]\n",
    "v_matrix = np.vstack((v1, v2))\n",
    "v_matrix = np.vstack((v_matrix, v3))\n",
    "v_matrix  # stack each vector UNDER the last"
   ]
  },
  {
   "cell_type": "code",
   "execution_count": 11,
   "id": "5c75c1d0-cf9b-452b-b17c-7fceb91ea03a",
   "metadata": {},
   "outputs": [
    {
     "data": {
      "text/plain": [
       "array([[1.1, 2.2, 3.3],\n",
       "       [4.4, 5.5, 6.6],\n",
       "       [7.7, 8.8, 9.9]])"
      ]
     },
     "execution_count": 11,
     "metadata": {},
     "output_type": "execute_result"
    }
   ],
   "source": [
    "v_matrix2 = pt.make_tweet_feats(v_list)\n",
    "v_matrix2"
   ]
  },
  {
   "cell_type": "code",
   "execution_count": 1,
   "id": "1edf05f3-46a3-44ac-b1de-c44800b3b6cb",
   "metadata": {},
   "outputs": [
    {
     "data": {
      "text/plain": [
       "48"
      ]
     },
     "execution_count": 1,
     "metadata": {},
     "output_type": "execute_result"
    }
   ],
   "source": [
    "not_stops = {\"you\", \"on\", \"not\", \"from\", \"was\", \"but\", \"your\", \"all\", \"no\",\n",
    "                 \"when\", \"now\", \"more\", \"over\", \"some\", \"first\", \"full\", \"down\",\n",
    "                 \"may\", \"only\", \"last\", \"many\", \"never\", \"any\", \"everyone\",\n",
    "                 \"every\", \"before\", \"under\", \"top\", \"most\", \"during\", \"next\",\n",
    "                 \"while\", \"call\", \"very\", \"nothing\", \"anything\", \"everything\",\n",
    "                 \"sometimes\", \"serious\", \"everywhere\", \"none\", \"except\",\n",
    "                 \"within\", \"above\", \"below\", \"nobody\", \"afterwards\", \"anywhere\"}\n",
    "len(not_stops)"
   ]
  },
  {
   "cell_type": "code",
   "execution_count": null,
   "id": "feb36e77-41f7-49d0-bf87-154a7b3c19c4",
   "metadata": {},
   "outputs": [],
   "source": []
  },
  {
   "cell_type": "code",
   "execution_count": null,
   "id": "bc14be03-dc1c-48f6-8eea-f6f033f0b132",
   "metadata": {},
   "outputs": [],
   "source": []
  },
  {
   "cell_type": "code",
   "execution_count": null,
   "id": "430559ab-8f8d-42d7-938d-c9ba01eb0f20",
   "metadata": {},
   "outputs": [],
   "source": []
  },
  {
   "cell_type": "code",
   "execution_count": null,
   "id": "d568856f-ef16-4c33-a25c-8a905b28f81f",
   "metadata": {},
   "outputs": [],
   "source": []
  },
  {
   "cell_type": "code",
   "execution_count": null,
   "id": "76ca2a91-4a24-4666-8089-d9715e0da47f",
   "metadata": {},
   "outputs": [],
   "source": []
  },
  {
   "cell_type": "code",
   "execution_count": 2,
   "id": "85a059ce-cdcb-44fa-835b-92b13625835e",
   "metadata": {},
   "outputs": [],
   "source": [
    "import numpy as np\n",
    "import pandas as pd\n",
    "import random\n",
    "# https://stackoverflow.com/questions/78286353/writing-a-pandas-dataframe-with-large-vector-column?noredirect=1#comment138016611_78286353\n",
    "# df = pd.DataFrame({'id' : range(1,7486),\n",
    "#                    'text' : random.choices(['11', '22', 'some long random string', 'another string', 'one last word'],\n",
    "#                                            k=7485),\n",
    "#                    'text_vector' : [np.array([random.uniform(-2,2) for _ in range(1500)]) for _ in range(7485)],\n",
    "#                    'target':random.choices(range(10000),k=7485) })\n",
    "# df.to_csv(path_or_buf=\"./data/df_text_vec_truncate.csv\", index=False, encoding='utf-8')"
   ]
  },
  {
   "cell_type": "code",
   "execution_count": 4,
   "id": "6eb5f2c7-5ed8-4c03-8696-ff320024ebac",
   "metadata": {},
   "outputs": [
    {
     "name": "stdout",
     "output_type": "stream",
     "text": [
      "(7,)\n"
     ]
    }
   ],
   "source": [
    "v = np.array([1.1, 2.2, 3.3, 4.4, 5.5, 6.6, 7.7])\n",
    "print(v.shape)"
   ]
  },
  {
   "cell_type": "code",
   "execution_count": 5,
   "id": "3d356b91-3800-4215-83ba-b23b82377130",
   "metadata": {},
   "outputs": [
    {
     "name": "stdout",
     "output_type": "stream",
     "text": [
      "(7,) (7, 1)\n"
     ]
    },
    {
     "data": {
      "text/plain": [
       "array([[1.1],\n",
       "       [2.2],\n",
       "       [3.3],\n",
       "       [4.4],\n",
       "       [5.5],\n",
       "       [6.6],\n",
       "       [7.7]])"
      ]
     },
     "execution_count": 5,
     "metadata": {},
     "output_type": "execute_result"
    }
   ],
   "source": [
    "v2 = np.reshape(v, (-1, 1))\n",
    "print(v.shape, v2.shape)\n",
    "v2"
   ]
  },
  {
   "cell_type": "code",
   "execution_count": 6,
   "id": "ad8fafdd-4e8c-4547-abb7-dcd039f9bc1d",
   "metadata": {},
   "outputs": [
    {
     "data": {
      "text/plain": [
       "tensor([0, 2, 4, 6, 8])"
      ]
     },
     "execution_count": 6,
     "metadata": {},
     "output_type": "execute_result"
    }
   ],
   "source": [
    "import torch\n",
    "\n",
    "# t1 = torch.tensor([0.2, 0.7, 0.1])\n",
    "# t1.argmax()  # tensor(1)\n",
    "\n",
    "start=0; end=10; step=2\n",
    "b = torch.arange(start, end, step)\n",
    "b"
   ]
  },
  {
   "cell_type": "code",
   "execution_count": 3,
   "id": "19082bb1-9894-477c-8ef6-465a504c10e8",
   "metadata": {},
   "outputs": [
    {
     "name": "stdout",
     "output_type": "stream",
     "text": [
      "x = 7.12\n"
     ]
    }
   ],
   "source": [
    "x = 7.1234567\n",
    "print(f\"x = {x:.2f}\")"
   ]
  },
  {
   "cell_type": "code",
   "execution_count": 10,
   "id": "867f944e-05b7-4bfe-afd5-aba832ae5d5e",
   "metadata": {},
   "outputs": [
    {
     "name": "stdout",
     "output_type": "stream",
     "text": [
      "Fri Apr 12 15:52:56 2024\n",
      "1712958776.299947\n"
     ]
    },
    {
     "data": {
      "text/plain": [
       "'2024-04-12.15.52.56'"
      ]
     },
     "execution_count": 10,
     "metadata": {},
     "output_type": "execute_result"
    }
   ],
   "source": [
    "import time\n",
    "from datetime import datetime\n",
    "print(time.ctime())\n",
    "print(time.time())\n",
    "datetime.now().strftime('%Y-%m-%d.%H.%M.%S')"
   ]
  },
  {
   "cell_type": "code",
   "execution_count": 11,
   "id": "9f3f7a17-3d72-4b78-9d92-354e5f50f9e0",
   "metadata": {},
   "outputs": [
    {
     "name": "stdout",
     "output_type": "stream",
     "text": [
      "x = left, y = right\n"
     ]
    }
   ],
   "source": [
    "def return_tuple():\n",
    "    return(('left', 'right'))\n",
    "\n",
    "x, y = return_tuple()\n",
    "print(f\"x = {x}, y = {y}\")"
   ]
  },
  {
   "cell_type": "code",
   "execution_count": null,
   "id": "3e4011e5-98ce-4967-ac9e-0ae78ca78344",
   "metadata": {},
   "outputs": [],
   "source": [
    "# fix accuracy error reporting\n",
    "sd1_relu = 0.07877542178298569 / 2.\n",
    "sd1_sigmoid = 0.05552229291138861 / 2.\n",
    "sd2_100h = 0\n",
    "sd2_300h = 0"
   ]
  },
  {
   "cell_type": "code",
   "execution_count": null,
   "id": "abec7908-4ba2-4ef4-ad65-154c3d837763",
   "metadata": {},
   "outputs": [],
   "source": []
  },
  {
   "cell_type": "code",
   "execution_count": null,
   "id": "e60134b8-2550-4357-b505-3a7d90027598",
   "metadata": {},
   "outputs": [],
   "source": []
  },
  {
   "cell_type": "code",
   "execution_count": null,
   "id": "19de6744-909c-4ce3-8a31-e96b52f3d767",
   "metadata": {},
   "outputs": [],
   "source": []
  },
  {
   "cell_type": "code",
   "execution_count": null,
   "id": "58fa43bb-5a14-4a28-9187-41aea1d789d4",
   "metadata": {},
   "outputs": [],
   "source": []
  },
  {
   "cell_type": "code",
   "execution_count": null,
   "id": "fa90f943-0dfe-48c9-ade3-cc7e5e245162",
   "metadata": {},
   "outputs": [],
   "source": []
  },
  {
   "cell_type": "code",
   "execution_count": null,
   "id": "a6c809f6-cb24-4dff-a915-ff53ef207c44",
   "metadata": {},
   "outputs": [],
   "source": []
  }
 ],
 "metadata": {
  "kernelspec": {
   "display_name": "Python 3 (ipykernel)",
   "language": "python",
   "name": "python3"
  },
  "language_info": {
   "codemirror_mode": {
    "name": "ipython",
    "version": 3
   },
   "file_extension": ".py",
   "mimetype": "text/x-python",
   "name": "python",
   "nbconvert_exporter": "python",
   "pygments_lexer": "ipython3",
   "version": "3.11.6"
  }
 },
 "nbformat": 4,
 "nbformat_minor": 5
}
