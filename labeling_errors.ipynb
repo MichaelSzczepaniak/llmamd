{
 "cells": [
  {
   "cell_type": "code",
   "execution_count": null,
   "id": "b1e67918-6943-46b5-b966-ef4edf6a01f0",
   "metadata": {},
   "outputs": [],
   "source": []
  },
  {
   "cell_type": "code",
   "execution_count": null,
   "id": "64aac779-797e-45f9-ad45-518593f8383a",
   "metadata": {},
   "outputs": [],
   "source": []
  },
  {
   "cell_type": "code",
   "execution_count": 38,
   "id": "090c7df6-8db3-41aa-ae38-0447ea1084d5",
   "metadata": {},
   "outputs": [
    {
     "name": "stdout",
     "output_type": "stream",
     "text": [
      "shape of base data with spillovers fixed and duplicates removed: (7485, 4)\n",
      "shape of same base data with target == 0: (4297, 2)\n",
      "shape of same base data with target == 1: (3188, 2)\n"
     ]
    }
   ],
   "source": [
    "import pandas as pd\n",
    "df_train = pd.read_csv(\"./data/train_clean_v03.csv\", index_col='id')\n",
    "# train_ids = df_train['id']\n",
    "print(f\"shape of base data with spillovers fixed and duplicates removed: {df_train.shape}\")\n",
    "df_train_class0 = df_train.loc[df_train['target'] == 0, ['text', 'target']]\n",
    "df_train_class1 = df_train.loc[df_train['target'] == 1, ['text', 'target']]\n",
    "print(f\"shape of same base data with target == 0: {df_train_class0.shape}\")\n",
    "print(f\"shape of same base data with target == 1: {df_train_class1.shape}\")"
   ]
  },
  {
   "cell_type": "code",
   "execution_count": 20,
   "id": "be888a52-b74d-49f9-8c6e-1f1181021e6b",
   "metadata": {},
   "outputs": [
    {
     "data": {
      "text/html": [
       "<div>\n",
       "<style scoped>\n",
       "    .dataframe tbody tr th:only-of-type {\n",
       "        vertical-align: middle;\n",
       "    }\n",
       "\n",
       "    .dataframe tbody tr th {\n",
       "        vertical-align: top;\n",
       "    }\n",
       "\n",
       "    .dataframe thead th {\n",
       "        text-align: right;\n",
       "    }\n",
       "</style>\n",
       "<table border=\"1\" class=\"dataframe\">\n",
       "  <thead>\n",
       "    <tr style=\"text-align: right;\">\n",
       "      <th></th>\n",
       "      <th>text</th>\n",
       "      <th>target</th>\n",
       "    </tr>\n",
       "    <tr>\n",
       "      <th>id</th>\n",
       "      <th></th>\n",
       "      <th></th>\n",
       "    </tr>\n",
       "  </thead>\n",
       "  <tbody>\n",
       "    <tr>\n",
       "      <th>23</th>\n",
       "      <td>What's up man?</td>\n",
       "      <td>0</td>\n",
       "    </tr>\n",
       "    <tr>\n",
       "      <th>24</th>\n",
       "      <td>I love fruits</td>\n",
       "      <td>0</td>\n",
       "    </tr>\n",
       "    <tr>\n",
       "      <th>25</th>\n",
       "      <td>Summer is lovely</td>\n",
       "      <td>0</td>\n",
       "    </tr>\n",
       "    <tr>\n",
       "      <th>26</th>\n",
       "      <td>My car is so fast</td>\n",
       "      <td>0</td>\n",
       "    </tr>\n",
       "    <tr>\n",
       "      <th>28</th>\n",
       "      <td>What a goooooooaaaaaal!!!!!!</td>\n",
       "      <td>0</td>\n",
       "    </tr>\n",
       "  </tbody>\n",
       "</table>\n",
       "</div>"
      ],
      "text/plain": [
       "                            text  target\n",
       "id                                      \n",
       "23                What's up man?       0\n",
       "24                 I love fruits       0\n",
       "25              Summer is lovely       0\n",
       "26             My car is so fast       0\n",
       "28  What a goooooooaaaaaal!!!!!!       0"
      ]
     },
     "execution_count": 20,
     "metadata": {},
     "output_type": "execute_result"
    }
   ],
   "source": [
    "# print(type(df_train))  # pandas.core.frame.DataFrame\n",
    "# df_train.set_index('id', inplace=True)\n",
    "df_train_class0.head()"
   ]
  },
  {
   "cell_type": "code",
   "execution_count": 37,
   "id": "3bee7b61-9c62-4b51-bc47-009b7f70c212",
   "metadata": {},
   "outputs": [
    {
     "name": "stdout",
     "output_type": "stream",
     "text": [
      "length of df_train_class0 BEFORE sample: 4277\n",
      "<class 'list'> | samples drawn: [3323, 5886, 153, 4058, 6106, 7421, 3324, 822, 8066, 9289, 2542, 10482, 2912, 8697, 7196, 8116, 8770, 7689, 7488, 3346]\n",
      "length of df_train_class0 AFTER sample: 4257\n"
     ]
    }
   ],
   "source": [
    "import random as rand\n",
    "\n",
    "sample_size = 20\n",
    "\n",
    "print(f\"length of df_train_class0 BEFORE sample: {df_train_class0.shape[0]}\")\n",
    "class0_drawn = rand.sample(df_train_class0.index.to_list(), sample_size)\n",
    "print(f\"{type(class0_drawn)} | samples drawn: {class0_drawn}\")\n",
    "df_train_class0_drawn = df_train_class0.loc[df_train_class0.index.isin(class0_drawn), :]\n",
    "df_train_class0 = df_train_class0.loc[~df_train_class0.index.isin(class0_drawn), :]\n",
    "print(f\"length of df_train_class0 AFTER sample: {df_train_class0.shape[0]}\")\n"
   ]
  },
  {
   "cell_type": "code",
   "execution_count": 40,
   "id": "e4ee477a-326f-4fab-80bc-f5c990f2e9dc",
   "metadata": {
    "scrolled": true
   },
   "outputs": [
    {
     "name": "stdout",
     "output_type": "stream",
     "text": [
      "rows BEFORE sampling: 4297\n",
      "i=0 | length of df_train_class0 BEFORE sample: 4297\n",
      "<class 'list'> | samples drawn: [7309, 10376, 1251, 5912, 4872, 4897, 307, 9596, 396, 5545, 4198, 2278, 347, 1493, 2446, 759, 7393, 10369, 9418, 8236]\n",
      "i=0 | length of df_train_class0 AFTER sample: 4277\n",
      "i=1 | length of df_train_class0 BEFORE sample: 4277\n",
      "<class 'list'> | samples drawn: [7309, 10376, 1251, 5912, 4872, 4897, 307, 9596, 396, 5545, 4198, 2278, 347, 1493, 2446, 759, 7393, 10369, 9418, 8236, 4589, 1223, 7433, 9566, 336, 4489, 5886, 1031, 9919, 3858, 446, 6807, 3609, 3557, 9520, 10663, 4891, 7250, 8390, 7742]\n",
      "i=1 | length of df_train_class0 AFTER sample: 4257\n",
      "rows after 2 samples of size 20: 4257\n"
     ]
    }
   ],
   "source": [
    "# import projtools at pt\n",
    "\n",
    "number_of_samples = 2\n",
    "sample_size = 20\n",
    "class0_drawn = []\n",
    "\n",
    "print(f\"rows BEFORE sampling: {df_train_class0.shape[0]}\")\n",
    "\n",
    "for i in range(0, number_of_samples):\n",
    "    print(f\"i={i} | length of df_train_class0 BEFORE sample: {df_train_class0.shape[0]}\")\n",
    "    class0_drawn.extend(rand.sample(df_train_class0.index.to_list(), sample_size))\n",
    "    print(f\"{type(class0_drawn)} | samples drawn: {class0_drawn}\")\n",
    "    df_train_class0_drawn = df_train_class0.loc[df_train_class0.index.isin(class0_drawn), :]\n",
    "    # remove the drawn samples\n",
    "    df_train_class0 = df_train_class0.loc[~df_train_class0.index.isin(class0_drawn), :]\n",
    "    print(f\"i={i} | length of df_train_class0 AFTER sample: {df_train_class0.shape[0]}\")\n",
    "\n",
    "print(f\"rows after {number_of_samples} samples of size {sample_size}: {df_train_class0.shape[0]}\")\n"
   ]
  },
  {
   "cell_type": "code",
   "execution_count": null,
   "id": "82cb870e-483b-4b27-960d-7c08a2450070",
   "metadata": {},
   "outputs": [],
   "source": []
  },
  {
   "cell_type": "code",
   "execution_count": null,
   "id": "16a6ca77-e9ac-4b63-ab29-e7fda35fe244",
   "metadata": {},
   "outputs": [],
   "source": []
  },
  {
   "cell_type": "code",
   "execution_count": null,
   "id": "8f5c7e65-fb70-42ad-84bc-48f92b04cd40",
   "metadata": {},
   "outputs": [],
   "source": []
  }
 ],
 "metadata": {
  "kernelspec": {
   "display_name": "Python 3 (ipykernel)",
   "language": "python",
   "name": "python3"
  },
  "language_info": {
   "codemirror_mode": {
    "name": "ipython",
    "version": 3
   },
   "file_extension": ".py",
   "mimetype": "text/x-python",
   "name": "python",
   "nbconvert_exporter": "python",
   "pygments_lexer": "ipython3",
   "version": "3.11.6"
  }
 },
 "nbformat": 4,
 "nbformat_minor": 5
}
