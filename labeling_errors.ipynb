{
 "cells": [
  {
   "cell_type": "code",
   "execution_count": null,
   "id": "b1e67918-6943-46b5-b966-ef4edf6a01f0",
   "metadata": {},
   "outputs": [],
   "source": []
  },
  {
   "cell_type": "code",
   "execution_count": null,
   "id": "64aac779-797e-45f9-ad45-518593f8383a",
   "metadata": {},
   "outputs": [],
   "source": []
  },
  {
   "cell_type": "code",
   "execution_count": 1,
   "id": "090c7df6-8db3-41aa-ae38-0447ea1084d5",
   "metadata": {},
   "outputs": [
    {
     "name": "stdout",
     "output_type": "stream",
     "text": [
      "shape of base data with spillovers fixed and duplicates removed: (7485, 4)\n",
      "shape of same base data with target == 0: (4297, 2)\n",
      "shape of same base data with target == 1: (3188, 2)\n"
     ]
    }
   ],
   "source": [
    "import pandas as pd\n",
    "df_train = pd.read_csv(\"./data/train_clean_v03.csv\", index_col='id')\n",
    "# train_ids = df_train['id']\n",
    "print(f\"shape of base data with spillovers fixed and duplicates removed: {df_train.shape}\")\n",
    "df_train_class0 = df_train.loc[df_train['target'] == 0, ['text', 'target']]\n",
    "df_train_class1 = df_train.loc[df_train['target'] == 1, ['text', 'target']]\n",
    "print(f\"shape of same base data with target == 0: {df_train_class0.shape}\")\n",
    "print(f\"shape of same base data with target == 1: {df_train_class1.shape}\")"
   ]
  },
  {
   "cell_type": "code",
   "execution_count": null,
   "id": "be888a52-b74d-49f9-8c6e-1f1181021e6b",
   "metadata": {},
   "outputs": [],
   "source": [
    "# print(type(df_train))  # pandas.core.frame.DataFrame\n",
    "# df_train.set_index('id', inplace=True)\n",
    "df_train_class0.head()"
   ]
  },
  {
   "cell_type": "code",
   "execution_count": null,
   "id": "3bee7b61-9c62-4b51-bc47-009b7f70c212",
   "metadata": {},
   "outputs": [],
   "source": [
    "import random as rand\n",
    "\n",
    "sample_size = 20\n",
    "\n",
    "print(f\"length of df_train_class0 BEFORE sample: {df_train_class0.shape[0]}\")\n",
    "class0_drawn = rand.sample(df_train_class0.index.to_list(), sample_size)\n",
    "print(f\"{type(class0_drawn)} | samples drawn: {class0_drawn}\")\n",
    "df_train_class0_drawn = df_train_class0.loc[df_train_class0.index.isin(class0_drawn), :]\n",
    "df_train_class0 = df_train_class0.loc[~df_train_class0.index.isin(class0_drawn), :]\n",
    "print(f\"length of df_train_class0 AFTER sample: {df_train_class0.shape[0]}\")\n"
   ]
  },
  {
   "cell_type": "code",
   "execution_count": null,
   "id": "e4ee477a-326f-4fab-80bc-f5c990f2e9dc",
   "metadata": {},
   "outputs": [],
   "source": [
    "import random as rand\n",
    "\n",
    "rand.seed(711) # for repeatability\n",
    "out_dir = \"./data/label_errors_in_train_data/\"\n",
    "out_file_prefix = \"class0_sample_\"\n",
    "\n",
    "number_of_samples = 20\n",
    "sample_size = 20\n",
    "class0_drawn = []  # holds indices of drawn samples\n",
    "\n",
    "print(f\"rows BEFORE sampling: {df_train_class0.shape[0]}\")\n",
    "\n",
    "# draw 20 sample of 20\n",
    "for i in range(0, number_of_samples):\n",
    "    print(f\"i={i} | length of df_train_class0 BEFORE sample: {df_train_class0.shape[0]}\")\n",
    "    # draw items for this sample\n",
    "    random_sample = rand.sample(df_train_class0.index.to_list(), sample_size)\n",
    "    class0_drawn.extend(random_sample)\n",
    "    df_train_class0_drawn = df_train_class0.loc[df_train_class0.index.isin(random_sample), :]\n",
    "    # write out the items from this sample\n",
    "    out_file = out_dir + out_file_prefix + str(i+1).zfill(2) + \".csv\"\n",
    "    df_train_class0_drawn.to_csv(out_file, encoding='utf-8')\n",
    "    # remove the drawn samples\n",
    "    df_train_class0 = df_train_class0.loc[~df_train_class0.index.isin(random_sample), :]\n",
    "    print(f\"i={i} | length of df_train_class0 AFTER sample: {df_train_class0.shape[0]}\")\n",
    "\n",
    "print(f\"rows after {number_of_samples} samples of size {sample_size} taken: {df_train_class0.shape[0]}\")\n"
   ]
  },
  {
   "cell_type": "code",
   "execution_count": 2,
   "id": "82cb870e-483b-4b27-960d-7c08a2450070",
   "metadata": {},
   "outputs": [
    {
     "name": "stdout",
     "output_type": "stream",
     "text": [
      "i=0 | length of df_data BEFORE sample: 4297\n",
      "i=0 | length of df_train_class0 AFTER sample: 4277\n",
      "i=1 | length of df_data BEFORE sample: 4277\n",
      "i=1 | length of df_train_class0 AFTER sample: 4257\n",
      "i=2 | length of df_data BEFORE sample: 4257\n",
      "i=2 | length of df_train_class0 AFTER sample: 4237\n",
      "i=3 | length of df_data BEFORE sample: 4237\n",
      "i=3 | length of df_train_class0 AFTER sample: 4217\n",
      "i=4 | length of df_data BEFORE sample: 4217\n",
      "i=4 | length of df_train_class0 AFTER sample: 4197\n",
      "i=5 | length of df_data BEFORE sample: 4197\n",
      "i=5 | length of df_train_class0 AFTER sample: 4177\n",
      "i=6 | length of df_data BEFORE sample: 4177\n",
      "i=6 | length of df_train_class0 AFTER sample: 4157\n",
      "i=7 | length of df_data BEFORE sample: 4157\n",
      "i=7 | length of df_train_class0 AFTER sample: 4137\n",
      "i=8 | length of df_data BEFORE sample: 4137\n",
      "i=8 | length of df_train_class0 AFTER sample: 4117\n",
      "i=9 | length of df_data BEFORE sample: 4117\n",
      "i=9 | length of df_train_class0 AFTER sample: 4097\n",
      "i=10 | length of df_data BEFORE sample: 4097\n",
      "i=10 | length of df_train_class0 AFTER sample: 4077\n",
      "i=11 | length of df_data BEFORE sample: 4077\n",
      "i=11 | length of df_train_class0 AFTER sample: 4057\n",
      "i=12 | length of df_data BEFORE sample: 4057\n",
      "i=12 | length of df_train_class0 AFTER sample: 4037\n",
      "i=13 | length of df_data BEFORE sample: 4037\n",
      "i=13 | length of df_train_class0 AFTER sample: 4017\n",
      "i=14 | length of df_data BEFORE sample: 4017\n",
      "i=14 | length of df_train_class0 AFTER sample: 3997\n",
      "i=15 | length of df_data BEFORE sample: 3997\n",
      "i=15 | length of df_train_class0 AFTER sample: 3977\n",
      "i=16 | length of df_data BEFORE sample: 3977\n",
      "i=16 | length of df_train_class0 AFTER sample: 3957\n",
      "i=17 | length of df_data BEFORE sample: 3957\n",
      "i=17 | length of df_train_class0 AFTER sample: 3937\n",
      "i=18 | length of df_data BEFORE sample: 3937\n",
      "i=18 | length of df_train_class0 AFTER sample: 3917\n",
      "i=19 | length of df_data BEFORE sample: 3917\n",
      "i=19 | length of df_train_class0 AFTER sample: 3897\n",
      "rows after 20 samples of size 20 taken: 3897\n",
      "i=0 | length of df_data BEFORE sample: 3188\n",
      "i=0 | length of df_train_class0 AFTER sample: 3168\n",
      "i=1 | length of df_data BEFORE sample: 3168\n",
      "i=1 | length of df_train_class0 AFTER sample: 3148\n",
      "i=2 | length of df_data BEFORE sample: 3148\n",
      "i=2 | length of df_train_class0 AFTER sample: 3128\n",
      "i=3 | length of df_data BEFORE sample: 3128\n",
      "i=3 | length of df_train_class0 AFTER sample: 3108\n",
      "i=4 | length of df_data BEFORE sample: 3108\n",
      "i=4 | length of df_train_class0 AFTER sample: 3088\n",
      "i=5 | length of df_data BEFORE sample: 3088\n",
      "i=5 | length of df_train_class0 AFTER sample: 3068\n",
      "i=6 | length of df_data BEFORE sample: 3068\n",
      "i=6 | length of df_train_class0 AFTER sample: 3048\n",
      "i=7 | length of df_data BEFORE sample: 3048\n",
      "i=7 | length of df_train_class0 AFTER sample: 3028\n",
      "i=8 | length of df_data BEFORE sample: 3028\n",
      "i=8 | length of df_train_class0 AFTER sample: 3008\n",
      "i=9 | length of df_data BEFORE sample: 3008\n",
      "i=9 | length of df_train_class0 AFTER sample: 2988\n",
      "i=10 | length of df_data BEFORE sample: 2988\n",
      "i=10 | length of df_train_class0 AFTER sample: 2968\n",
      "i=11 | length of df_data BEFORE sample: 2968\n",
      "i=11 | length of df_train_class0 AFTER sample: 2948\n",
      "i=12 | length of df_data BEFORE sample: 2948\n",
      "i=12 | length of df_train_class0 AFTER sample: 2928\n",
      "i=13 | length of df_data BEFORE sample: 2928\n",
      "i=13 | length of df_train_class0 AFTER sample: 2908\n",
      "i=14 | length of df_data BEFORE sample: 2908\n",
      "i=14 | length of df_train_class0 AFTER sample: 2888\n",
      "i=15 | length of df_data BEFORE sample: 2888\n",
      "i=15 | length of df_train_class0 AFTER sample: 2868\n",
      "i=16 | length of df_data BEFORE sample: 2868\n",
      "i=16 | length of df_train_class0 AFTER sample: 2848\n",
      "i=17 | length of df_data BEFORE sample: 2848\n",
      "i=17 | length of df_train_class0 AFTER sample: 2828\n",
      "i=18 | length of df_data BEFORE sample: 2828\n",
      "i=18 | length of df_train_class0 AFTER sample: 2808\n",
      "i=19 | length of df_data BEFORE sample: 2808\n",
      "i=19 | length of df_train_class0 AFTER sample: 2788\n",
      "rows after 20 samples of size 20 taken: 2788\n"
     ]
    }
   ],
   "source": [
    "import projtools as pt\n",
    "\n",
    "df_class0_after_sampling = pt.get_random_samples(df_train_class0, \"class0_sample_\")\n",
    "df_class1_after_sampling = pt.get_random_samples(df_train_class1, \"class1_sample_\")"
   ]
  },
  {
   "cell_type": "code",
   "execution_count": null,
   "id": "16a6ca77-e9ac-4b63-ab29-e7fda35fe244",
   "metadata": {},
   "outputs": [],
   "source": []
  },
  {
   "cell_type": "code",
   "execution_count": null,
   "id": "8f5c7e65-fb70-42ad-84bc-48f92b04cd40",
   "metadata": {},
   "outputs": [],
   "source": []
  }
 ],
 "metadata": {
  "kernelspec": {
   "display_name": "Python 3 (ipykernel)",
   "language": "python",
   "name": "python3"
  },
  "language_info": {
   "codemirror_mode": {
    "name": "ipython",
    "version": 3
   },
   "file_extension": ".py",
   "mimetype": "text/x-python",
   "name": "python",
   "nbconvert_exporter": "python",
   "pygments_lexer": "ipython3",
   "version": "3.11.6"
  }
 },
 "nbformat": 4,
 "nbformat_minor": 5
}
